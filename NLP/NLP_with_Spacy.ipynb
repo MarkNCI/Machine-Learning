{
  "nbformat": 4,
  "nbformat_minor": 0,
  "metadata": {
    "colab": {
      "name": "NLP_with-Spacy",
      "provenance": [],
      "authorship_tag": "ABX9TyMjdOVT1s7X7+JwbD5v1eXt"
    },
    "kernelspec": {
      "name": "python3",
      "display_name": "Python 3"
    }
  },
  "cells": [
    {
      "cell_type": "code",
      "metadata": {
        "id": "f2281S7k-oVs"
      },
      "source": [
        "# NLP tutorial with Spacy\n",
        "# Spacy: leading NLP library\\uses language specific models\n",
        "import spacy\n",
        "nlp = spacy.load('en')"
      ],
      "execution_count": 5,
      "outputs": []
    },
    {
      "cell_type": "code",
      "metadata": {
        "id": "OvKibG3EBMHc",
        "outputId": "e82ecf01-51ee-4fca-b09c-440ee8f0a215",
        "colab": {
          "base_uri": "https://localhost:8080/"
        }
      },
      "source": [
        "# Tokenise text\n",
        "# Token: Unit of text in a document\n",
        "doc = nlp('I love coding in Python, do you?')\n",
        "\n",
        "for token in doc:\n",
        "  print(token) "
      ],
      "execution_count": 6,
      "outputs": [
        {
          "output_type": "stream",
          "text": [
            "I\n",
            "love\n",
            "coding\n",
            "in\n",
            "Python\n",
            ",\n",
            "do\n",
            "you\n",
            "?\n"
          ],
          "name": "stdout"
        }
      ]
    },
    {
      "cell_type": "code",
      "metadata": {
        "id": "N32mwndfBseg",
        "outputId": "b963514f-3657-486a-a96e-128b89a00b1c",
        "colab": {
          "base_uri": "https://localhost:8080/"
        }
      },
      "source": [
        "# Preprocess text to remove model\n",
        "# Remove stopwords\\lemmatisise words (running = run)\n",
        "print(f'Token \\t\\tLemma \\t\\tStopWord'.format('Token','Lemma','StopWord'))\n",
        "print('-'*40)\n",
        "\n",
        "for token in doc:\n",
        "  print(f'{str(token)}\\t\\t{token.lemma_}\\t\\t{token.is_stop}')"
      ],
      "execution_count": 7,
      "outputs": [
        {
          "output_type": "stream",
          "text": [
            "Token \t\tLemma \t\tStopWord\n",
            "----------------------------------------\n",
            "I\t\t-PRON-\t\tTrue\n",
            "love\t\tlove\t\tFalse\n",
            "coding\t\tcode\t\tFalse\n",
            "in\t\tin\t\tTrue\n",
            "Python\t\tPython\t\tFalse\n",
            ",\t\t,\t\tFalse\n",
            "do\t\tdo\t\tTrue\n",
            "you\t\t-PRON-\t\tTrue\n",
            "?\t\t?\t\tFalse\n"
          ],
          "name": "stdout"
        }
      ]
    },
    {
      "cell_type": "code",
      "metadata": {
        "id": "2VuWG_qDDWis",
        "outputId": "cf629b1c-0f26-4812-8109-bd4384ee325a",
        "colab": {
          "base_uri": "https://localhost:8080/"
        }
      },
      "source": [
        "# Pattern Matching\n",
        "# Search a document for matching terms\n",
        "from spacy.matcher import PhraseMatcher\n",
        "matcher = PhraseMatcher(nlp.vocab, attr='LOWER') # Case Insensitive\n",
        "\n",
        "terms = ['Galaxy Note', 'iPhone 11', 'iPhone XS', 'Google Pixel']\n",
        "patterns = [nlp(text) for text in terms]\n",
        "matcher.add(\"Terminology List:\", patterns)\n",
        "\n",
        "text_doc = nlp(\"Glowing review overall, and some really interesting side-by-side \"\n",
        "               \"photography tests pitting the iPhone 11 Pro against the \"\n",
        "               \"Galaxy Note 10 Plus and last year’s iPhone XS and Google Pixel 3.\") \n",
        "matches = matcher(text_doc)\n",
        "\n",
        "match_id, start, end = matches[0]\n",
        "print(nlp.vocab.strings[match_id], text_doc[start:end])"
      ],
      "execution_count": 12,
      "outputs": [
        {
          "output_type": "stream",
          "text": [
            "Terminology List: iPhone 11\n"
          ],
          "name": "stdout"
        }
      ]
    }
  ]
}
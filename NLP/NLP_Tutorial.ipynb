{
  "nbformat": 4,
  "nbformat_minor": 0,
  "metadata": {
    "colab": {
      "name": "NLP Tutorial",
      "provenance": [],
      "authorship_tag": "ABX9TyO6ZPsBRZivnLS2I1pg6PZ5"
    },
    "kernelspec": {
      "name": "python3",
      "display_name": "Python 3"
    }
  },
  "cells": [
    {
      "cell_type": "code",
      "metadata": {
        "id": "CONQyYrSYrcz",
        "colab_type": "code",
        "colab": {}
      },
      "source": [
        "#https://towardsdatascience.com/build-and-compare-3-models-nlp-sentiment-prediction-67320979de61"
      ],
      "execution_count": null,
      "outputs": []
    }
  ]
}
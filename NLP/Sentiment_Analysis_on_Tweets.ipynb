{
  "nbformat": 4,
  "nbformat_minor": 0,
  "metadata": {
    "colab": {
      "name": "Sentiment Analysis on Movies",
      "provenance": [],
      "authorship_tag": "ABX9TyNrFo/Z+ffaYFKJyPN+dO6C"
    },
    "kernelspec": {
      "name": "python3",
      "display_name": "Python 3"
    }
  },
  "cells": [
    {
      "cell_type": "code",
      "metadata": {
        "id": "LiKCf9we6MYl",
        "colab_type": "code",
        "colab": {}
      },
      "source": [
        "# Supervised Learning/Field of Text Classification\n",
        "# From some corpus, classify if positive, negative or neutral\n",
        "# Corpus typically called a document, can be large or short\n",
        "\n",
        "## Bag of Words: \n",
        "# Think table with column for words + number of times it appears in document"
      ],
      "execution_count": 0,
      "outputs": []
    },
    {
      "cell_type": "code",
      "metadata": {
        "id": "soD1u4PW5x-p",
        "colab_type": "code",
        "colab": {}
      },
      "source": [
        "## Sentiment Analyis on IMDb movie reviews\n",
        "\n"
      ],
      "execution_count": 0,
      "outputs": []
    }
  ]
}
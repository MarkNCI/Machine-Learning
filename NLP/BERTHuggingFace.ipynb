{
  "nbformat": 4,
  "nbformat_minor": 0,
  "metadata": {
    "colab": {
      "name": "BERTHuggingFace.ipynb",
      "provenance": [],
      "authorship_tag": "ABX9TyNefAXGYt/mbzGMmarrlrSq"
    },
    "kernelspec": {
      "name": "python3",
      "display_name": "Python 3"
    }
  },
  "cells": [
    {
      "cell_type": "code",
      "metadata": {
        "id": "aQO9mXYwB1tS"
      },
      "source": [
        "import torch\n"
      ],
      "execution_count": 1,
      "outputs": []
    }
  ]
}
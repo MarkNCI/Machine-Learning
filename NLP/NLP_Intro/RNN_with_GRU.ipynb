{
  "nbformat": 4,
  "nbformat_minor": 0,
  "metadata": {
    "colab": {
      "name": "RNN with GRU.ipynb",
      "provenance": [],
      "authorship_tag": "ABX9TyM9StYPitxfSGVgt5yFtysR"
    },
    "kernelspec": {
      "name": "python3",
      "display_name": "Python 3"
    },
    "accelerator": "GPU"
  },
  "cells": [
    {
      "cell_type": "code",
      "metadata": {
        "id": "zkHmWIJDu4je"
      },
      "source": [
        "# Sentiment Classficiation on IMDB using Gated Recurrent Units (GRU)\r\n",
        "from keras.datasets import imdb\r\n",
        "from keras.preprocessing import sequence\r\n",
        "from keras.models import Sequential\r\n",
        "from keras.layers import Embedding, Dense, GRU\r\n",
        "import matplotlib.pyplot as plt"
      ],
      "execution_count": 1,
      "outputs": []
    },
    {
      "cell_type": "code",
      "metadata": {
        "colab": {
          "base_uri": "https://localhost:8080/"
        },
        "id": "UlAOfwVRtts6",
        "outputId": "bb365856-02b2-47f2-b611-1657b041c572"
      },
      "source": [
        "# max number of words + set sequence length\r\n",
        "max_features = 10000\r\n",
        "maxlen = 500\r\n",
        "\r\n",
        "(X_train,y_train),(X_test,y_test) = imdb.load_data(num_words=max_features)\r\n",
        "print('Num Train Sequences',len(X_train))\r\n",
        "print('Num Test Sequences',len(X_test))"
      ],
      "execution_count": 6,
      "outputs": [
        {
          "output_type": "stream",
          "text": [
            "Num Train Sequences 25000\n",
            "Num Test Sequences 25000\n"
          ],
          "name": "stdout"
        }
      ]
    },
    {
      "cell_type": "code",
      "metadata": {
        "colab": {
          "base_uri": "https://localhost:8080/"
        },
        "id": "k4FwNlLouw-f",
        "outputId": "f1dd5c06-4a0d-4359-b04d-51666b4cb0f3"
      },
      "source": [
        "# If sequences < 500, pad them out to have length of 500\r\n",
        "X_train = sequence.pad_sequences(X_train,maxlen=maxlen)\r\n",
        "X_test = sequence.pad_sequences(X_test,maxlen=maxlen)\r\n",
        "\r\n",
        "print(X_train.shape)\r\n",
        "print(X_test.shape)"
      ],
      "execution_count": 8,
      "outputs": [
        {
          "output_type": "stream",
          "text": [
            "(25000, 500)\n",
            "(25000, 500)\n"
          ],
          "name": "stdout"
        }
      ]
    },
    {
      "cell_type": "code",
      "metadata": {
        "id": "GSXXQ_0qv14R"
      },
      "source": [
        "# RNN with GRU unit\r\n",
        "model = Sequential()\r\n",
        "# Set input vectors to fixed size (take 10k as input,next GRU layer expects 32 inputs)\r\n",
        "model.add(Embedding(max_features,32))\r\n",
        "# GRU and Dense layer\r\n",
        "model.add(GRU(32))\r\n",
        "# 1 value = probabity of the review being 1\r\n",
        "model.add(Dense(1, activation='sigmoid'))"
      ],
      "execution_count": 11,
      "outputs": []
    },
    {
      "cell_type": "code",
      "metadata": {
        "colab": {
          "base_uri": "https://localhost:8080/"
        },
        "id": "aWofh8wLx4Ci",
        "outputId": "43bf5259-5101-4296-d547-1456d8c99b5e"
      },
      "source": [
        "# Compile model and Track Accuracy\r\n",
        "model.compile(optimizer='rmsprop',loss='binary_crossentropy',metrics=['accuracy'])\r\n",
        "history = model.fit(X_train, y_train, epochs=10, batch_size=128, validation_split=0.2)"
      ],
      "execution_count": 12,
      "outputs": [
        {
          "output_type": "stream",
          "text": [
            "Epoch 1/10\n",
            "157/157 [==============================] - 15s 94ms/step - loss: 0.5483 - accuracy: 0.7228 - val_loss: 0.3679 - val_accuracy: 0.8406\n",
            "Epoch 2/10\n",
            "157/157 [==============================] - 14s 92ms/step - loss: 0.3189 - accuracy: 0.8677 - val_loss: 0.3602 - val_accuracy: 0.8404\n",
            "Epoch 3/10\n",
            "157/157 [==============================] - 14s 92ms/step - loss: 0.2577 - accuracy: 0.8970 - val_loss: 0.3578 - val_accuracy: 0.8540\n",
            "Epoch 4/10\n",
            "157/157 [==============================] - 14s 92ms/step - loss: 0.2228 - accuracy: 0.9135 - val_loss: 0.3035 - val_accuracy: 0.8790\n",
            "Epoch 5/10\n",
            "157/157 [==============================] - 14s 92ms/step - loss: 0.1933 - accuracy: 0.9279 - val_loss: 0.3110 - val_accuracy: 0.8774\n",
            "Epoch 6/10\n",
            "157/157 [==============================] - 14s 91ms/step - loss: 0.1716 - accuracy: 0.9374 - val_loss: 0.3324 - val_accuracy: 0.8584\n",
            "Epoch 7/10\n",
            "157/157 [==============================] - 14s 91ms/step - loss: 0.1514 - accuracy: 0.9457 - val_loss: 0.3347 - val_accuracy: 0.8634\n",
            "Epoch 8/10\n",
            "157/157 [==============================] - 14s 91ms/step - loss: 0.1460 - accuracy: 0.9477 - val_loss: 0.3502 - val_accuracy: 0.8582\n",
            "Epoch 9/10\n",
            "157/157 [==============================] - 14s 91ms/step - loss: 0.1306 - accuracy: 0.9527 - val_loss: 0.4232 - val_accuracy: 0.8714\n",
            "Epoch 10/10\n",
            "157/157 [==============================] - 14s 91ms/step - loss: 0.1208 - accuracy: 0.9571 - val_loss: 0.3569 - val_accuracy: 0.8674\n"
          ],
          "name": "stdout"
        }
      ]
    },
    {
      "cell_type": "code",
      "metadata": {
        "colab": {
          "base_uri": "https://localhost:8080/",
          "height": 545
        },
        "id": "7QywDCiQyhfs",
        "outputId": "5165cb4c-7200-4568-e4a9-9bc514fd1e4f"
      },
      "source": [
        "def plot_results(history):\r\n",
        "  acc = history.history['accuracy']\r\n",
        "  val_acc = history.history['val_accuracy']\r\n",
        "  loss = history.history['loss']\r\n",
        "  val_loss = history.history['val_loss']\r\n",
        "\r\n",
        "  epochs = range(1,len(acc)+1)\r\n",
        "  plt.plot(epochs,acc,'bo',label='Training Accuracy')\r\n",
        "  plt.plot(epochs,val_acc,'b',label='Validation Accuracy')\r\n",
        "\r\n",
        "  plt.title('Training and Vaidation Accuracy')\r\n",
        "  plt.legend()\r\n",
        "  plt.figure()\r\n",
        "  plt.plot(epochs,loss,'bo',label='Training Loss')\r\n",
        "  plt.plot(epochs,val_loss,'b',label='Validation Loss')\r\n",
        "  plt.title('Training and Vaidation Loss')\r\n",
        "  plt.legend()\r\n",
        "  plt.show()\r\n",
        "\r\n",
        "plot_results(history)"
      ],
      "execution_count": 14,
      "outputs": [
        {
          "output_type": "display_data",
          "data": {
            "image/png": "[encoded data removed]",
            "text/plain": [
              "<Figure size 432x288 with 1 Axes>"
            ]
          },
          "metadata": {
            "tags": [],
            "needs_background": "light"
          }
        },
        {
          "output_type": "display_data",
          "data": {
            "image/png": "[encoded data removed]",
            "text/plain": [
              "<Figure size 432x288 with 1 Axes>"
            ]
          },
          "metadata": {
            "tags": [],
            "needs_background": "light"
          }
        }
      ]
    }
  ]
}
{
  "nbformat": 4,
  "nbformat_minor": 0,
  "metadata": {
    "colab": {
      "name": "RNN.ipynb",
      "provenance": [],
      "authorship_tag": "ABX9TyMg7fBg4/NYRlHhGXLrxxh9"
    },
    "kernelspec": {
      "name": "python3",
      "display_name": "Python 3"
    },
    "accelerator": "GPU"
  },
  "cells": [
    {
      "cell_type": "code",
      "metadata": {
        "id": "BWLdETSd4fTQ"
      },
      "source": [
        "# RNN showing the Stability of Parameters over Time\r\n",
        "from keras.models import Sequential\r\n",
        "from keras.layers import SimpleRNN, Dense"
      ],
      "execution_count": 1,
      "outputs": []
    },
    {
      "cell_type": "code",
      "metadata": {
        "colab": {
          "base_uri": "https://localhost:8080/"
        },
        "id": "AkcjAv9JOdt8",
        "outputId": "0ab42a3e-c609-4a6f-df72-61faf715d5ac"
      },
      "source": [
        "# Define Model and Layers without returning sequences\r\n",
        "model = Sequential()\r\n",
        "# Recurrent Layer\r\n",
        "model.add(SimpleRNN(64,input_shape=(10,100),return_sequences=False))\r\n",
        "# Fully connected layer\r\n",
        "model.add(Dense(64,activation='relu'))\r\n",
        "# Output layer\r\n",
        "model.add(Dense(100,activation='softmax'))\r\n",
        "\r\n",
        "model.summary()"
      ],
      "execution_count": 4,
      "outputs": [
        {
          "output_type": "stream",
          "text": [
            "Model: \"sequential_2\"\n",
            "_________________________________________________________________\n",
            "Layer (type)                 Output Shape              Param #   \n",
            "=================================================================\n",
            "simple_rnn_1 (SimpleRNN)     (None, 64)                10560     \n",
            "_________________________________________________________________\n",
            "dense (Dense)                (None, 64)                4160      \n",
            "_________________________________________________________________\n",
            "dense_1 (Dense)              (None, 100)               6500      \n",
            "=================================================================\n",
            "Total params: 21,220\n",
            "Trainable params: 21,220\n",
            "Non-trainable params: 0\n",
            "_________________________________________________________________\n"
          ],
          "name": "stdout"
        }
      ]
    },
    {
      "cell_type": "code",
      "metadata": {
        "colab": {
          "base_uri": "https://localhost:8080/"
        },
        "id": "wZWOibzePblk",
        "outputId": "5ea5c1b9-10e5-47ab-ef9b-edf31f677281"
      },
      "source": [
        "# Define Model and Layers while returning sequences\r\n",
        "model = Sequential()\r\n",
        "# Recurrent Layer\r\n",
        "model.add(SimpleRNN(64,input_shape=(10,100),return_sequences=True))\r\n",
        "# Fully connected layer\r\n",
        "model.add(Dense(64,activation='relu'))\r\n",
        "# Output layer\r\n",
        "model.add(Dense(100,activation='softmax'))\r\n",
        "\r\n",
        "model.summary()"
      ],
      "execution_count": 5,
      "outputs": [
        {
          "output_type": "stream",
          "text": [
            "Model: \"sequential_3\"\n",
            "_________________________________________________________________\n",
            "Layer (type)                 Output Shape              Param #   \n",
            "=================================================================\n",
            "simple_rnn_2 (SimpleRNN)     (None, 10, 64)            10560     \n",
            "_________________________________________________________________\n",
            "dense_2 (Dense)              (None, 10, 64)            4160      \n",
            "_________________________________________________________________\n",
            "dense_3 (Dense)              (None, 10, 100)           6500      \n",
            "=================================================================\n",
            "Total params: 21,220\n",
            "Trainable params: 21,220\n",
            "Non-trainable params: 0\n",
            "_________________________________________________________________\n"
          ],
          "name": "stdout"
        }
      ]
    },
    {
      "cell_type": "code",
      "metadata": {
        "colab": {
          "base_uri": "https://localhost:8080/"
        },
        "id": "EZjRwO4PP4nA",
        "outputId": "7e38433b-067f-44f0-f09a-95194adfd277"
      },
      "source": [
        "# Define Model and Layers while changing timestamps\r\n",
        "model = Sequential()\r\n",
        "# Recurrent Layer\r\n",
        "model.add(SimpleRNN(64,input_shape=(1000,100),return_sequences=True))\r\n",
        "# Fully connected layer\r\n",
        "model.add(Dense(64,activation='relu'))\r\n",
        "# Output layer\r\n",
        "model.add(Dense(100,activation='softmax'))\r\n",
        "\r\n",
        "model.summary()"
      ],
      "execution_count": 6,
      "outputs": [
        {
          "output_type": "stream",
          "text": [
            "Model: \"sequential_4\"\n",
            "_________________________________________________________________\n",
            "Layer (type)                 Output Shape              Param #   \n",
            "=================================================================\n",
            "simple_rnn_3 (SimpleRNN)     (None, 1000, 64)          10560     \n",
            "_________________________________________________________________\n",
            "dense_4 (Dense)              (None, 1000, 64)          4160      \n",
            "_________________________________________________________________\n",
            "dense_5 (Dense)              (None, 1000, 100)         6500      \n",
            "=================================================================\n",
            "Total params: 21,220\n",
            "Trainable params: 21,220\n",
            "Non-trainable params: 0\n",
            "_________________________________________________________________\n"
          ],
          "name": "stdout"
        }
      ]
    }
  ]
}
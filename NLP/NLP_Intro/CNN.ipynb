{
  "nbformat": 4,
  "nbformat_minor": 0,
  "metadata": {
    "colab": {
      "name": "CNN.ipynb",
      "provenance": [],
      "authorship_tag": "ABX9TyMOwkL8duO9UpCNdKy8mxUr"
    },
    "kernelspec": {
      "name": "python3",
      "display_name": "Python 3"
    },
    "accelerator": "GPU"
  },
  "cells": [
    {
      "cell_type": "code",
      "metadata": {
        "id": "oM-Mbfs3o3Sz"
      },
      "source": [
        "%matplotlib inline\r\n",
        "import keras\r\n",
        "from keras.models import Sequential # Stacks layers\r\n",
        "from keras.layers import Dense, Conv2D, Flatten, MaxPooling2D, Dropout\r\n",
        "from keras.utils import plot_model, to_categorical\r\n",
        "from keras.datasets import reuters\r\n",
        "from keras import layers\r\n",
        "from keras.preprocessing.text import Tokenizer\r\n",
        "from tensorflow.keras.callbacks import EarlyStopping\r\n",
        "import matplotlib.pyplot as plt\r\n",
        "import numpy as np"
      ],
      "execution_count": 34,
      "outputs": []
    },
    {
      "cell_type": "code",
      "metadata": {
        "colab": {
          "base_uri": "https://localhost:8080/",
          "height": 282
        },
        "id": "aL7103syrdhA",
        "outputId": "ce8457c1-213f-4958-a69a-6e886e24d72c"
      },
      "source": [
        "# Sample CNN on mnist dataset\r\n",
        "(X_train,y_train),(X_test,y_test) = keras.datasets.mnist.load_data()\r\n",
        "sample_image = X_train[0]\r\n",
        "plt.imshow(sample_image)\r\n",
        "# Each pixel is a number between 0 and 255 (28*28)\r\n",
        "print(sample_image[22][11])"
      ],
      "execution_count": 19,
      "outputs": [
        {
          "output_type": "stream",
          "text": [
            "253\n"
          ],
          "name": "stdout"
        },
        {
          "output_type": "display_data",
          "data": {
            "image/png": "[encoded data removed]",
            "text/plain": [
              "<Figure size 432x288 with 1 Axes>"
            ]
          },
          "metadata": {
            "tags": [],
            "needs_background": "light"
          }
        }
      ]
    },
    {
      "cell_type": "code",
      "metadata": {
        "colab": {
          "base_uri": "https://localhost:8080/",
          "height": 466
        },
        "id": "IE6r_8y6xVdD",
        "outputId": "83906e87-5c25-4262-8bc4-d9db0990e4ae"
      },
      "source": [
        "# Sample CNN Architecture\r\n",
        "num_classes = 10\r\n",
        "model = Sequential()\r\n",
        "# Stop training model \r\n",
        "early_stopping = EarlyStopping()\r\n",
        "\r\n",
        "model.add(Conv2D(64,kernel_size=3,activation='relu',input_shape=(28,28,1)))\r\n",
        "model.add(Conv2D(64,kernel_size=3,activation='relu'))\r\n",
        "model.add(Flatten())\r\n",
        "model.add(Dense(num_classes,activation='softmax'))\r\n",
        "\r\n",
        "# model.summary()\r\n",
        "plot_model(model,to_file='model.png')"
      ],
      "execution_count": 20,
      "outputs": [
        {
          "output_type": "execute_result",
          "data": {
            "image/png": "[encoded data removed]",
            "text/plain": [
              "<IPython.core.display.Image object>"
            ]
          },
          "metadata": {
            "tags": []
          },
          "execution_count": 20
        }
      ]
    },
    {
      "cell_type": "code",
      "metadata": {
        "colab": {
          "base_uri": "https://localhost:8080/"
        },
        "id": "Pisncney1JAO",
        "outputId": "66c0b0c6-a7fb-43f2-a25e-3f68c58e8fd6"
      },
      "source": [
        "# Training the above model\r\n",
        "(X_train,y_train),(X_test,y_test) = keras.datasets.mnist.load_data()\r\n",
        "\r\n",
        "# Reshape data for model\r\n",
        "X_train = X_train.reshape(60000,28,28,1) # 60k training samples\r\n",
        "X_test = X_test.reshape(10000,28,28,1)\r\n",
        "\r\n",
        "# One hot encoding (represent categorical variables as binary vectors)\r\n",
        "y_train = to_categorical(y_train)\r\n",
        "y_test = to_categorical(y_test)\r\n",
        "\r\n",
        "model.compile(optimizer='adam',loss='categorical_crossentropy',metrics=['accuracy'])\r\n",
        "model.fit(X_train,y_train,validation_data=(X_test,y_test),epochs=12,callbacks=[early_stopping])"
      ],
      "execution_count": 25,
      "outputs": [
        {
          "output_type": "stream",
          "text": [
            "Epoch 1/12\n",
            "1875/1875 [==============================] - 7s 4ms/step - loss: 0.2718 - accuracy: 0.9525 - val_loss: 0.0919 - val_accuracy: 0.9717\n",
            "Epoch 2/12\n",
            "1875/1875 [==============================] - 7s 4ms/step - loss: 0.0666 - accuracy: 0.9802 - val_loss: 0.0976 - val_accuracy: 0.9734\n"
          ],
          "name": "stdout"
        },
        {
          "output_type": "execute_result",
          "data": {
            "text/plain": [
              "<tensorflow.python.keras.callbacks.History at 0x7f281bd28240>"
            ]
          },
          "metadata": {
            "tags": []
          },
          "execution_count": 25
        }
      ]
    },
    {
      "cell_type": "code",
      "metadata": {
        "colab": {
          "base_uri": "https://localhost:8080/"
        },
        "id": "s-6eTDvp4BAL",
        "outputId": "732e7e6e-d68c-47d9-cf45-8a575db583be"
      },
      "source": [
        "# Loss/Accuracy: Training set, val_loss/val_accuracy on validation data\r\n",
        "score = model.evaluate(X_test,y_test,verbose=0)\r\n",
        "print('Test Loss:', score[0])\r\n",
        "print('Test Accuracy:',score[1])"
      ],
      "execution_count": 26,
      "outputs": [
        {
          "output_type": "stream",
          "text": [
            "Test Loss: 0.09760171920061111\n",
            "Test Accuracy: 0.9733999967575073\n"
          ],
          "name": "stdout"
        }
      ]
    },
    {
      "cell_type": "code",
      "metadata": {
        "id": "ZFkr3pjvNdTN"
      },
      "source": [
        "# CNN for NLP (Reuters News Topic Classification)\r\n",
        "(X_train, y_train),(X_test,y_test) = reuters.load_data(num_words=None,test_split=0.2)\r\n",
        "\r\n",
        "batch_size = 32\r\n",
        "epochs = 12\r\n",
        "maxlen = 10000\r\n",
        "embedding_dim = 128\r\n",
        "num_filters = 64\r\n",
        "kernal_size = 5"
      ],
      "execution_count": 37,
      "outputs": []
    },
    {
      "cell_type": "code",
      "metadata": {
        "id": "Bb-cDHLq8WZ7"
      },
      "source": [
        "# Data prep\r\n",
        "word_index = reuters.get_word_index(path='reuters_word_index.json')\r\n",
        "num_classes = max(y_train) + 1\r\n",
        "index_to_word = {}\r\n",
        "for key, value in word_index.items():\r\n",
        "  index_to_word[value] = key"
      ],
      "execution_count": 38,
      "outputs": []
    },
    {
      "cell_type": "code",
      "metadata": {
        "id": "mLgpP1uxK-_T"
      },
      "source": [
        "# Tokenise Input Data\r\n",
        "tokeniser = Tokenizer(num_words=maxlen)\r\n",
        "X_train = tokeniser.sequences_to_matrix(X_train,mode='binary')\r\n",
        "X_test = tokeniser.sequences_to_matrix(X_test,mode='binary')\r\n",
        "\r\n",
        "y_train = keras.utils.to_categorical(y_train,num_classes)\r\n",
        "y_test = keras.utils.to_categorical(y_test,num_classes)"
      ],
      "execution_count": 39,
      "outputs": []
    },
    {
      "cell_type": "code",
      "metadata": {
        "id": "hI2jmtiAL6fJ"
      },
      "source": [
        "# Define model\r\n",
        "model = Sequential()\r\n",
        "model.add(layers.Embedding(512,embedding_dim,input_length=maxlen))\r\n",
        "model.add(layers.Conv1D(num_filters,kernal_size,activation='relu'))\r\n",
        "model.add(layers.GlobalMaxPooling1D())\r\n",
        "model.add(layers.Dense(10,activation='relu'))\r\n",
        "model.add(layers.Dense(num_classes,activation='softmax'))\r\n",
        "\r\n",
        "# Compile and get Accuracy\r\n",
        "model.compile(loss='categorical_crossentropy',optimizer='adam',metrics=['accuracy'])"
      ],
      "execution_count": 40,
      "outputs": []
    },
    {
      "cell_type": "code",
      "metadata": {
        "colab": {
          "base_uri": "https://localhost:8080/"
        },
        "id": "6BAKKBsiNSlC",
        "outputId": "eda67f9b-9e07-47f3-f8e7-0b460308d50f"
      },
      "source": [
        "# Train and Evaluate\r\n",
        "history = model.fit(X_train,y_train,batch_size=batch_size,epochs=epochs,verbose=1,\r\n",
        "                    validation_split=0.1)\r\n",
        "\r\n",
        "score = model.evaluate(X_test,y_test,batch_size=batch_size,verbose=1)\r\n",
        "print('Test Loss:',score[0])\r\n",
        "print('Test Accuracy:',score[1])"
      ],
      "execution_count": 42,
      "outputs": [
        {
          "output_type": "stream",
          "text": [
            "Epoch 1/12\n",
            "253/253 [==============================] - 25s 98ms/step - loss: 2.4418 - accuracy: 0.3677 - val_loss: 2.3579 - val_accuracy: 0.4038\n",
            "Epoch 2/12\n",
            "253/253 [==============================] - 24s 97ms/step - loss: 2.2583 - accuracy: 0.4084 - val_loss: 2.3151 - val_accuracy: 0.4138\n",
            "Epoch 3/12\n",
            "253/253 [==============================] - 24s 97ms/step - loss: 2.2382 - accuracy: 0.4105 - val_loss: 2.3058 - val_accuracy: 0.4027\n",
            "Epoch 4/12\n",
            "253/253 [==============================] - 24s 97ms/step - loss: 2.2227 - accuracy: 0.4253 - val_loss: 2.2847 - val_accuracy: 0.4283\n",
            "Epoch 5/12\n",
            "253/253 [==============================] - 24s 97ms/step - loss: 2.2096 - accuracy: 0.4260 - val_loss: 2.2919 - val_accuracy: 0.4182\n",
            "Epoch 6/12\n",
            "253/253 [==============================] - 24s 97ms/step - loss: 2.2030 - accuracy: 0.4349 - val_loss: 2.2769 - val_accuracy: 0.4338\n",
            "Epoch 7/12\n",
            "253/253 [==============================] - 24s 97ms/step - loss: 2.2016 - accuracy: 0.4287 - val_loss: 2.2605 - val_accuracy: 0.4294\n",
            "Epoch 8/12\n",
            "253/253 [==============================] - 24s 97ms/step - loss: 2.1928 - accuracy: 0.4351 - val_loss: 2.2797 - val_accuracy: 0.3637\n",
            "Epoch 9/12\n",
            "253/253 [==============================] - 24s 97ms/step - loss: 2.1888 - accuracy: 0.4326 - val_loss: 2.2621 - val_accuracy: 0.4283\n",
            "Epoch 10/12\n",
            "253/253 [==============================] - 24s 96ms/step - loss: 2.1899 - accuracy: 0.4290 - val_loss: 2.2729 - val_accuracy: 0.4360\n",
            "Epoch 11/12\n",
            "253/253 [==============================] - 24s 96ms/step - loss: 2.1867 - accuracy: 0.4316 - val_loss: 2.2454 - val_accuracy: 0.4305\n",
            "Epoch 12/12\n",
            "253/253 [==============================] - 25s 97ms/step - loss: 2.1780 - accuracy: 0.4352 - val_loss: 2.2572 - val_accuracy: 0.4238\n",
            "71/71 [==============================] - 3s 40ms/step - loss: 2.2045 - accuracy: 0.4221\n",
            "Test Loss: 2.204498052597046\n",
            "Test Accuracy: 0.42208370566368103\n"
          ],
          "name": "stdout"
        }
      ]
    }
  ]
}
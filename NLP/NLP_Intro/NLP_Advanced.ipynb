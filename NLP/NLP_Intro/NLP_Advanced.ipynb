{
  "nbformat": 4,
  "nbformat_minor": 0,
  "metadata": {
    "colab": {
      "name": "NLP_Advanced.ipynb",
      "provenance": [],
      "authorship_tag": "ABX9TyMqbijAomjOSq/8ptbj4Pq0"
    },
    "kernelspec": {
      "name": "python3",
      "display_name": "Python 3"
    }
  },
  "cells": [
    {
      "cell_type": "code",
      "metadata": {
        "colab": {
          "base_uri": "https://localhost:8080/"
        },
        "id": "4UytqUYkmpS8",
        "outputId": "cda07397-b5f4-44d1-9a14-a328159d7ce8"
      },
      "source": [
        "# Parts of Speech: Tagging words in a corpus\r\n",
        "# Rules-Based POS Tagging: Tag words as Noun, Verb etc.\r\n",
        "import nltk\r\n",
        "nltk.download('punkt')\r\n",
        "nltk.download('averaged_perceptron_tagger')\r\n",
        "nltk.download('tagsets')"
      ],
      "execution_count": 1,
      "outputs": [
        {
          "output_type": "stream",
          "text": [
            "[nltk_data] Downloading package punkt to /root/nltk_data...\n",
            "[nltk_data]   Unzipping tokenizers/punkt.zip.\n",
            "[nltk_data] Downloading package averaged_perceptron_tagger to\n",
            "[nltk_data]     /root/nltk_data...\n",
            "[nltk_data]   Unzipping taggers/averaged_perceptron_tagger.zip.\n",
            "[nltk_data] Downloading package tagsets to /root/nltk_data...\n",
            "[nltk_data]   Unzipping help/tagsets.zip.\n"
          ],
          "name": "stdout"
        },
        {
          "output_type": "execute_result",
          "data": {
            "text/plain": [
              "True"
            ]
          },
          "metadata": {
            "tags": []
          },
          "execution_count": 1
        }
      ]
    },
    {
      "cell_type": "code",
      "metadata": {
        "colab": {
          "base_uri": "https://localhost:8080/"
        },
        "id": "epRjRv7_y7vi",
        "outputId": "5626a6e7-0ae5-4fa7-ccdb-add847ad6b2a"
      },
      "source": [
        "# Tokenise and Tag Words\r\n",
        "sentence = 'i enjoy the piano'\r\n",
        "tokens = nltk.word_tokenize(sentence)\r\n",
        "tags = nltk.pos_tag(tokens)\r\n",
        "print(tags,'\\n')\r\n",
        "\r\n",
        "nltk.help.upenn_tagset('NN')"
      ],
      "execution_count": 2,
      "outputs": [
        {
          "output_type": "stream",
          "text": [
            "[('i', 'NN'), ('enjoy', 'VBP'), ('the', 'DT'), ('piano', 'NN')] \n",
            "\n",
            "NN: noun, common, singular or mass\n",
            "    common-carrier cabbage knuckle-duster Casino afghan shed thermostat\n",
            "    investment slide humour falloff slick wind hyena override subhumanity\n",
            "    machinist ...\n"
          ],
          "name": "stdout"
        }
      ]
    },
    {
      "cell_type": "code",
      "metadata": {
        "id": "xQltPf6szkUB"
      },
      "source": [
        "# Stochastic POS Tagging: # Use anything other than rules-based methods.\r\n",
        "\r\n",
        "# Unigram/Word Frequency Approach: Tag a word based on based on the probablity that\r\n",
        "# similar word has tag. E.g. Beaut would be tagged as ADJ if Beautiful is in dataset\r\n",
        "# N-Gram: N is how many words are considered when matching term with word in corpus\r\n",
        "# Unigram appraoch sets n=1\r\n",
        "# Hidden Markov Model combines both"
      ],
      "execution_count": 3,
      "outputs": []
    },
    {
      "cell_type": "code",
      "metadata": {
        "colab": {
          "base_uri": "https://localhost:8080/",
          "height": 763
        },
        "id": "S4r55S0X1IWK",
        "outputId": "510b3b07-6a58-468b-b0a0-a5ec5b3fff55"
      },
      "source": [
        "# Stochastic POS Tagging with Spacy\r\n",
        "import spacy\r\n",
        "from spacy import displacy\r\n",
        "# Below model pre-trained on English language examples (blogs etc.)\r\n",
        "nlp = spacy.load('en_core_web_sm')\r\n",
        "# POS tagging \r\n",
        "doc = nlp(u'and so i said i will play the piano at home tonight')\r\n",
        "# Tokenise and Assign Tags\r\n",
        "for token in doc:\r\n",
        "  print(token.text,token.pos_,token.tag_)\r\n",
        "\r\n",
        "print('\\n')\r\n",
        "# spacy.explain('DET')\r\n",
        "\r\n",
        "displacy.render(doc, style=\"dep\",jupyter=True)"
      ],
      "execution_count": 4,
      "outputs": [
        {
          "output_type": "stream",
          "text": [
            "and CCONJ CC\n",
            "so ADV RB\n",
            "i PRON PRP\n",
            "said VERB VBD\n",
            "i PRON PRP\n",
            "will VERB MD\n",
            "play VERB VB\n",
            "the DET DT\n",
            "piano NOUN NN\n",
            "at ADP IN\n",
            "home NOUN NN\n",
            "tonight NOUN NN\n",
            "\n",
            "\n"
          ],
          "name": "stdout"
        },
        {
          "output_type": "display_data",
          "data": {
            "text/html": [
              "<span class=\"tex2jax_ignore\"><svg xmlns=\"http://www.w3.org/2000/svg\" xmlns:xlink=\"http://www.w3.org/1999/xlink\" xml:lang=\"en\" id=\"ddda2b103c134d9d8a24bdc74226bc03-0\" class=\"displacy\" width=\"2150\" height=\"487.0\" direction=\"ltr\" style=\"max-width: none; height: 487.0px; color: #000000; background: #ffffff; font-family: Arial; direction: ltr\">\n",
              "<text class=\"displacy-token\" fill=\"currentColor\" text-anchor=\"middle\" y=\"397.0\">\n",
              "    <tspan class=\"displacy-word\" fill=\"currentColor\" x=\"50\">and</tspan>\n",
              "    <tspan class=\"displacy-tag\" dy=\"2em\" fill=\"currentColor\" x=\"50\">CCONJ</tspan>\n",
              "</text>\n",
              "\n",
              "<text class=\"displacy-token\" fill=\"currentColor\" text-anchor=\"middle\" y=\"397.0\">\n",
              "    <tspan class=\"displacy-word\" fill=\"currentColor\" x=\"225\">so</tspan>\n",
              "    <tspan class=\"displacy-tag\" dy=\"2em\" fill=\"currentColor\" x=\"225\">ADV</tspan>\n",
              "</text>\n",
              "\n",
              "<text class=\"displacy-token\" fill=\"currentColor\" text-anchor=\"middle\" y=\"397.0\">\n",
              "    <tspan class=\"displacy-word\" fill=\"currentColor\" x=\"400\">i</tspan>\n",
              "    <tspan class=\"displacy-tag\" dy=\"2em\" fill=\"currentColor\" x=\"400\">PRON</tspan>\n",
              "</text>\n",
              "\n",
              "<text class=\"displacy-token\" fill=\"currentColor\" text-anchor=\"middle\" y=\"397.0\">\n",
              "    <tspan class=\"displacy-word\" fill=\"currentColor\" x=\"575\">said</tspan>\n",
              "    <tspan class=\"displacy-tag\" dy=\"2em\" fill=\"currentColor\" x=\"575\">VERB</tspan>\n",
              "</text>\n",
              "\n",
              "<text class=\"displacy-token\" fill=\"currentColor\" text-anchor=\"middle\" y=\"397.0\">\n",
              "    <tspan class=\"displacy-word\" fill=\"currentColor\" x=\"750\">i</tspan>\n",
              "    <tspan class=\"displacy-tag\" dy=\"2em\" fill=\"currentColor\" x=\"750\">PRON</tspan>\n",
              "</text>\n",
              "\n",
              "<text class=\"displacy-token\" fill=\"currentColor\" text-anchor=\"middle\" y=\"397.0\">\n",
              "    <tspan class=\"displacy-word\" fill=\"currentColor\" x=\"925\">will</tspan>\n",
              "    <tspan class=\"displacy-tag\" dy=\"2em\" fill=\"currentColor\" x=\"925\">VERB</tspan>\n",
              "</text>\n",
              "\n",
              "<text class=\"displacy-token\" fill=\"currentColor\" text-anchor=\"middle\" y=\"397.0\">\n",
              "    <tspan class=\"displacy-word\" fill=\"currentColor\" x=\"1100\">play</tspan>\n",
              "    <tspan class=\"displacy-tag\" dy=\"2em\" fill=\"currentColor\" x=\"1100\">VERB</tspan>\n",
              "</text>\n",
              "\n",
              "<text class=\"displacy-token\" fill=\"currentColor\" text-anchor=\"middle\" y=\"397.0\">\n",
              "    <tspan class=\"displacy-word\" fill=\"currentColor\" x=\"1275\">the</tspan>\n",
              "    <tspan class=\"displacy-tag\" dy=\"2em\" fill=\"currentColor\" x=\"1275\">DET</tspan>\n",
              "</text>\n",
              "\n",
              "<text class=\"displacy-token\" fill=\"currentColor\" text-anchor=\"middle\" y=\"397.0\">\n",
              "    <tspan class=\"displacy-word\" fill=\"currentColor\" x=\"1450\">piano</tspan>\n",
              "    <tspan class=\"displacy-tag\" dy=\"2em\" fill=\"currentColor\" x=\"1450\">NOUN</tspan>\n",
              "</text>\n",
              "\n",
              "<text class=\"displacy-token\" fill=\"currentColor\" text-anchor=\"middle\" y=\"397.0\">\n",
              "    <tspan class=\"displacy-word\" fill=\"currentColor\" x=\"1625\">at</tspan>\n",
              "    <tspan class=\"displacy-tag\" dy=\"2em\" fill=\"currentColor\" x=\"1625\">ADP</tspan>\n",
              "</text>\n",
              "\n",
              "<text class=\"displacy-token\" fill=\"currentColor\" text-anchor=\"middle\" y=\"397.0\">\n",
              "    <tspan class=\"displacy-word\" fill=\"currentColor\" x=\"1800\">home</tspan>\n",
              "    <tspan class=\"displacy-tag\" dy=\"2em\" fill=\"currentColor\" x=\"1800\">NOUN</tspan>\n",
              "</text>\n",
              "\n",
              "<text class=\"displacy-token\" fill=\"currentColor\" text-anchor=\"middle\" y=\"397.0\">\n",
              "    <tspan class=\"displacy-word\" fill=\"currentColor\" x=\"1975\">tonight</tspan>\n",
              "    <tspan class=\"displacy-tag\" dy=\"2em\" fill=\"currentColor\" x=\"1975\">NOUN</tspan>\n",
              "</text>\n",
              "\n",
              "<g class=\"displacy-arrow\">\n",
              "    <path class=\"displacy-arc\" id=\"arrow-ddda2b103c134d9d8a24bdc74226bc03-0-0\" stroke-width=\"2px\" d=\"M70,352.0 C70,89.5 570.0,89.5 570.0,352.0\" fill=\"none\" stroke=\"currentColor\"/>\n",
              "    <text dy=\"1.25em\" style=\"font-size: 0.8em; letter-spacing: 1px\">\n",
              "        <textPath xlink:href=\"#arrow-ddda2b103c134d9d8a24bdc74226bc03-0-0\" class=\"displacy-label\" startOffset=\"50%\" side=\"left\" fill=\"currentColor\" text-anchor=\"middle\">cc</textPath>\n",
              "    </text>\n",
              "    <path class=\"displacy-arrowhead\" d=\"M70,354.0 L62,342.0 78,342.0\" fill=\"currentColor\"/>\n",
              "</g>\n",
              "\n",
              "<g class=\"displacy-arrow\">\n",
              "    <path class=\"displacy-arc\" id=\"arrow-ddda2b103c134d9d8a24bdc74226bc03-0-1\" stroke-width=\"2px\" d=\"M245,352.0 C245,177.0 565.0,177.0 565.0,352.0\" fill=\"none\" stroke=\"currentColor\"/>\n",
              "    <text dy=\"1.25em\" style=\"font-size: 0.8em; letter-spacing: 1px\">\n",
              "        <textPath xlink:href=\"#arrow-ddda2b103c134d9d8a24bdc74226bc03-0-1\" class=\"displacy-label\" startOffset=\"50%\" side=\"left\" fill=\"currentColor\" text-anchor=\"middle\">advmod</textPath>\n",
              "    </text>\n",
              "    <path class=\"displacy-arrowhead\" d=\"M245,354.0 L237,342.0 253,342.0\" fill=\"currentColor\"/>\n",
              "</g>\n",
              "\n",
              "<g class=\"displacy-arrow\">\n",
              "    <path class=\"displacy-arc\" id=\"arrow-ddda2b103c134d9d8a24bdc74226bc03-0-2\" stroke-width=\"2px\" d=\"M420,352.0 C420,264.5 560.0,264.5 560.0,352.0\" fill=\"none\" stroke=\"currentColor\"/>\n",
              "    <text dy=\"1.25em\" style=\"font-size: 0.8em; letter-spacing: 1px\">\n",
              "        <textPath xlink:href=\"#arrow-ddda2b103c134d9d8a24bdc74226bc03-0-2\" class=\"displacy-label\" startOffset=\"50%\" side=\"left\" fill=\"currentColor\" text-anchor=\"middle\">nsubj</textPath>\n",
              "    </text>\n",
              "    <path class=\"displacy-arrowhead\" d=\"M420,354.0 L412,342.0 428,342.0\" fill=\"currentColor\"/>\n",
              "</g>\n",
              "\n",
              "<g class=\"displacy-arrow\">\n",
              "    <path class=\"displacy-arc\" id=\"arrow-ddda2b103c134d9d8a24bdc74226bc03-0-3\" stroke-width=\"2px\" d=\"M770,352.0 C770,177.0 1090.0,177.0 1090.0,352.0\" fill=\"none\" stroke=\"currentColor\"/>\n",
              "    <text dy=\"1.25em\" style=\"font-size: 0.8em; letter-spacing: 1px\">\n",
              "        <textPath xlink:href=\"#arrow-ddda2b103c134d9d8a24bdc74226bc03-0-3\" class=\"displacy-label\" startOffset=\"50%\" side=\"left\" fill=\"currentColor\" text-anchor=\"middle\">nsubj</textPath>\n",
              "    </text>\n",
              "    <path class=\"displacy-arrowhead\" d=\"M770,354.0 L762,342.0 778,342.0\" fill=\"currentColor\"/>\n",
              "</g>\n",
              "\n",
              "<g class=\"displacy-arrow\">\n",
              "    <path class=\"displacy-arc\" id=\"arrow-ddda2b103c134d9d8a24bdc74226bc03-0-4\" stroke-width=\"2px\" d=\"M945,352.0 C945,264.5 1085.0,264.5 1085.0,352.0\" fill=\"none\" stroke=\"currentColor\"/>\n",
              "    <text dy=\"1.25em\" style=\"font-size: 0.8em; letter-spacing: 1px\">\n",
              "        <textPath xlink:href=\"#arrow-ddda2b103c134d9d8a24bdc74226bc03-0-4\" class=\"displacy-label\" startOffset=\"50%\" side=\"left\" fill=\"currentColor\" text-anchor=\"middle\">aux</textPath>\n",
              "    </text>\n",
              "    <path class=\"displacy-arrowhead\" d=\"M945,354.0 L937,342.0 953,342.0\" fill=\"currentColor\"/>\n",
              "</g>\n",
              "\n",
              "<g class=\"displacy-arrow\">\n",
              "    <path class=\"displacy-arc\" id=\"arrow-ddda2b103c134d9d8a24bdc74226bc03-0-5\" stroke-width=\"2px\" d=\"M595,352.0 C595,89.5 1095.0,89.5 1095.0,352.0\" fill=\"none\" stroke=\"currentColor\"/>\n",
              "    <text dy=\"1.25em\" style=\"font-size: 0.8em; letter-spacing: 1px\">\n",
              "        <textPath xlink:href=\"#arrow-ddda2b103c134d9d8a24bdc74226bc03-0-5\" class=\"displacy-label\" startOffset=\"50%\" side=\"left\" fill=\"currentColor\" text-anchor=\"middle\">ccomp</textPath>\n",
              "    </text>\n",
              "    <path class=\"displacy-arrowhead\" d=\"M1095.0,354.0 L1103.0,342.0 1087.0,342.0\" fill=\"currentColor\"/>\n",
              "</g>\n",
              "\n",
              "<g class=\"displacy-arrow\">\n",
              "    <path class=\"displacy-arc\" id=\"arrow-ddda2b103c134d9d8a24bdc74226bc03-0-6\" stroke-width=\"2px\" d=\"M1295,352.0 C1295,264.5 1435.0,264.5 1435.0,352.0\" fill=\"none\" stroke=\"currentColor\"/>\n",
              "    <text dy=\"1.25em\" style=\"font-size: 0.8em; letter-spacing: 1px\">\n",
              "        <textPath xlink:href=\"#arrow-ddda2b103c134d9d8a24bdc74226bc03-0-6\" class=\"displacy-label\" startOffset=\"50%\" side=\"left\" fill=\"currentColor\" text-anchor=\"middle\">det</textPath>\n",
              "    </text>\n",
              "    <path class=\"displacy-arrowhead\" d=\"M1295,354.0 L1287,342.0 1303,342.0\" fill=\"currentColor\"/>\n",
              "</g>\n",
              "\n",
              "<g class=\"displacy-arrow\">\n",
              "    <path class=\"displacy-arc\" id=\"arrow-ddda2b103c134d9d8a24bdc74226bc03-0-7\" stroke-width=\"2px\" d=\"M1120,352.0 C1120,177.0 1440.0,177.0 1440.0,352.0\" fill=\"none\" stroke=\"currentColor\"/>\n",
              "    <text dy=\"1.25em\" style=\"font-size: 0.8em; letter-spacing: 1px\">\n",
              "        <textPath xlink:href=\"#arrow-ddda2b103c134d9d8a24bdc74226bc03-0-7\" class=\"displacy-label\" startOffset=\"50%\" side=\"left\" fill=\"currentColor\" text-anchor=\"middle\">dobj</textPath>\n",
              "    </text>\n",
              "    <path class=\"displacy-arrowhead\" d=\"M1440.0,354.0 L1448.0,342.0 1432.0,342.0\" fill=\"currentColor\"/>\n",
              "</g>\n",
              "\n",
              "<g class=\"displacy-arrow\">\n",
              "    <path class=\"displacy-arc\" id=\"arrow-ddda2b103c134d9d8a24bdc74226bc03-0-8\" stroke-width=\"2px\" d=\"M1120,352.0 C1120,89.5 1620.0,89.5 1620.0,352.0\" fill=\"none\" stroke=\"currentColor\"/>\n",
              "    <text dy=\"1.25em\" style=\"font-size: 0.8em; letter-spacing: 1px\">\n",
              "        <textPath xlink:href=\"#arrow-ddda2b103c134d9d8a24bdc74226bc03-0-8\" class=\"displacy-label\" startOffset=\"50%\" side=\"left\" fill=\"currentColor\" text-anchor=\"middle\">prep</textPath>\n",
              "    </text>\n",
              "    <path class=\"displacy-arrowhead\" d=\"M1620.0,354.0 L1628.0,342.0 1612.0,342.0\" fill=\"currentColor\"/>\n",
              "</g>\n",
              "\n",
              "<g class=\"displacy-arrow\">\n",
              "    <path class=\"displacy-arc\" id=\"arrow-ddda2b103c134d9d8a24bdc74226bc03-0-9\" stroke-width=\"2px\" d=\"M1645,352.0 C1645,264.5 1785.0,264.5 1785.0,352.0\" fill=\"none\" stroke=\"currentColor\"/>\n",
              "    <text dy=\"1.25em\" style=\"font-size: 0.8em; letter-spacing: 1px\">\n",
              "        <textPath xlink:href=\"#arrow-ddda2b103c134d9d8a24bdc74226bc03-0-9\" class=\"displacy-label\" startOffset=\"50%\" side=\"left\" fill=\"currentColor\" text-anchor=\"middle\">pobj</textPath>\n",
              "    </text>\n",
              "    <path class=\"displacy-arrowhead\" d=\"M1785.0,354.0 L1793.0,342.0 1777.0,342.0\" fill=\"currentColor\"/>\n",
              "</g>\n",
              "\n",
              "<g class=\"displacy-arrow\">\n",
              "    <path class=\"displacy-arc\" id=\"arrow-ddda2b103c134d9d8a24bdc74226bc03-0-10\" stroke-width=\"2px\" d=\"M1120,352.0 C1120,2.0 1975.0,2.0 1975.0,352.0\" fill=\"none\" stroke=\"currentColor\"/>\n",
              "    <text dy=\"1.25em\" style=\"font-size: 0.8em; letter-spacing: 1px\">\n",
              "        <textPath xlink:href=\"#arrow-ddda2b103c134d9d8a24bdc74226bc03-0-10\" class=\"displacy-label\" startOffset=\"50%\" side=\"left\" fill=\"currentColor\" text-anchor=\"middle\">npadvmod</textPath>\n",
              "    </text>\n",
              "    <path class=\"displacy-arrowhead\" d=\"M1975.0,354.0 L1983.0,342.0 1967.0,342.0\" fill=\"currentColor\"/>\n",
              "</g>\n",
              "</svg></span>"
            ],
            "text/plain": [
              "<IPython.core.display.HTML object>"
            ]
          },
          "metadata": {
            "tags": []
          }
        }
      ]
    },
    {
      "cell_type": "code",
      "metadata": {
        "colab": {
          "base_uri": "https://localhost:8080/"
        },
        "id": "Y8VAfU0L4fxd",
        "outputId": "430f796c-36cb-421d-83d8-d6910104103d"
      },
      "source": [
        "# Chunking: Takes words and their tags as input to see if they can be combined\r\n",
        "# E.g. United and Kingdom combined as United Kingdom. 5 major chunk tags:\r\n",
        "# Noun Phrase (Head word is a noun), Verb, Adjective, Adverb and Prepositional Phrases\r\n",
        "\r\n",
        "# Chunking with NLTK\r\n",
        "from matplotlib.pyplot import *\r\n",
        "rule = r'''Noun Phrase: {<DT>?<JJ>*<NN>}'''\r\n",
        "sentence = 'a nice bird flew away across the horizon'\r\n",
        "tagged = nltk.pos_tag(nltk.word_tokenize(sentence))\r\n",
        "chunkParser = nltk.RegexpParser(rule)\r\n",
        "chunked = chunkParser.parse(tagged)\r\n",
        "print(chunked)\r\n",
        "print('This gives us phrase tree')\r\n",
        "# chunked.draw() - Not Working"
      ],
      "execution_count": 5,
      "outputs": [
        {
          "output_type": "stream",
          "text": [
            "(S\n",
            "  (Noun Phrase a/DT nice/JJ bird/NN)\n",
            "  flew/VBD\n",
            "  away/RB\n",
            "  across/IN\n",
            "  (Noun Phrase the/DT horizon/NN))\n",
            "This gives us phrase tree\n"
          ],
          "name": "stdout"
        }
      ]
    },
    {
      "cell_type": "code",
      "metadata": {
        "colab": {
          "base_uri": "https://localhost:8080/"
        },
        "id": "a6euELxNCA0S",
        "outputId": "544b84a1-6c69-4e9f-94df-42c9e3967a27"
      },
      "source": [
        "# Chunking with Spacy\r\n",
        "doc = nlp('a nice bird flew away across the horizon')\r\n",
        "for chunk in doc.noun_chunks:\r\n",
        "  print(chunk.text,chunk.root.text,chunk.root.dep_)"
      ],
      "execution_count": 6,
      "outputs": [
        {
          "output_type": "stream",
          "text": [
            "a nice bird bird nsubj\n",
            "the horizon horizon pobj\n"
          ],
          "name": "stdout"
        }
      ]
    },
    {
      "cell_type": "code",
      "metadata": {
        "colab": {
          "base_uri": "https://localhost:8080/"
        },
        "id": "0CRrPi1fCzuv",
        "outputId": "b1219d9b-8439-4f2c-815d-dd0ac412def4"
      },
      "source": [
        "# Chinking can be performed after Chunking, can be used to extract chunks and drop noise\r\n",
        "# E.g. If you only want Nouns use Chinking to extract them. See below:\r\n",
        "\r\n",
        "rule = r'''Chink:{<.*>+}\r\n",
        "       }<VB.?|CC|RB|JJ|IN|DT|TO>+{'''\r\n",
        "sentence = 'a nice bird flew away across the horizon'\r\n",
        "tagged = nltk.pos_tag(nltk.word_tokenize(sentence))\r\n",
        "chinkParser = nltk.RegexpParser(rule)\r\n",
        "chinked = chinkParser.parse(tagged)\r\n",
        "print(chinked)"
      ],
      "execution_count": 7,
      "outputs": [
        {
          "output_type": "stream",
          "text": [
            "(S\n",
            "  a/DT\n",
            "  nice/JJ\n",
            "  (Chink bird/NN)\n",
            "  flew/VBD\n",
            "  away/RB\n",
            "  across/IN\n",
            "  the/DT\n",
            "  (Chink horizon/NN))\n"
          ],
          "name": "stdout"
        }
      ]
    },
    {
      "cell_type": "code",
      "metadata": {
        "colab": {
          "base_uri": "https://localhost:8080/"
        },
        "id": "rfZ2X_dKEcaw",
        "outputId": "d15e249b-f249-4ed6-f721-bb20b9d2d662"
      },
      "source": [
        "# Names Entity Recognition: ID + extract named entities from corpora and assign to category\r\n",
        "# Most are supervised learning, input is tokens with POS tags\r\n",
        "# Rule-Based: Same as Rule-Based POS\r\n",
        "# Stochastic: Uses statistics to name/recognise entities (Max Entropy/Hidden Markov)\r\n",
        "\r\n",
        "#NLTK example\r\n",
        "nltk.download('maxent_ne_chunker')\r\n",
        "nltk.download('words')\r\n",
        "sentence = 'Dave visitied London after taking an EasyJet flight from Paris'\r\n",
        "# Tokenise and Tag\r\n",
        "tags = nltk.pos_tag(nltk.word_tokenize(sentence))\r\n",
        "# NER using NLTK ne_chunk\r\n",
        "ner = nltk.ne_chunk(tags,binary=True)\r\n",
        "print(ner)"
      ],
      "execution_count": 16,
      "outputs": [
        {
          "output_type": "stream",
          "text": [
            "[nltk_data] Downloading package maxent_ne_chunker to\n",
            "[nltk_data]     /root/nltk_data...\n",
            "[nltk_data]   Package maxent_ne_chunker is already up-to-date!\n",
            "[nltk_data] Downloading package words to /root/nltk_data...\n",
            "[nltk_data]   Package words is already up-to-date!\n",
            "(S\n",
            "  (NE Dave/NNP)\n",
            "  visitied/VBD\n",
            "  (NE London/NNP)\n",
            "  after/IN\n",
            "  taking/VBG\n",
            "  an/DT\n",
            "  (NE EasyJet/NNP)\n",
            "  flight/NN\n",
            "  from/IN\n",
            "  (NE Paris/NNP))\n"
          ],
          "name": "stdout"
        }
      ]
    },
    {
      "cell_type": "code",
      "metadata": {
        "id": "6Hv1DFnr6282",
        "outputId": "f67fa1f7-b2e1-40e1-a1c7-1a024476151b",
        "colab": {
          "base_uri": "https://localhost:8080/",
          "height": 237
        }
      },
      "source": [
        "# NER with Spacy\r\n",
        "doc = nlp(u'Shubjangi visitied London after taking an EasyJet flight from Paris')\r\n",
        "# For each entity, print it's text and label\r\n",
        "for entity in doc.ents:\r\n",
        "  print(entity.text,entity.label_)\r\n",
        "print('\\n')\r\n",
        "\r\n",
        "# Try adding surname for Shubjangi\r\n",
        "doc = nlp(u'Shubjangi Hora visitied London after taking an EasyJet flight from Paris')\r\n",
        "for entity in doc.ents:\r\n",
        "  print(entity.text,entity.label_)\r\n",
        "  \r\n",
        "print('\\n')\r\n",
        "spacy.explain('GPE')\r\n"
      ],
      "execution_count": 27,
      "outputs": [
        {
          "output_type": "stream",
          "text": [
            "Shubjangi ORG\n",
            "London GPE\n",
            "EasyJet ORG\n",
            "Paris GPE\n",
            "\n",
            "\n",
            "Shubjangi Hora PERSON\n",
            "London GPE\n",
            "EasyJet ORG\n",
            "Paris GPE\n",
            "\n",
            "\n"
          ],
          "name": "stdout"
        },
        {
          "output_type": "execute_result",
          "data": {
            "application/vnd.google.colaboratory.intrinsic+json": {
              "type": "string"
            },
            "text/plain": [
              "'Countries, cities, states'"
            ]
          },
          "metadata": {
            "tags": []
          },
          "execution_count": 27
        }
      ]
    }
  ]
}
{
  "nbformat": 4,
  "nbformat_minor": 0,
  "metadata": {
    "colab": {
      "name": "Numpy Fundamentals",
      "provenance": [],
      "authorship_tag": "ABX9TyOxhgo62JqwNVpAN9x5rQ4X"
    },
    "kernelspec": {
      "name": "python3",
      "display_name": "Python 3"
    }
  },
  "cells": [
    {
      "cell_type": "code",
      "metadata": {
        "id": "npejscAizz6Y",
        "colab_type": "code",
        "colab": {}
      },
      "source": [
        "import numpy as np"
      ],
      "execution_count": 1,
      "outputs": []
    },
    {
      "cell_type": "code",
      "metadata": {
        "id": "yfoPUy8IxD-Q",
        "colab_type": "code",
        "colab": {
          "base_uri": "https://localhost:8080/",
          "height": 34
        },
        "outputId": "906a70a3-cc5d-4bb9-c1bf-1972545e44c0"
      },
      "source": [
        "# Convert List to Numpy Array\n",
        "pythonList = np.array([1,2,3,4])\n",
        "print(pythonList)\n",
        "\n",
        "# Maths function\n",
        "pythonList = pythonList + 10\n",
        "pythonList = pythonList - 10\n",
        "\n",
        "pythonList = np.array([0.1,0.2,0.3,0.4])\n",
        "pythonList.dtype\n",
        "\n",
        "pythonList = np.array([('One','Two','Three'),(1,2,3)])\n",
        "pythonList.shape"
      ],
      "execution_count": 15,
      "outputs": [
        {
          "output_type": "stream",
          "text": [
            "[1 2 3 4]\n"
          ],
          "name": "stdout"
        }
      ]
    }
  ]
}
{
  "nbformat": 4,
  "nbformat_minor": 0,
  "metadata": {
    "colab": {
      "name": "TenorFlowJS.ipynb",
      "provenance": [],
      "authorship_tag": "ABX9TyOa43eEmfo/JF0OJ9kHduxi"
    },
    "kernelspec": {
      "name": "python3",
      "display_name": "Python 3"
    },
    "language_info": {
      "name": "python"
    },
    "accelerator": "GPU"
  },
  "cells": [
    {
      "cell_type": "code",
      "metadata": {
        "id": "CkWQzue4SL5H"
      },
      "source": [
        "# Sample Tensorflow.js project. Using CNN on MNIST dataset"
      ],
      "execution_count": 29,
      "outputs": []
    },
    {
      "cell_type": "code",
      "metadata": {
        "id": "FAjhIDshTIha"
      },
      "source": [
        "import tensorflow as tf\n",
        "import matplotlib.pyplot as plt\n",
        "from tensorflow.keras.datasets import mnist\n",
        "from tensorflow.keras.models import Sequential\n",
        "from tensorflow.keras.layers import Dense, Dropout, Conv2D, MaxPool2D, Flatten\n",
        "from tensorflow.keras.optimizers import Adam,RMSprop\n",
        "from tensorflow.keras import backend as K\n",
        "import numpy as np"
      ],
      "execution_count": 30,
      "outputs": []
    },
    {
      "cell_type": "code",
      "metadata": {
        "id": "c5D1UI94TmNl"
      },
      "source": [
        "(mnist_train_images, mnist_train_labels), (mnist_test_images, mnist_test_labels) = mnist.load_data()"
      ],
      "execution_count": 31,
      "outputs": []
    },
    {
      "cell_type": "code",
      "metadata": {
        "id": "kvqnGxARTycT"
      },
      "source": [
        "# Unlike Keras example, we can use 28*28 pixel images as they are.\n",
        "# We're using 1*28*28 as it's greyscale. If colour, use 3 for red,green,blue\n",
        "if K.image_data_format() == 'channels_first':\n",
        "  trainImages = mnist_train_images.reshape(mnist_train_images.shape[0],1,28,28)\n",
        "  testImages = mnist_test_images.reshape(mnist_test_images.shape[0],1,28,28)\n",
        "  inputShape = (1,28,28)\n",
        "else:\n",
        "  trainImages = mnist_train_images.reshape(mnist_train_images.shape[0],28,28,1)\n",
        "  testImages = mnist_test_images.reshape(mnist_test_images.shape[0],28,28,1)\n",
        "  inputShape = (28,28,1)\n",
        "\n",
        "trainImages = trainImages.astype('float32')\n",
        "testImages = testImages.astype('float32')\n",
        "trainImages /= 255\n",
        "testImages /= 255"
      ],
      "execution_count": 32,
      "outputs": []
    },
    {
      "cell_type": "code",
      "metadata": {
        "id": "jNsXKqoxUNB-"
      },
      "source": [
        "# Convert labels to one hot\n",
        "trainLabels = tf.keras.utils.to_categorical(mnist_train_labels,10)\n",
        "testLabels = tf.keras.utils.to_categorical(mnist_test_labels,10)"
      ],
      "execution_count": 33,
      "outputs": []
    },
    {
      "cell_type": "code",
      "metadata": {
        "colab": {
          "base_uri": "https://localhost:8080/",
          "height": 298
        },
        "id": "vrIL8_woUSY_",
        "outputId": "11e6975e-4c81-42c1-a700-950e0d94c57f"
      },
      "source": [
        "# Visualise training images\n",
        "def displayImage(number):\n",
        "  # Check one hot array of image label\n",
        "  print(trainLabels[number])\n",
        "  # Convert label bact to 0-9\n",
        "  label = trainLabels[number].argmax(axis=0)\n",
        "  # Reshape 1D tensor (768 pixels) into 28*28 image\n",
        "  image = trainImages[number].reshape([28,28])\n",
        "  # Show image\n",
        "  plt.title('Sample: %d Label: %d' % (number, label))\n",
        "  plt.imshow(image,cmap=plt.get_cmap('gray_r'))\n",
        "  plt.show()\n",
        "\n",
        "displayImage(600)"
      ],
      "execution_count": 34,
      "outputs": [
        {
          "output_type": "stream",
          "text": [
            "[0. 0. 0. 0. 0. 0. 0. 0. 0. 1.]\n"
          ],
          "name": "stdout"
        },
        {
          "output_type": "display_data",
          "data": {
            "image/png": "[encoded data removed]",
            "text/plain": [
              "<Figure size 432x288 with 1 Axes>"
            ]
          },
          "metadata": {
            "tags": [],
            "needs_background": "light"
          }
        }
      ]
    },
    {
      "cell_type": "code",
      "metadata": {
        "colab": {
          "base_uri": "https://localhost:8080/"
        },
        "id": "N5HfwZ72UpJa",
        "outputId": "2472075d-67f6-4e19-c305-07234748a0fd"
      },
      "source": [
        "# Build the model\n",
        "model = Sequential()\n",
        "# 32 kernels size 3*3. Kernel is a filter used to extract features from an image\n",
        "model.add(Conv2D(32,kernel_size=(3,3),activation='relu',input_shape=inputShape))\n",
        "model.add(Conv2D(64,(3,3),activation='relu'))\n",
        "# Reduce 2*2 pixel block to a single pixel, represents max pixel found\n",
        "model.add(MaxPool2D(pool_size=(2,2)))\n",
        "# Reduce neurons to prevent overfitting\n",
        "model.add(Dropout(0.25))\n",
        "# Flatten result to 1D to pass to final layer\n",
        "model.add(Flatten())\n",
        "# Hidden layer for learning\n",
        "model.add(Dense(128,activation='relu'))\n",
        "model.add(Dropout(0.5))\n",
        "# Classify from 0-9 with softmax\n",
        "model.add(Dense(10,activation='softmax'))\n",
        "model.summary()"
      ],
      "execution_count": 35,
      "outputs": [
        {
          "output_type": "stream",
          "text": [
            "Model: \"sequential_2\"\n",
            "_________________________________________________________________\n",
            "Layer (type)                 Output Shape              Param #   \n",
            "=================================================================\n",
            "conv2d_4 (Conv2D)            (None, 26, 26, 32)        320       \n",
            "_________________________________________________________________\n",
            "conv2d_5 (Conv2D)            (None, 24, 24, 64)        18496     \n",
            "_________________________________________________________________\n",
            "max_pooling2d_2 (MaxPooling2 (None, 12, 12, 64)        0         \n",
            "_________________________________________________________________\n",
            "dropout_4 (Dropout)          (None, 12, 12, 64)        0         \n",
            "_________________________________________________________________\n",
            "flatten_2 (Flatten)          (None, 9216)              0         \n",
            "_________________________________________________________________\n",
            "dense_4 (Dense)              (None, 128)               1179776   \n",
            "_________________________________________________________________\n",
            "dropout_5 (Dropout)          (None, 128)               0         \n",
            "_________________________________________________________________\n",
            "dense_5 (Dense)              (None, 10)                1290      \n",
            "=================================================================\n",
            "Total params: 1,199,882\n",
            "Trainable params: 1,199,882\n",
            "Non-trainable params: 0\n",
            "_________________________________________________________________\n"
          ],
          "name": "stdout"
        }
      ]
    },
    {
      "cell_type": "code",
      "metadata": {
        "id": "yu_XglM5VGUB"
      },
      "source": [
        "# Compile the model\n",
        "model.compile(loss='categorical_crossentropy',optimizer='adam',metrics=['accuracy'])"
      ],
      "execution_count": 36,
      "outputs": []
    },
    {
      "cell_type": "code",
      "metadata": {
        "colab": {
          "base_uri": "https://localhost:8080/"
        },
        "id": "DZCYJzrjVJxD",
        "outputId": "11b7e8ff-b406-4550-e8df-013eadb01793"
      },
      "source": [
        "model.fit(trainImages,trainLabels,batch_size=32,epochs=10,verbose=2,validation_data=(testImages,testLabels))"
      ],
      "execution_count": 37,
      "outputs": [
        {
          "output_type": "stream",
          "text": [
            "Epoch 1/10\n",
            "1875/1875 - 5s - loss: 0.1958 - accuracy: 0.9415 - val_loss: 0.0433 - val_accuracy: 0.9864\n",
            "Epoch 2/10\n",
            "1875/1875 - 5s - loss: 0.0837 - accuracy: 0.9759 - val_loss: 0.0379 - val_accuracy: 0.9869\n",
            "Epoch 3/10\n",
            "1875/1875 - 5s - loss: 0.0624 - accuracy: 0.9810 - val_loss: 0.0287 - val_accuracy: 0.9895\n",
            "Epoch 4/10\n",
            "1875/1875 - 5s - loss: 0.0509 - accuracy: 0.9843 - val_loss: 0.0277 - val_accuracy: 0.9917\n",
            "Epoch 5/10\n",
            "1875/1875 - 5s - loss: 0.0423 - accuracy: 0.9873 - val_loss: 0.0345 - val_accuracy: 0.9891\n",
            "Epoch 6/10\n",
            "1875/1875 - 5s - loss: 0.0358 - accuracy: 0.9892 - val_loss: 0.0233 - val_accuracy: 0.9926\n",
            "Epoch 7/10\n",
            "1875/1875 - 5s - loss: 0.0320 - accuracy: 0.9896 - val_loss: 0.0298 - val_accuracy: 0.9914\n",
            "Epoch 8/10\n",
            "1875/1875 - 5s - loss: 0.0274 - accuracy: 0.9916 - val_loss: 0.0293 - val_accuracy: 0.9917\n",
            "Epoch 9/10\n",
            "1875/1875 - 5s - loss: 0.0268 - accuracy: 0.9913 - val_loss: 0.0301 - val_accuracy: 0.9920\n",
            "Epoch 10/10\n",
            "1875/1875 - 5s - loss: 0.0241 - accuracy: 0.9920 - val_loss: 0.0390 - val_accuracy: 0.9907\n"
          ],
          "name": "stdout"
        },
        {
          "output_type": "execute_result",
          "data": {
            "text/plain": [
              "<tensorflow.python.keras.callbacks.History at 0x7fb50e4e4ed0>"
            ]
          },
          "metadata": {
            "tags": []
          },
          "execution_count": 37
        }
      ]
    },
    {
      "cell_type": "code",
      "metadata": {
        "colab": {
          "base_uri": "https://localhost:8080/"
        },
        "id": "6vIQHXKXVMEV",
        "outputId": "cbf5f629-048d-4963-c3cd-2bb65c1cbf35"
      },
      "source": [
        "# Check the accuracy and loss\n",
        "accuracyScoring = model.evaluate(testImages,testLabels,verbose=0)\n",
        "print('Test Loss: ',accuracyScoring[0])\n",
        "print('Test Accuracy: ',accuracyScoring[1])"
      ],
      "execution_count": 38,
      "outputs": [
        {
          "output_type": "stream",
          "text": [
            "Test Loss:  0.03896612301468849\n",
            "Test Accuracy:  0.9907000064849854\n"
          ],
          "name": "stdout"
        }
      ]
    },
    {
      "cell_type": "code",
      "metadata": {
        "colab": {
          "base_uri": "https://localhost:8080/",
          "height": 179
        },
        "id": "cmxZ8921V6hQ",
        "outputId": "f796cdf8-155d-46db-99de-e2bee03e65de"
      },
      "source": [
        "# Sample 5 images to test accuracy\n",
        "predict = model.predict(testImages)\n",
        "\n",
        "plt.figure(figsize=(28,28))\n",
        "\n",
        "for image in range(5):\n",
        "  subplot = plt.subplot(2,10, image+1)\n",
        "  plt.imshow(testImages[image,:,:,0],cmap='gray')\n",
        "  original = testLabels[image]\n",
        "  predicted = np.argmax(predict[image])\n",
        "  plt.title(\"Predicted: {}\".format(predicted), loc='left')    \n",
        "  plt.axis('off') \n",
        "plt.show()"
      ],
      "execution_count": 39,
      "outputs": [
        {
          "output_type": "display_data",
          "data": {
            "image/png": "[encoded data removed]",
            "text/plain": [
              "<Figure size 2016x2016 with 5 Axes>"
            ]
          },
          "metadata": {
            "tags": [],
            "needs_background": "light"
          }
        }
      ]
    },
    {
      "cell_type": "code",
      "metadata": {
        "id": "2SWoOwrRXvWe"
      },
      "source": [
        "model.save('model.h5')"
      ],
      "execution_count": 40,
      "outputs": []
    }
  ]
}
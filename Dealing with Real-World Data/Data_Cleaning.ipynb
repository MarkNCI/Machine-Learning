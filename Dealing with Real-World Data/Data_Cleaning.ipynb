{
  "nbformat": 4,
  "nbformat_minor": 0,
  "metadata": {
    "colab": {
      "name": "Data_Cleaning.ipynb",
      "provenance": [],
      "authorship_tag": "ABX9TyPNCIQOwXbjhDTSA/DySL9T"
    },
    "kernelspec": {
      "name": "python3",
      "display_name": "Python 3"
    }
  },
  "cells": [
    {
      "cell_type": "code",
      "metadata": {
        "id": "1niWPbgot5Ja"
      },
      "source": [
        "# Techniques for cleaning/normalising data\n",
        "%matplotlib inline\n",
        "import numpy as np\n",
        "import matplotlib.pyplot as plt\n",
        "\n",
        "# 27k per year, std dev:15k, 10k users\n",
        "incomes = np.random.normal(27000,15000,10000)\n",
        "# Add a billionaire\n",
        "incomes = np.append(incomes,[1000000000])"
      ],
      "execution_count": 6,
      "outputs": []
    },
    {
      "cell_type": "code",
      "metadata": {
        "id": "tSR98JhpxiAJ",
        "outputId": "a6a9b857-5761-467a-ea1c-2ce8ca632fd3",
        "colab": {
          "base_uri": "https://localhost:8080/",
          "height": 295
        }
      },
      "source": [
        "# Billionaire is outlier, skewing results\n",
        "plt.hist(incomes,50)\n",
        "plt.show()\n",
        "print(incomes.mean())"
      ],
      "execution_count": 8,
      "outputs": [
        {
          "output_type": "display_data",
          "data": {
            "image/png": "[encoded data removed]",
            "text/plain": [
              "<Figure size 432x288 with 1 Axes>"
            ]
          },
          "metadata": {
            "tags": [],
            "needs_background": "light"
          }
        },
        {
          "output_type": "stream",
          "text": [
            "126657.95071967358\n"
          ],
          "name": "stdout"
        }
      ]
    },
    {
      "cell_type": "code",
      "metadata": {
        "id": "7Ui4XLLRxrz2",
        "outputId": "4677cd0d-98ff-42b9-b7a9-de14d8e59d06",
        "colab": {
          "base_uri": "https://localhost:8080/",
          "height": 282
        }
      },
      "source": [
        "# Quick code to remove above/below 2 above std_dev\n",
        "def remove_outliers(data):\n",
        "  median = np.median(data)\n",
        "  std_dev = np.std(data)\n",
        "  filter = [x for x in data if (median - 2 * std_dev < x < median +2 * std_dev)]\n",
        "  return filter\n",
        "\n",
        "filter = remove_outliers(incomes)\n",
        "plt.hist(filter,50)\n",
        "plt.show()\n",
        "print(np.mean(filter))"
      ],
      "execution_count": 13,
      "outputs": [
        {
          "output_type": "display_data",
          "data": {
            "image/png": "[encoded data removed]",
            "text/plain": [
              "<Figure size 432x288 with 1 Axes>"
            ]
          },
          "metadata": {
            "tags": [],
            "needs_background": "light"
          }
        },
        {
          "output_type": "stream",
          "text": [
            "26670.616514745532\n"
          ],
          "name": "stdout"
        }
      ]
    }
  ]
}
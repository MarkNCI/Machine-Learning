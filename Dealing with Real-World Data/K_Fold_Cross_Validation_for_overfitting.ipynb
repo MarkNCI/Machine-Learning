{
  "nbformat": 4,
  "nbformat_minor": 0,
  "metadata": {
    "colab": {
      "name": "K-Fold Cross-Validation for overfitting",
      "provenance": [],
      "collapsed_sections": [],
      "authorship_tag": "ABX9TyN0gZKNazTzj38IDzSw8y2j"
    },
    "kernelspec": {
      "name": "python3",
      "display_name": "Python 3"
    }
  },
  "cells": [
    {
      "cell_type": "code",
      "metadata": {
        "id": "VJymPSmZez0C",
        "colab_type": "code",
        "colab": {}
      },
      "source": [
        "# Bias is how far away the mean of predicted values is from the real answer\n",
        "# Variance is how scattered predictions are from the real value\n",
        "# On dart board, if center is target:\n",
        "# Bias is how close darts are to center, variance is how close the darts are"
      ],
      "execution_count": 0,
      "outputs": []
    }
  ]
}
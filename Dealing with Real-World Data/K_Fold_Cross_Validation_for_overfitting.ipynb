{
  "nbformat": 4,
  "nbformat_minor": 0,
  "metadata": {
    "colab": {
      "name": "K-Fold Cross-Validation for overfitting",
      "provenance": [],
      "collapsed_sections": [],
      "authorship_tag": "ABX9TyOiNzEinJkkfAUH+K9e7tqM"
    },
    "kernelspec": {
      "name": "python3",
      "display_name": "Python 3"
    }
  },
  "cells": [
    {
      "cell_type": "code",
      "metadata": {
        "id": "VJymPSmZez0C"
      },
      "source": [
        "# Bias is how far away the mean of predicted values is from the real answer\n",
        "# Variance is how scattered predictions are from the real value\n",
        "# On dart board, if center is target:\n",
        "# Bias is how close darts are to center, variance is how close the darts are"
      ],
      "execution_count": 1,
      "outputs": []
    },
    {
      "cell_type": "code",
      "metadata": {
        "id": "3ng_DZUxdWDs"
      },
      "source": [
        "# To prevent overfitting we can use K-fold cross validation\n",
        "# Split data into K randomly assigned segment\n",
        "# 1 segment = test set, combine remaining segments as train (K-1)\n",
        "# Measure K-1 performance against test (repeat per segment)\n",
        "# Take average of K r-squared scores\n",
        "# Real life: Measure the mean accuracy of differnet model versions"
      ],
      "execution_count": 2,
      "outputs": []
    },
    {
      "cell_type": "code",
      "metadata": {
        "id": "Kzksm8JPeRd1",
        "outputId": "2919e451-8fa4-4250-f514-c006e69f78c3",
        "colab": {
          "base_uri": "https://localhost:8080/"
        }
      },
      "source": [
        "# Libraries and Dataset\n",
        "#N.B.: use cross_val_score as predessor deprecated\n",
        "import numpy as np\n",
        "from sklearn import datasets, svm\n",
        "from sklearn.model_selection import train_test_split, cross_val_score\n",
        "\n",
        "X, y = datasets.load_iris(return_X_y=True)\n",
        "X.shape, y.shape"
      ],
      "execution_count": 5,
      "outputs": [
        {
          "output_type": "execute_result",
          "data": {
            "text/plain": [
              "((150, 4), (150,))"
            ]
          },
          "metadata": {
            "tags": []
          },
          "execution_count": 5
        }
      ]
    },
    {
      "cell_type": "code",
      "metadata": {
        "id": "RTmBiuPvp2KN",
        "outputId": "254479c3-f7a2-40ab-804d-a91bd035a906",
        "colab": {
          "base_uri": "https://localhost:8080/"
        }
      },
      "source": [
        "# Train/Test split with 40% test size\n",
        "X_train, X_test, y_train, y_test = train_test_split(X, y, test_size=0.4, random_state=0)\n",
        "\n",
        "# Predict Iris types with SVC model\n",
        "clf = svm.SVC(kernel='linear',C=1.0).fit(X_train, y_train)\n",
        "clf.score(X_test,y_test)"
      ],
      "execution_count": 4,
      "outputs": [
        {
          "output_type": "execute_result",
          "data": {
            "text/plain": [
              "0.9666666666666667"
            ]
          },
          "metadata": {
            "tags": []
          },
          "execution_count": 4
        }
      ]
    },
    {
      "cell_type": "code",
      "metadata": {
        "id": "0wIJDPOwrWkc",
        "outputId": "c6d33b83-7b50-4520-b705-4542a0e51942",
        "colab": {
          "base_uri": "https://localhost:8080/"
        }
      },
      "source": [
        "# Cross Validation: pass model, train, test and K=5\n",
        "cross_validate = cross_val_score(clf,X,y,cv=5)\n",
        "print(\"Accuracy: %0.2f (+/- %0.2f)\" % (cross_validate.mean(), cross_validate.std() * 2))"
      ],
      "execution_count": 6,
      "outputs": [
        {
          "output_type": "stream",
          "text": [
            "Accuracy: 0.98 (+/- 0.03)\n"
          ],
          "name": "stdout"
        }
      ]
    },
    {
      "cell_type": "code",
      "metadata": {
        "id": "09gvXLhPspq9",
        "outputId": "398424b8-04f0-46c2-a352-9f3032bb6cb7",
        "colab": {
          "base_uri": "https://localhost:8080/"
        }
      },
      "source": [
        "# Let's try polynomial kernel vs linear\n",
        "clf = svm.SVC(kernel='poly',C=1.0).fit(X_train, y_train)\n",
        "clf.score(X_test,y_test)\n",
        "cross_validate = cross_val_score(clf,X,y,cv=5)\n",
        "print(\"Accuracy: %0.2f (+/- %0.2f)\" % (cross_validate.mean(), cross_validate.std() * 2))"
      ],
      "execution_count": 7,
      "outputs": [
        {
          "output_type": "stream",
          "text": [
            "Accuracy: 0.98 (+/- 0.03)\n"
          ],
          "name": "stdout"
        }
      ]
    }
  ]
}
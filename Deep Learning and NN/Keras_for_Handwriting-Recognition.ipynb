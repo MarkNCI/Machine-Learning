{
  "nbformat": 4,
  "nbformat_minor": 0,
  "metadata": {
    "colab": {
      "name": "Keras for Political Affiliations",
      "provenance": [],
      "authorship_tag": "ABX9TyO9XVGr2Ju29etoIYTtUUhF"
    },
    "kernelspec": {
      "name": "python3",
      "display_name": "Python 3"
    },
    "accelerator": "GPU"
  },
  "cells": [
    {
      "cell_type": "code",
      "metadata": {
        "id": "KDmFeaoeNHR2"
      },
      "source": [
        "# Here we'll classify the MNIST dataset of Handwritten Images\n",
        "# This is an example of multi-class classification\n",
        "# 10 classes: labels 0-9"
      ],
      "execution_count": null,
      "outputs": []
    },
    {
      "cell_type": "code",
      "metadata": {
        "id": "h8048UmtFQAt"
      },
      "source": [
        "# Keras is now a higher level API within Tensorflow!\n",
        "from tensorflow import keras\n",
        "from tensorflow.keras.datasets import mnist\n",
        "from tensorflow.keras.models import Sequential\n",
        "from tensorflow.keras.layers import Dense, Dropout\n",
        "from tensorflow.keras.optimizers import Adam,RMSprop\n",
        "import matplotlib.pyplot as plt"
      ],
      "execution_count": 1,
      "outputs": []
    },
    {
      "cell_type": "code",
      "metadata": {
        "id": "dz5q5fxI3eCc",
        "colab": {
          "base_uri": "https://localhost:8080/"
        },
        "outputId": "6cefa88c-a6b7-4975-cfb7-14cf065ac393"
      },
      "source": [
        "# Load MNIST dataset\n",
        "(mnist_train_images, mnist_train_labels), (mnist_test_images, mnist_test_labels) = mnist.load_data()"
      ],
      "execution_count": 2,
      "outputs": [
        {
          "output_type": "stream",
          "text": [
            "Downloading data from https://storage.googleapis.com/tensorflow/tf-keras-datasets/mnist.npz\n",
            "11493376/11490434 [==============================] - 0s 0us/step\n"
          ],
          "name": "stdout"
        }
      ]
    },
    {
      "cell_type": "code",
      "metadata": {
        "id": "P6sj06BB4bIF"
      },
      "source": [
        "# Convert to floating point and divide data by 255 to normalise.Tensorflow expects this format\n",
        "\n",
        "# 60k training images, 28*28 pixels per image to 1D array of 784 pixels\n",
        "trainImages = mnist_train_images.reshape(60000,784)\n",
        "testImages = mnist_test_images.reshape(10000,784)\n",
        "\n",
        "trainImages = trainImages.astype('float32')\n",
        "testImages = testImages.astype('float32')\n",
        "\n",
        "trainImages /= 255\n",
        "testImages /= 255\n"
      ],
      "execution_count": 3,
      "outputs": []
    },
    {
      "cell_type": "code",
      "metadata": {
        "id": "4WvxP_UF51IJ"
      },
      "source": [
        "# Convert 0-9 labels to into one hot format \n",
        "trainLabels = keras.utils.to_categorical(mnist_train_labels,10)\n",
        "testLabels = keras.utils.to_categorical(mnist_test_labels,10)"
      ],
      "execution_count": 5,
      "outputs": []
    },
    {
      "cell_type": "code",
      "metadata": {
        "id": "8_hvFGsN6u12",
        "colab": {
          "base_uri": "https://localhost:8080/",
          "height": 298
        },
        "outputId": "15da10d7-40e5-4a5c-ebe5-c589727ba670"
      },
      "source": [
        "# Visualise training images\n",
        "def displayImage(number):\n",
        "  # Check one hot array of image label\n",
        "  print(trainLabels[number])\n",
        "  # Convert label bact to 0-9\n",
        "  label = trainLabels[number].argmax(axis=0)\n",
        "  # Reshape 1D tensor (768 pixels) into 28*28 image\n",
        "  image = trainImages[number].reshape([28,28])\n",
        "  # Show image\n",
        "  plt.title('Sample: %d Label: %d' % (number, label))\n",
        "  plt.imshow(image,cmap=plt.get_cmap('gray_r'))\n",
        "  plt.show()\n",
        "\n",
        "displayImage(800)"
      ],
      "execution_count": 6,
      "outputs": [
        {
          "output_type": "stream",
          "text": [
            "[0. 0. 0. 0. 0. 0. 0. 0. 0. 1.]\n"
          ],
          "name": "stdout"
        },
        {
          "output_type": "display_data",
          "data": {
            "image/png": "[encoded data removed]",
            "text/plain": [
              "<Figure size 432x288 with 1 Axes>"
            ]
          },
          "metadata": {
            "tags": [],
            "needs_background": "light"
          }
        }
      ]
    },
    {
      "cell_type": "code",
      "metadata": {
        "id": "ZtXndxwI76pk",
        "colab": {
          "base_uri": "https://localhost:8080/"
        },
        "outputId": "29986431-f360-4256-cebb-b6b10df656ba"
      },
      "source": [
        "# Build our neural network\n",
        "model = Sequential()\n",
        "# Dense layer: hidden layer of neurons. Here 512 neurons with input shape of 784 neurons\n",
        "model.add(Dense(512,activation='relu',input_shape=(784,)))\n",
        "# To prevent overfitting, drop 20% of neurons to spread out learning\n",
        "model.add(Dropout(0.2))\n",
        "model.add(Dense(512,activation='relu'))\n",
        "model.add(Dropout(0.2))\n",
        "# Softmax function to map classification to label 0-9\n",
        "model.add(Dense(10,activation='softmax'))\n",
        "model.summary()"
      ],
      "execution_count": 7,
      "outputs": [
        {
          "output_type": "stream",
          "text": [
            "Model: \"sequential\"\n",
            "_________________________________________________________________\n",
            "Layer (type)                 Output Shape              Param #   \n",
            "=================================================================\n",
            "dense (Dense)                (None, 512)               401920    \n",
            "_________________________________________________________________\n",
            "dropout (Dropout)            (None, 512)               0         \n",
            "_________________________________________________________________\n",
            "dense_1 (Dense)              (None, 512)               262656    \n",
            "_________________________________________________________________\n",
            "dropout_1 (Dropout)          (None, 512)               0         \n",
            "_________________________________________________________________\n",
            "dense_2 (Dense)              (None, 10)                5130      \n",
            "=================================================================\n",
            "Total params: 669,706\n",
            "Trainable params: 669,706\n",
            "Non-trainable params: 0\n",
            "_________________________________________________________________\n"
          ],
          "name": "stdout"
        }
      ]
    },
    {
      "cell_type": "code",
      "metadata": {
        "id": "RS-AD8FP9oZe",
        "colab": {
          "base_uri": "https://localhost:8080/"
        },
        "outputId": "87b6667f-3186-4ac7-bd4d-a3824094cd42"
      },
      "source": [
        "# Compile our model with optimiser and loss function\n",
        "model.compile(loss='categorical_crossentropy',optimizer=RMSprop(),metrics=['accuracy'])\n",
        "# Train the model\n",
        "model.fit(trainImages,trainLabels,batch_size=100,epochs=10,verbose=2,validation_data=(testImages,testLabels))"
      ],
      "execution_count": 8,
      "outputs": [
        {
          "output_type": "stream",
          "text": [
            "Epoch 1/10\n",
            "600/600 - 5s - loss: 0.2363 - accuracy: 0.9275 - val_loss: 0.1132 - val_accuracy: 0.9627\n",
            "Epoch 2/10\n",
            "600/600 - 1s - loss: 0.1029 - accuracy: 0.9694 - val_loss: 0.0790 - val_accuracy: 0.9754\n",
            "Epoch 3/10\n",
            "600/600 - 1s - loss: 0.0772 - accuracy: 0.9772 - val_loss: 0.0794 - val_accuracy: 0.9795\n",
            "Epoch 4/10\n",
            "600/600 - 1s - loss: 0.0636 - accuracy: 0.9812 - val_loss: 0.0775 - val_accuracy: 0.9797\n",
            "Epoch 5/10\n",
            "600/600 - 2s - loss: 0.0530 - accuracy: 0.9840 - val_loss: 0.0907 - val_accuracy: 0.9778\n",
            "Epoch 6/10\n",
            "600/600 - 1s - loss: 0.0484 - accuracy: 0.9863 - val_loss: 0.0765 - val_accuracy: 0.9818\n",
            "Epoch 7/10\n",
            "600/600 - 1s - loss: 0.0433 - accuracy: 0.9877 - val_loss: 0.0810 - val_accuracy: 0.9818\n",
            "Epoch 8/10\n",
            "600/600 - 2s - loss: 0.0402 - accuracy: 0.9888 - val_loss: 0.0963 - val_accuracy: 0.9791\n",
            "Epoch 9/10\n",
            "600/600 - 1s - loss: 0.0349 - accuracy: 0.9901 - val_loss: 0.0895 - val_accuracy: 0.9830\n",
            "Epoch 10/10\n",
            "600/600 - 1s - loss: 0.0343 - accuracy: 0.9905 - val_loss: 0.0913 - val_accuracy: 0.9815\n"
          ],
          "name": "stdout"
        },
        {
          "output_type": "execute_result",
          "data": {
            "text/plain": [
              "<tensorflow.python.keras.callbacks.History at 0x7f76b05d7c90>"
            ]
          },
          "metadata": {
            "tags": []
          },
          "execution_count": 8
        }
      ]
    },
    {
      "cell_type": "code",
      "metadata": {
        "id": "EC4nGuR6_F6o",
        "colab": {
          "base_uri": "https://localhost:8080/"
        },
        "outputId": "c440305e-6c45-4188-cfa8-247cb91ad878"
      },
      "source": [
        "testScores = model.evaluate(testImages,testLabels,verbose=0)\n",
        "print('Test Loss: ',testScores[0])\n",
        "print('Test Accuracy: ',testScores[1])"
      ],
      "execution_count": 9,
      "outputs": [
        {
          "output_type": "stream",
          "text": [
            "Test Loss:  0.09127877652645111\n",
            "Test Accuracy:  0.9815000295639038\n"
          ],
          "name": "stdout"
        }
      ]
    },
    {
      "cell_type": "code",
      "metadata": {
        "id": "d-wpYqjWAow4",
        "colab": {
          "base_uri": "https://localhost:8080/",
          "height": 1000
        },
        "outputId": "f2434272-aaaf-459c-e590-befe399dde45"
      },
      "source": [
        "# Let's look at the one's that were misclassified\n",
        "for i in range(1000):\n",
        "  image = testImages[i,:].reshape(1,784)\n",
        "  prediction = model.predict(image).argmax()\n",
        "  label = testLabels[i].argmax()\n",
        "  if(prediction != label):\n",
        "    plt.title('Prediction: %d Label: %d' % (prediction, label))\n",
        "    plt.imshow(image.reshape(28,28),cmap=plt.get_cmap('gray_r'))\n",
        "    plt.show()"
      ],
      "execution_count": null,
      "outputs": [
        {
          "output_type": "display_data",
          "data": {
            "image/png": "[encoded data removed]",
            "text/plain": [
              "<Figure size 432x288 with 1 Axes>"
            ]
          },
          "metadata": {
            "tags": [],
            "needs_background": "light"
          }
        },
        {
          "output_type": "display_data",
          "data": {
            "image/png": "[encoded data removed]",
            "text/plain": [
              "<Figure size 432x288 with 1 Axes>"
            ]
          },
          "metadata": {
            "tags": [],
            "needs_background": "light"
          }
        },
        {
          "output_type": "display_data",
          "data": {
            "image/png": "[encoded data removed]",
            "text/plain": [
              "<Figure size 432x288 with 1 Axes>"
            ]
          },
          "metadata": {
            "tags": [],
            "needs_background": "light"
          }
        },
        {
          "output_type": "display_data",
          "data": {
            "image/png": "[encoded data removed]",
            "text/plain": [
              "<Figure size 432x288 with 1 Axes>"
            ]
          },
          "metadata": {
            "tags": [],
            "needs_background": "light"
          }
        },
        {
          "output_type": "display_data",
          "data": {
            "image/png": "[encoded data removed]",
            "text/plain": [
              "<Figure size 432x288 with 1 Axes>"
            ]
          },
          "metadata": {
            "tags": [],
            "needs_background": "light"
          }
        },
        {
          "output_type": "display_data",
          "data": {
            "image/png": "[encoded data removed]",
            "text/plain": [
              "<Figure size 432x288 with 1 Axes>"
            ]
          },
          "metadata": {
            "tags": [],
            "needs_background": "light"
          }
        },
        {
          "output_type": "display_data",
          "data": {
            "image/png": "[encoded data removed]",
            "text/plain": [
              "<Figure size 432x288 with 1 Axes>"
            ]
          },
          "metadata": {
            "tags": [],
            "needs_background": "light"
          }
        },
        {
          "output_type": "display_data",
          "data": {
            "image/png": "[encoded data removed]",
            "text/plain": [
              "<Figure size 432x288 with 1 Axes>"
            ]
          },
          "metadata": {
            "tags": [],
            "needs_background": "light"
          }
        },
        {
          "output_type": "display_data",
          "data": {
            "image/png": "[encoded data removed]",
            "text/plain": [
              "<Figure size 432x288 with 1 Axes>"
            ]
          },
          "metadata": {
            "tags": [],
            "needs_background": "light"
          }
        }
      ]
    }
  ]
}
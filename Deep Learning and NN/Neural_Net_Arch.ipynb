{
  "nbformat": 4,
  "nbformat_minor": 0,
  "metadata": {
    "colab": {
      "name": "Neural_Net_Arch.ipynb",
      "provenance": [],
      "authorship_tag": "ABX9TyPKEhisxDwlCGig0jhT3l+7"
    },
    "kernelspec": {
      "name": "python3",
      "display_name": "Python 3"
    }
  },
  "cells": [
    {
      "cell_type": "code",
      "metadata": {
        "id": "Hk3vrSubbRru"
      },
      "source": [
        "## Layers ##\r\n",
        "\r\n",
        "# Each NN is made up of 3 types:\r\n",
        "# Input Layer: Where the input data (features) are fed into NN\r\n",
        "\r\n",
        "# Hidden Layer: Made up of activation nodes, that perform operation (sigmoid, relu etc.) on input data\r\n",
        "# Each hidden layer feeds it's output into the next hidden layer\r\n",
        "\r\n",
        "# Output Layer: Nodes that provide the final outcome\r\n",
        "\r\n"
      ],
      "execution_count": null,
      "outputs": []
    }
  ]
}
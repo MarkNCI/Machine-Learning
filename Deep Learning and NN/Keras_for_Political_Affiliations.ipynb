{
  "nbformat": 4,
  "nbformat_minor": 0,
  "metadata": {
    "colab": {
      "name": "Keras for Political Affiliations",
      "provenance": [],
      "authorship_tag": "ABX9TyNEQMqS6NPllbcSyCEeAVid"
    },
    "kernelspec": {
      "name": "python3",
      "display_name": "Python 3"
    }
  },
  "cells": [
    {
      "cell_type": "code",
      "metadata": {
        "id": "h8048UmtFQAt",
        "colab_type": "code",
        "colab": {}
      },
      "source": [
        "# "
      ],
      "execution_count": 0,
      "outputs": []
    }
  ]
}
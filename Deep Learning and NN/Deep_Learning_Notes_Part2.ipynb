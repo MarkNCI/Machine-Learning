{
  "nbformat": 4,
  "nbformat_minor": 0,
  "metadata": {
    "colab": {
      "name": "Deep_Learning_Notes_Part2.ipynb",
      "provenance": [],
      "collapsed_sections": [],
      "authorship_tag": "ABX9TyNBzKgvjhr4Xy4KH64cHww+"
    },
    "kernelspec": {
      "name": "python3",
      "display_name": "Python 3"
    }
  },
  "cells": [
    {
      "cell_type": "code",
      "metadata": {
        "id": "FoqdEpsFb5P8",
        "colab_type": "code",
        "colab": {}
      },
      "source": [
        "## Tuning Neural Networks with Hyperparmameters ##\n",
        "\n",
        "# Learning Rate\n",
        "# NN's are trained using Gradient Descent or alternative\n",
        "# Starting at random point, sample different weights to minimise cost function over many epochs\n",
        "# Distance between these samples in the learning rate"
      ],
      "execution_count": 0,
      "outputs": []
    }
  ]
}
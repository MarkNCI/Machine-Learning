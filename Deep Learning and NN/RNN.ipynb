{
  "nbformat": 4,
  "nbformat_minor": 0,
  "metadata": {
    "colab": {
      "name": "RNN",
      "provenance": [],
      "collapsed_sections": [],
      "authorship_tag": "ABX9TyO9wFJosXQ+C7xWlMOg/w2L"
    },
    "kernelspec": {
      "name": "python3",
      "display_name": "Python 3"
    },
    "accelerator": "TPU"
  },
  "cells": [
    {
      "cell_type": "code",
      "metadata": {
        "id": "DpE4Fu2pE_zq",
        "colab_type": "code",
        "colab": {}
      },
      "source": [
        "## Recurrent Neural Network ##\n",
        "# Used for sequenced data, such as time series\n",
        "# Predicting future behaviour based on past behaviour\n",
        "# stock trades, image captions, machine translation\n",
        "# Slower to train then CNN, use GPU or TPU!\n",
        "\n",
        "# RNN Topologies:\n",
        "#   - Sequence to Sequence: predict stock prices using series of historical data\n",
        "#   - Sequence to Vector: Sentiment analysis on words in a sentence\n",
        "#   - Vector to Sequence: Create captions from an image\n",
        "#   - Encoder -> Decoder: Machine translation (Seq.-> Vector-> Seq.)\n",
        "\n",
        "# Training RNN's\n",
        "# State from earlier time steps gets diluted over time\n",
        "# Problematic when learning, like sentence structures\n",
        "# LSTM Cell: Maintains seperate short and long term states\n",
        "# GRU Cell: Gated Recurrent Cell, the above simplified "
      ],
      "execution_count": 0,
      "outputs": []
    },
    {
      "cell_type": "code",
      "metadata": {
        "id": "iKNkDwkNFIZU",
        "colab_type": "code",
        "colab": {}
      },
      "source": [
        "# RNN for Sentiment Analysis on Movie Reviews\n",
        "from tensorflow.keras.preprocessing import sequence\n",
        "from tensorflow.keras.models import Sequential\n",
        "from tensorflow.keras.layers import Dense,Embedding, LSTM\n",
        "from tensorflow.keras.datasets import imdb"
      ],
      "execution_count": 0,
      "outputs": []
    },
    {
      "cell_type": "code",
      "metadata": {
        "id": "cy-g1cJ7T-cm",
        "colab_type": "code",
        "colab": {
          "base_uri": "https://localhost:8080/",
          "height": 104
        },
        "outputId": "cd3a3c10-c510-48a9-dd60-5e0f8741c4fe"
      },
      "source": [
        "# 5k training reviews and 25k testing reviews. \n",
        "# num_words is most popular words in dataset\n",
        "(Xtrain,yTrain),(Xtest,yTest) = imdb.load_data(num_words=20000)\n",
        "# We can the words have been normalised into numbers!\n",
        "print('Xtrain: ',Xtrain[0])\n",
        "# 0: bad review, 1: good review\n",
        "print('yTrain: ',yTrain[0])"
      ],
      "execution_count": 3,
      "outputs": [
        {
          "output_type": "stream",
          "text": [
            "Downloading data from https://storage.googleapis.com/tensorflow/tf-keras-datasets/imdb.npz\n",
            "17465344/17464789 [==============================] - 0s 0us/step\n",
            "Xtrain:  [1, 14, 22, 16, 43, 530, 973, 1622, 1385, 65, 458, 4468, 66, 3941, 4, 173, 36, 256, 5, 25, 100, 43, 838, 112, 50, 670, 2, 9, 35, 480, 284, 5, 150, 4, 172, 112, 167, 2, 336, 385, 39, 4, 172, 4536, 1111, 17, 546, 38, 13, 447, 4, 192, 50, 16, 6, 147, 2025, 19, 14, 22, 4, 1920, 4613, 469, 4, 22, 71, 87, 12, 16, 43, 530, 38, 76, 15, 13, 1247, 4, 22, 17, 515, 17, 12, 16, 626, 18, 19193, 5, 62, 386, 12, 8, 316, 8, 106, 5, 4, 2223, 5244, 16, 480, 66, 3785, 33, 4, 130, 12, 16, 38, 619, 5, 25, 124, 51, 36, 135, 48, 25, 1415, 33, 6, 22, 12, 215, 28, 77, 52, 5, 14, 407, 16, 82, 10311, 8, 4, 107, 117, 5952, 15, 256, 4, 2, 7, 3766, 5, 723, 36, 71, 43, 530, 476, 26, 400, 317, 46, 7, 4, 12118, 1029, 13, 104, 88, 4, 381, 15, 297, 98, 32, 2071, 56, 26, 141, 6, 194, 7486, 18, 4, 226, 22, 21, 134, 476, 26, 480, 5, 144, 30, 5535, 18, 51, 36, 28, 224, 92, 25, 104, 4, 226, 65, 16, 38, 1334, 88, 12, 16, 283, 5, 16, 4472, 113, 103, 32, 15, 16, 5345, 19, 178, 32]\n",
            "yTrain:  1\n"
          ],
          "name": "stdout"
        }
      ]
    },
    {
      "cell_type": "code",
      "metadata": {
        "id": "_6T1AKSsVGPP",
        "colab_type": "code",
        "colab": {}
      },
      "source": [
        "# Create vectors limited to first 80 words. \n",
        "# RNN's can get out of hand, will save capacity/time this way.\n",
        "Xtrain = sequence.pad_sequences(Xtrain,maxlen=80)\n",
        "Xtest = sequence.pad_sequences(Xtest,maxlen=80)"
      ],
      "execution_count": 0,
      "outputs": []
    },
    {
      "cell_type": "code",
      "metadata": {
        "id": "dGGm9PcQZPsb",
        "colab_type": "code",
        "colab": {}
      },
      "source": [
        "# Build the model\n",
        "model = Sequential()\n",
        "# Embedding converts input data into dense vectors of fixed size for NN\n",
        "# 20k is num_words, 120 is neurons \n",
        "model.add(Embedding(20000,120))\n",
        "# Implement LSTM with dropout phases\n",
        "model.add(LSTM(128,dropout=0.2,recurrent_dropout=0.2))\n",
        "# Binary classifiction\n",
        "model.add(Dense(1,activation='sigmoid'))"
      ],
      "execution_count": 0,
      "outputs": []
    },
    {
      "cell_type": "code",
      "metadata": {
        "id": "mM7WSDAlZjG8",
        "colab_type": "code",
        "colab": {}
      },
      "source": [
        "model.compile(loss='binary_crossentropy',optimizer='adam',metrics=['accuracy'])"
      ],
      "execution_count": 0,
      "outputs": []
    },
    {
      "cell_type": "code",
      "metadata": {
        "id": "VK5bZnfLa535",
        "colab_type": "code",
        "colab": {
          "base_uri": "https://localhost:8080/",
          "height": 34
        },
        "outputId": "06fafb00-bd7f-4df9-d00d-afb1577ebb0c"
      },
      "source": [
        "model.fit(Xtrain,yTrain,batch_size=32,epochs=15,verbose=2,validation_data=(Xtest,yTest))"
      ],
      "execution_count": 0,
      "outputs": [
        {
          "output_type": "stream",
          "text": [
            "Epoch 1/15\n"
          ],
          "name": "stdout"
        }
      ]
    },
    {
      "cell_type": "code",
      "metadata": {
        "id": "AQPwU2NSb-gf",
        "colab_type": "code",
        "colab": {}
      },
      "source": [
        "# Stopped at 8:00"
      ],
      "execution_count": 0,
      "outputs": []
    }
  ]
}
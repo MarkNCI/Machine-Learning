{
  "nbformat": 4,
  "nbformat_minor": 0,
  "metadata": {
    "colab": {
      "name": "CNN",
      "provenance": [],
      "authorship_tag": "ABX9TyPTk2z2bVY5YpI7tTx5ZZly"
    },
    "kernelspec": {
      "name": "python3",
      "display_name": "Python 3"
    },
    "accelerator": "GPU"
  },
  "cells": [
    {
      "cell_type": "code",
      "metadata": {
        "id": "aH2-NbfstlC-",
        "colab_type": "code",
        "colab": {}
      },
      "source": [
        "# Convolutional Neural Network\n",
        "# Data that doesn't align into columns\n",
        "# Images, machine translation,sentence classification, sentiment analysis\n",
        "# Source data needs proper dimensions (e.g. width*height*colour channels)\n",
        "# Conv2D layer convulates a 2D layer\n",
        "# MaxPool2D layes reduce data by taking a max value in a block\n",
        "# Flattening will convert 2D to 1D to pass to hidden layers\n",
        "# Usually Conv2D -> MaxPooling2D -> Dropout -> Flatten -> Dense -> Dropout -> Softmax"
      ],
      "execution_count": 0,
      "outputs": []
    },
    {
      "cell_type": "code",
      "metadata": {
        "id": "4nNzXrQw2ohO",
        "colab_type": "code",
        "colab": {}
      },
      "source": [
        "# CNN with MNIST\n",
        "import tensorflow as tf\n",
        "import matplotlib.pyplot as plt\n",
        "from tensorflow.keras.datasets import mnist\n",
        "from tensorflow.keras.models import Sequential\n",
        "from tensorflow.keras.layers import Dense, Dropout, Conv2D, MaxPool2D, Flatten\n",
        "from tensorflow.keras.optimizers import Adam,RMSprop\n",
        "from tensorflow.keras import backend as K"
      ],
      "execution_count": 0,
      "outputs": []
    },
    {
      "cell_type": "code",
      "metadata": {
        "id": "EWFtx-fk3ZD9",
        "colab_type": "code",
        "colab": {
          "base_uri": "https://localhost:8080/",
          "height": 70
        },
        "outputId": "21c7239b-d162-4998-929a-5e812e697804"
      },
      "source": [
        "(mnist_train_images, mnist_train_labels), (mnist_test_images, mnist_test_labels) = mnist.load_data()"
      ],
      "execution_count": 3,
      "outputs": [
        {
          "output_type": "stream",
          "text": [
            "Downloading data from https://storage.googleapis.com/tensorflow/tf-keras-datasets/mnist.npz\n",
            "11493376/11490434 [==============================] - 0s 0us/step\n"
          ],
          "name": "stdout"
        }
      ]
    },
    {
      "cell_type": "code",
      "metadata": {
        "id": "91J9h4Xd3dz1",
        "colab_type": "code",
        "colab": {}
      },
      "source": [
        "# Unlike Keras example, we can use 28*28 pixel images as they are.\n",
        "# We're using 1*28*28 as it's greyscale. If colour, use 3 for red,green,blue\n",
        "if K.image_data_format() == 'channels_first':\n",
        "  trainImages = mnist_train_images.reshape(mnist_train_images.shape[0],1,28,28)\n",
        "  testImages = mnist_test_images.reshape(mnist_test_images.shape[0],1,28,28)\n",
        "  inputShape = (1,28,28)\n",
        "else:\n",
        "  trainImages = mnist_train_images.reshape(mnist_train_images.shape[0],28,28,1)\n",
        "  testImages = mnist_test_images.reshape(mnist_test_images.shape[0],28,28,1)\n",
        "  inputShape = (28,28,1)\n",
        "\n",
        "trainImages = trainImages.astype('float32')\n",
        "testImages = testImages.astype('float32')\n",
        "trainImages /= 255\n",
        "testImages /= 255"
      ],
      "execution_count": 0,
      "outputs": []
    },
    {
      "cell_type": "code",
      "metadata": {
        "id": "bv6WfaPh5SoF",
        "colab_type": "code",
        "colab": {}
      },
      "source": [
        "# Convert labels to one hot\n",
        "trainLabels = tf.keras.utils.to_categorical(mnist_train_labels,10)\n",
        "testLabels = tf.keras.utils.to_categorical(mnist_test_labels,10)"
      ],
      "execution_count": 0,
      "outputs": []
    },
    {
      "cell_type": "code",
      "metadata": {
        "id": "UmcrAIol53sj",
        "colab_type": "code",
        "colab": {
          "base_uri": "https://localhost:8080/",
          "height": 298
        },
        "outputId": "9e4c014f-1c9f-4808-865f-9cd66fa05236"
      },
      "source": [
        "\n",
        "# Visualise training images\n",
        "def displayImage(number):\n",
        "  # Check one hot array of image label\n",
        "  print(trainLabels[number])\n",
        "  # Convert label bact to 0-9\n",
        "  label = trainLabels[number].argmax(axis=0)\n",
        "  # Reshape 1D tensor (768 pixels) into 28*28 image\n",
        "  image = trainImages[number].reshape([28,28])\n",
        "  # Show image\n",
        "  plt.title('Sample: %d Label: %d' % (number, label))\n",
        "  plt.imshow(image,cmap=plt.get_cmap('gray_r'))\n",
        "  plt.show()\n",
        "\n",
        "displayImage(600)"
      ],
      "execution_count": 12,
      "outputs": [
        {
          "output_type": "stream",
          "text": [
            "[0. 0. 0. 0. 0. 0. 0. 0. 0. 1.]\n"
          ],
          "name": "stdout"
        },
        {
          "output_type": "display_data",
          "data": {
            "image/png": "[encoded data removed]",
            "text/plain": [
              "<Figure size 432x288 with 1 Axes>"
            ]
          },
          "metadata": {
            "tags": [],
            "needs_background": "light"
          }
        }
      ]
    },
    {
      "cell_type": "code",
      "metadata": {
        "id": "h-VezprY6D0Q",
        "colab_type": "code",
        "colab": {
          "base_uri": "https://localhost:8080/",
          "height": 420
        },
        "outputId": "93a99a4b-172f-42a0-a521-239b546a4c63"
      },
      "source": [
        "# Build thr model\n",
        "model = Sequential()\n",
        "# 32 kernels size 3*3. Kernel is a filter used to extract features from an image\n",
        "model.add(Conv2D(32,kernel_size=(3,3),activation='relu',input_shape=inputShape))\n",
        "model.add(Conv2D(64,(3,3),activation='relu'))\n",
        "# Reduce 2*2 pixel block to a single pixel, represents max pixel found\n",
        "model.add(MaxPool2D(pool_size=(2,2)))\n",
        "# Reduce neurons to prevent overfitting\n",
        "model.add(Dropout(0.25))\n",
        "# Flatten result to 1D to pass to final layer\n",
        "model.add(Flatten())\n",
        "# Hidden layer for learning\n",
        "model.add(Dense(128,activation='relu'))\n",
        "model.add(Dropout(0.5))\n",
        "# Classify from 0-9 with softmax\n",
        "model.add(Dense(10,activation='softmax'))\n",
        "model.summary()"
      ],
      "execution_count": 17,
      "outputs": [
        {
          "output_type": "stream",
          "text": [
            "Model: \"sequential_4\"\n",
            "_________________________________________________________________\n",
            "Layer (type)                 Output Shape              Param #   \n",
            "=================================================================\n",
            "conv2d_7 (Conv2D)            (None, 26, 26, 32)        320       \n",
            "_________________________________________________________________\n",
            "conv2d_8 (Conv2D)            (None, 24, 24, 64)        18496     \n",
            "_________________________________________________________________\n",
            "max_pooling2d_2 (MaxPooling2 (None, 12, 12, 64)        0         \n",
            "_________________________________________________________________\n",
            "dropout_2 (Dropout)          (None, 12, 12, 64)        0         \n",
            "_________________________________________________________________\n",
            "flatten_1 (Flatten)          (None, 9216)              0         \n",
            "_________________________________________________________________\n",
            "dense_2 (Dense)              (None, 128)               1179776   \n",
            "_________________________________________________________________\n",
            "dropout_3 (Dropout)          (None, 128)               0         \n",
            "_________________________________________________________________\n",
            "dense_3 (Dense)              (None, 10)                1290      \n",
            "=================================================================\n",
            "Total params: 1,199,882\n",
            "Trainable params: 1,199,882\n",
            "Non-trainable params: 0\n",
            "_________________________________________________________________\n"
          ],
          "name": "stdout"
        }
      ]
    },
    {
      "cell_type": "code",
      "metadata": {
        "id": "UzXc77QO7NMo",
        "colab_type": "code",
        "colab": {}
      },
      "source": [
        "# Compile the model\n",
        "model.compile(loss='categorical_crossentropy',optimizer='adam',metrics=['accuracy'])"
      ],
      "execution_count": 0,
      "outputs": []
    },
    {
      "cell_type": "code",
      "metadata": {
        "id": "o5dfnsfd9QxP",
        "colab_type": "code",
        "colab": {
          "base_uri": "https://localhost:8080/",
          "height": 390
        },
        "outputId": "d9ab4dd8-405e-49ed-8b5a-e8aa5b1e2fc3"
      },
      "source": [
        "model.fit(trainImages,trainLabels,batch_size=32,epochs=10,verbose=2,validation_data=(testImages,testLabels))"
      ],
      "execution_count": 19,
      "outputs": [
        {
          "output_type": "stream",
          "text": [
            "Epoch 1/10\n",
            "1875/1875 - 13s - loss: 0.1844 - accuracy: 0.9437 - val_loss: 0.0432 - val_accuracy: 0.9864\n",
            "Epoch 2/10\n",
            "1875/1875 - 13s - loss: 0.0795 - accuracy: 0.9766 - val_loss: 0.0422 - val_accuracy: 0.9866\n",
            "Epoch 3/10\n",
            "1875/1875 - 13s - loss: 0.0622 - accuracy: 0.9813 - val_loss: 0.0320 - val_accuracy: 0.9900\n",
            "Epoch 4/10\n",
            "1875/1875 - 13s - loss: 0.0476 - accuracy: 0.9860 - val_loss: 0.0256 - val_accuracy: 0.9918\n",
            "Epoch 5/10\n",
            "1875/1875 - 13s - loss: 0.0422 - accuracy: 0.9870 - val_loss: 0.0283 - val_accuracy: 0.9911\n",
            "Epoch 6/10\n",
            "1875/1875 - 13s - loss: 0.0363 - accuracy: 0.9889 - val_loss: 0.0268 - val_accuracy: 0.9915\n",
            "Epoch 7/10\n",
            "1875/1875 - 13s - loss: 0.0314 - accuracy: 0.9899 - val_loss: 0.0287 - val_accuracy: 0.9916\n",
            "Epoch 8/10\n",
            "1875/1875 - 13s - loss: 0.0296 - accuracy: 0.9905 - val_loss: 0.0315 - val_accuracy: 0.9905\n",
            "Epoch 9/10\n",
            "1875/1875 - 13s - loss: 0.0234 - accuracy: 0.9925 - val_loss: 0.0376 - val_accuracy: 0.9905\n",
            "Epoch 10/10\n",
            "1875/1875 - 13s - loss: 0.0242 - accuracy: 0.9922 - val_loss: 0.0287 - val_accuracy: 0.9918\n"
          ],
          "name": "stdout"
        },
        {
          "output_type": "execute_result",
          "data": {
            "text/plain": [
              "<tensorflow.python.keras.callbacks.History at 0x7fb8c0477b00>"
            ]
          },
          "metadata": {
            "tags": []
          },
          "execution_count": 19
        }
      ]
    },
    {
      "cell_type": "code",
      "metadata": {
        "id": "VbOijrGa9yYV",
        "colab_type": "code",
        "colab": {
          "base_uri": "https://localhost:8080/",
          "height": 50
        },
        "outputId": "d815b532-81e6-4334-85e4-c68165df5ec2"
      },
      "source": [
        "# Check the accuracy and loss\n",
        "accuracyScoring = model.evaluate(testImages,testLabels,verbose=0)\n",
        "print('Test Loss: ',accuracyScoring[0])\n",
        "print('Test Accuracy: ',accuracyScoring[1])"
      ],
      "execution_count": 21,
      "outputs": [
        {
          "output_type": "stream",
          "text": [
            "Test Loss:  0.028723398223519325\n",
            "Test Accuracy:  0.9918000102043152\n"
          ],
          "name": "stdout"
        }
      ]
    },
    {
      "cell_type": "code",
      "metadata": {
        "id": "L42hU-Yo-Uea",
        "colab_type": "code",
        "colab": {}
      },
      "source": [
        ""
      ],
      "execution_count": 0,
      "outputs": []
    }
  ]
}

{
  "nbformat": 4,
  "nbformat_minor": 0,
  "metadata": {
    "colab": {
      "name": "Spark Basics",
      "provenance": [],
      "authorship_tag": "ABX9TyMEh8NNLP5V7KqrEu89lu9p"
    },
    "kernelspec": {
      "name": "python3",
      "display_name": "Python 3"
    }
  },
  "cells": [
    {
      "cell_type": "code",
      "metadata": {
        "id": "f3RzyzlCoYPW",
        "colab_type": "code",
        "colab": {}
      },
      "source": [
        "## Differences to Spark 2.x.x versions\n",
        "\n",
        "# Better performance (speed)\n",
        "# Deprecating Python 2\n",
        "# Moving from Graphx to SparkGraph (uses Cypher like Neo4j)"
      ],
      "execution_count": 0,
      "outputs": []
    }
  ]
}
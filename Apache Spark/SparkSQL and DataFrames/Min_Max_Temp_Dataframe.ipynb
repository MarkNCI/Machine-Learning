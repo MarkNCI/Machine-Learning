{
  "nbformat": 4,
  "nbformat_minor": 0,
  "metadata": {
    "colab": {
      "name": "Min_Max_Temp_Dataframe.ipynb",
      "provenance": [],
      "authorship_tag": "ABX9TyOvN/Z/dHE0L6/WXxLShbvO"
    },
    "kernelspec": {
      "name": "python3",
      "display_name": "Python 3"
    }
  },
  "cells": [
    {
      "cell_type": "code",
      "metadata": {
        "id": "g02r76jOK2ej"
      },
      "source": [
        "# Using Dataframe for Min and Max Temp by Location"
      ],
      "execution_count": null,
      "outputs": []
    }
  ]
}
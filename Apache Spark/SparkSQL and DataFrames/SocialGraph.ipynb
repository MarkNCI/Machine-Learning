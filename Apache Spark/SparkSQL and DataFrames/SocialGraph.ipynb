{
  "nbformat": 4,
  "nbformat_minor": 0,
  "metadata": {
    "colab": {
      "name": "SocialGraph.ipynb",
      "provenance": [],
      "authorship_tag": "ABX9TyNuTwzZ6rux+x7JOjvBk0xI"
    },
    "kernelspec": {
      "name": "python3",
      "display_name": "Python 3"
    }
  },
  "cells": [
    {
      "cell_type": "code",
      "metadata": {
        "id": "3GhmH0LO436j"
      },
      "source": [
        ""
      ],
      "execution_count": null,
      "outputs": []
    },
    {
      "cell_type": "code",
      "metadata": {
        "colab": {
          "base_uri": "https://localhost:8080/"
        },
        "id": "-treXdDm5Pd3",
        "outputId": "eedead1f-b678-45ae-f5dd-67ebb098db05"
      },
      "source": [
        "# Installing Spark 3.0.1 with dependencies\r\n",
        "!apt-get install openjdk-8-jdk-headless -qq > /dev/null\r\n",
        "print('JDK 8 installed')\r\n",
        "!wget -q https://www-us.apache.org/dist/spark/spark-3.0.1/spark-3.0.1-bin-hadoop2.7.tgz\r\n",
        "print('Spark 3.0.1 installer downloaded')\r\n",
        "!tar xf spark-3.0.1-bin-hadoop2.7.tgz\r\n",
        "print('Spark 3.0.1 installed')\r\n",
        "!pip install -q findspark\r\n",
        "print('findspark installed')\r\n",
        "import os\r\n",
        "os.environ[\"JAVA_HOME\"] = \"/usr/lib/jvm/java-8-openjdk-amd64\"\r\n",
        "os.environ[\"SPARK_HOME\"] = \"/content/spark-3.0.1-bin-hadoop2.7\"\r\n",
        "print('Environment Variables Set')\r\n",
        "import findspark\r\n",
        "findspark.init()\r\n",
        "print('Install Complete')"
      ],
      "execution_count": 1,
      "outputs": [
        {
          "output_type": "stream",
          "text": [
            "JDK 8 installed\n",
            "Spark 3.0.1 installer downloaded\n",
            "Spark 3.0.1 installed\n",
            "findspark installed\n",
            "Environment Variables Set\n",
            "Install Complete\n"
          ],
          "name": "stdout"
        }
      ]
    }
  ]
}
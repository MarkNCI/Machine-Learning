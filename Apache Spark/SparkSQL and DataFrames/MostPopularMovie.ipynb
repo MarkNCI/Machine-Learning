{
  "nbformat": 4,
  "nbformat_minor": 0,
  "metadata": {
    "colab": {
      "name": "MostPopularMovie.ipynb",
      "provenance": [],
      "authorship_tag": "ABX9TyNjrjYHa2akzdpXW7fp62L+"
    },
    "kernelspec": {
      "name": "python3",
      "display_name": "Python 3"
    }
  },
  "cells": [
    {
      "cell_type": "code",
      "metadata": {
        "id": "mHtHDeyofMMU"
      },
      "source": [
        "# Most Popular Movie in MovieLens dataset\r\n",
        "from google.colab import files\r\n",
        "uploaded = files.upload()"
      ],
      "execution_count": null,
      "outputs": []
    },
    {
      "cell_type": "code",
      "metadata": {
        "colab": {
          "base_uri": "https://localhost:8080/"
        },
        "id": "t-Is_Qq0fOxF",
        "outputId": "511adaf5-7c5e-4df5-b8e7-b71755cb5e49"
      },
      "source": [
        "# Installing Spark 3.0.1 with dependencies\r\n",
        "!apt-get install openjdk-8-jdk-headless -qq > /dev/null\r\n",
        "print('JDK 8 installed')\r\n",
        "!wget -q https://www-us.apache.org/dist/spark/spark-3.0.1/spark-3.0.1-bin-hadoop2.7.tgz\r\n",
        "print('Spark 3.0.1 installer downloaded')\r\n",
        "!tar xf spark-3.0.1-bin-hadoop2.7.tgz\r\n",
        "print('Spark 3.0.1 downloaded')\r\n",
        "!pip install -q findspark\r\n",
        "print('findspark installed')\r\n",
        "import os\r\n",
        "os.environ[\"JAVA_HOME\"] = \"/usr/lib/jvm/java-8-openjdk-amd64\"\r\n",
        "os.environ[\"SPARK_HOME\"] = \"/content/spark-3.0.1-bin-hadoop2.7\"\r\n",
        "print('Environment Variables Set')\r\n",
        "import findspark\r\n",
        "findspark.init()\r\n",
        "print('Install Complete')"
      ],
      "execution_count": 1,
      "outputs": [
        {
          "output_type": "stream",
          "text": [
            "JDK 8 installed\n",
            "Spark 3.0.1 installer downloaded\n",
            "Spark 3.0.1 downloaded\n",
            "findspark installed\n",
            "Environment Variables Set\n",
            "Install Complete\n"
          ],
          "name": "stdout"
        }
      ]
    },
    {
      "cell_type": "code",
      "metadata": {
        "id": "vPcd2G2TfUMS"
      },
      "source": [
        ""
      ],
      "execution_count": null,
      "outputs": []
    }
  ]
}
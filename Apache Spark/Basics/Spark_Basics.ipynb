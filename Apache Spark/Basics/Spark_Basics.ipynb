{
  "nbformat": 4,
  "nbformat_minor": 0,
  "metadata": {
    "colab": {
      "name": "Spark Basics",
      "provenance": [],
      "authorship_tag": "ABX9TyN0cF+O5Auuss/dFbPANio6"
    },
    "kernelspec": {
      "name": "python3",
      "display_name": "Python 3"
    }
  },
  "cells": [
    {
      "cell_type": "code",
      "metadata": {
        "id": "f3RzyzlCoYPW"
      },
      "source": [
        "## Differences to Spark 2.x.x versions\n",
        "\n",
        "# Better performance (17x faster)\n",
        "# Deprecating Python 2\n",
        "# Moving from Graphx to SparkGraph (uses Cypher like Neo4j)"
      ],
      "execution_count": null,
      "outputs": []
    },
    {
      "cell_type": "code",
      "metadata": {
        "id": "_T_96xzGnHRY"
      },
      "source": [
        "## Introduction to Spark\n",
        "\n",
        "# Fast/general engine for large-scale data processing\n",
        "# Spark Script (Python, Scala etc) is called Driver Program\n",
        "# Has a built-in Cluster Manager, or run on Hadoop using YARN\n",
        "# Spark will split work among Executors (usually one per machine/cluster)\n",
        "# Uses DAG engine (Directed Acyclic graph)"
      ],
      "execution_count": null,
      "outputs": []
    },
    {
      "cell_type": "code",
      "metadata": {
        "id": "PweRmtQ0qjCu"
      },
      "source": [
        "## PySpark vs Scala\n",
        "\n",
        "# No need to compile, manage dependencies etc.\n",
        "# Less code overhead\n",
        "# Scala is native to Spark\n",
        "# New features tend to come to Scala first\n",
        "# Speed: Scala > PySpark (slightly)"
      ],
      "execution_count": null,
      "outputs": []
    },
    {
      "cell_type": "code",
      "metadata": {
        "id": "p7mjECXLs7jC"
      },
      "source": [
        ""
      ],
      "execution_count": null,
      "outputs": []
    },
    {
      "cell_type": "code",
      "metadata": {
        "id": "ZS0s8umAvdD2"
      },
      "source": [
        ""
      ],
      "execution_count": null,
      "outputs": []
    }
  ]
}
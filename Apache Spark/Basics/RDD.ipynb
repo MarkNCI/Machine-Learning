{
  "nbformat": 4,
  "nbformat_minor": 0,
  "metadata": {
    "colab": {
      "name": "RDD.ipynb",
      "provenance": [],
      "authorship_tag": "ABX9TyMQf+tfPZqanh1tx2XD1teQ"
    },
    "kernelspec": {
      "name": "python3",
      "display_name": "Python 3"
    }
  },
  "cells": [
    {
      "cell_type": "code",
      "metadata": {
        "id": "dXXxVXbKzU_s"
      },
      "source": [
        "## Resilient Distributed Dataset (RDD)\n",
        "\n",
        "# A dataset for Big Data objects\n",
        "# Can be spread across a cluster + handle executor failures via Cluster Manager\n",
        "# SparkContext (sc in code) creates RDD and makes it resilient and distributed\n",
        "# Created by driver program\n",
        "# map, flatmap and filter are common ways to transform RDD"
      ],
      "execution_count": null,
      "outputs": []
    }
  ]
}
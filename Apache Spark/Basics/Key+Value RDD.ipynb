{
  "nbformat": 4,
  "nbformat_minor": 0,
  "metadata": {
    "colab": {
      "name": "Untitled8.ipynb",
      "provenance": [],
      "authorship_tag": "ABX9TyMHiG/CCLc0ReLpBxXwW7hp"
    },
    "kernelspec": {
      "name": "python3",
      "display_name": "Python 3"
    }
  },
  "cells": [
    {
      "cell_type": "code",
      "metadata": {
        "id": "Sb-H9OCN3jOD"
      },
      "source": [
        "## Key/Value RDD\n",
        "\n",
        "# For Average Age, Key would be Age column and Value would be the Integer\n",
        "# reduceByKey(): Combine values with common key \n",
        "# groupByKey(): Group values with common key\n",
        "# sortByKey(): Sort RDD by key values\n",
        "# keys(),values(): Create RDD of only keys or only values"
      ],
      "execution_count": null,
      "outputs": []
    },
    {
      "cell_type": "code",
      "metadata": {
        "id": "16h4EXEV5jMQ"
      },
      "source": [
        "# Example of getting Average Friends by Age\r\n",
        "\r\n",
        "## COPY FRIENDS BY AGE CSV FROM SPARKCOURSE TO DESKTOP ##"
      ],
      "execution_count": null,
      "outputs": []
    }
  ]
}
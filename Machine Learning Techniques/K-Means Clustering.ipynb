{
 "cells": [
  {
   "cell_type": "code",
   "execution_count": null,
   "metadata": {},
   "outputs": [],
   "source": [
    "## K-Means Clustering ##\n",
    "# Unsupervised Learning\n",
    "# Group data into clusters (split data into K groups closest to K centroids)\n",
    "# Music genres, where do footballers live etc.\n",
    "# Choose random K centroids (k means), assign each data point to closest centroid, recompute centroid for each cluster\n",
    "# E.g. For 3 cluster use 3 centroids, keep assigning until centroids stop moving\n",
    "# To predict, see which centroid is closest to centroid"
   ]
  }
 ],
 "metadata": {
  "kernelspec": {
   "display_name": "Python 3",
   "language": "python",
   "name": "python3"
  },
  "language_info": {
   "codemirror_mode": {
    "name": "ipython",
    "version": 3
   },
   "file_extension": ".py",
   "mimetype": "text/x-python",
   "name": "python",
   "nbconvert_exporter": "python",
   "pygments_lexer": "ipython3",
   "version": "3.7.4"
  }
 },
 "nbformat": 4,
 "nbformat_minor": 2
}

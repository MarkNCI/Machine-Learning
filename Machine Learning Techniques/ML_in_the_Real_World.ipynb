{
  "nbformat": 4,
  "nbformat_minor": 0,
  "metadata": {
    "colab": {
      "name": "ML in the Real World",
      "provenance": [],
      "authorship_tag": "ABX9TyPGQu4JNME2oa2oobTb+vT5"
    },
    "kernelspec": {
      "name": "python3",
      "display_name": "Python 3"
    }
  },
  "cells": [
    {
      "cell_type": "code",
      "metadata": {
        "id": "KKWqKdC6RYcH",
        "colab_type": "code",
        "colab": {}
      },
      "source": [
        "## A/B Tests ##\n",
        "\n",
        "# Controlled experiment, usually for websites\n",
        "# Test the performance of a change on the site (variant/A), measure difference to previous version (control/B)\n",
        "# Conversion: Order amounts,profit,ad clicks etc\n",
        "# Common mistake: Running test for too short time = not enough data to actually know\n",
        "# Best to lower variance, e.g. No. of orders vs price of orders"
      ],
      "execution_count": 0,
      "outputs": []
    },
    {
      "cell_type": "code",
      "metadata": {
        "id": "sTbZhEuOVqqn",
        "colab_type": "code",
        "colab": {}
      },
      "source": [
        "## T-Test and P-Values ##\n",
        "# How do we know if result is real or random variance? Variance interfers with A/B Tests\n",
        "# Ideally High T-Value and Low P-Value\n",
        "\n",
        "## T-Test/Statistic:\n",
        "#  measures difference between A and B in units of standard error\n",
        "#  Difference size relative to the variance\n",
        "#  High T value: Probabably a real difference between A and B\n",
        "#  If T positive it's a good change, otherwise bad change\n",
        "#  See also: Fisher's exact test (clickthrough rates), E-test (user transactions) and chi-squared test (product quantities purchased)\n",
        "\n",
        "## P-Values:\n",
        "# Probability of A and B satisfying the null hypothesis\n",
        "# Low P-Value: High probabilty that change had effect\n",
        "# To use:\n",
        "#   - Set threshold for significant change beforehand\n",
        "#   - When done, measure P-Value. If less than threshold, reject null hypothesis\n",
        "#   - If Positive change, deploy it else discard"
      ],
      "execution_count": 0,
      "outputs": []
    },
    {
      "cell_type": "code",
      "metadata": {
        "id": "eccxJr7Mm3lN",
        "colab_type": "code",
        "colab": {
          "base_uri": "https://localhost:8080/",
          "height": 34
        },
        "outputId": "90fce6da-7d7a-447f-c508-e07e45af18ca"
      },
      "source": [
        "# Demo A/B test on a website\n",
        "import numpy as np\n",
        "from scipy import stats\n",
        "\n",
        "# Dollars per transaction, std dev, sample size\n",
        "A = np.random.normal(25.0,5.0,10000) # After Change\n",
        "B = np.random.normal(26.0,5.0,10000) # Before Change\n",
        "\n",
        "stats.ttest_ind(A,B)\n",
        "\n",
        "# Can see from T-Statistic and P-Value that this bad change "
      ],
      "execution_count": 2,
      "outputs": [
        {
          "output_type": "execute_result",
          "data": {
            "text/plain": [
              "Ttest_indResult(statistic=-16.04168980786367, pvalue=1.49453362320687e-57)"
            ]
          },
          "metadata": {
            "tags": []
          },
          "execution_count": 2
        }
      ]
    },
    {
      "cell_type": "code",
      "metadata": {
        "id": "uMtDmzzOonAL",
        "colab_type": "code",
        "colab": {
          "base_uri": "https://localhost:8080/",
          "height": 34
        },
        "outputId": "2674ebca-9ab6-42f0-a3ad-2feb83c4dda5"
      },
      "source": [
        "# Sanity check \n",
        "B = np.random.normal(25.0,5.0,10000)\n",
        "stats.ttest_ind(A,B)\n",
        "\n",
        "# Indicates no real change (Null Hypothesis)"
      ],
      "execution_count": 3,
      "outputs": [
        {
          "output_type": "execute_result",
          "data": {
            "text/plain": [
              "Ttest_indResult(statistic=-0.7896240727611773, pvalue=0.42975670731857696)"
            ]
          },
          "metadata": {
            "tags": []
          },
          "execution_count": 3
        }
      ]
    },
    {
      "cell_type": "code",
      "metadata": {
        "id": "V233COP-o_Lv",
        "colab_type": "code",
        "colab": {
          "base_uri": "https://localhost:8080/",
          "height": 34
        },
        "outputId": "ce9f80b8-3d71-4e15-e3be-c9c45e181cd0"
      },
      "source": [
        "# What if we change sample size\n",
        "A = np.random.normal(25.0,5.0,100000) \n",
        "B = np.random.normal(25.0,5.0,100000)\n",
        "\n",
        "stats.ttest_ind(A,B)\n",
        "\n",
        "# Finished at 3:07"
      ],
      "execution_count": 5,
      "outputs": [
        {
          "output_type": "execute_result",
          "data": {
            "text/plain": [
              "Ttest_indResult(statistic=1.1740582480583612, pvalue=0.2403730934757756)"
            ]
          },
          "metadata": {
            "tags": []
          },
          "execution_count": 5
        }
      ]
    }
  ]
}
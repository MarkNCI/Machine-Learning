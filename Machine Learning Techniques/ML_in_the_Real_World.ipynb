{
  "nbformat": 4,
  "nbformat_minor": 0,
  "metadata": {
    "colab": {
      "name": "ML in the Real World",
      "provenance": [],
      "authorship_tag": "ABX9TyM5+NzV6rFIlmxLsjQt/ZlI"
    },
    "kernelspec": {
      "name": "python3",
      "display_name": "Python 3"
    }
  },
  "cells": [
    {
      "cell_type": "code",
      "metadata": {
        "id": "KKWqKdC6RYcH",
        "colab_type": "code",
        "colab": {}
      },
      "source": [
        "## A/B Tests ##\n",
        "\n",
        "# Controlled experiment, usually for websites\n",
        "# Test the performance of a change on the site (variant/A), measure difference to previous version (control/B)\n",
        "# Conversion: Order amounts,profit,ad clicks etc\n",
        "# Common mistake: Running test for too short time = not enough data to actually know\n",
        "# Best to lower variance, e.g. No. of orders vs price of orders"
      ],
      "execution_count": 0,
      "outputs": []
    },
    {
      "cell_type": "code",
      "metadata": {
        "id": "sTbZhEuOVqqn",
        "colab_type": "code",
        "colab": {}
      },
      "source": [
        "## T-Test and P-Values ##\n",
        "\n",
        "# How do we know if result is real or random variance? Variance interfers with A/B Tests\n",
        "# T-Test measures \n"
      ],
      "execution_count": 0,
      "outputs": []
    }
  ]
}
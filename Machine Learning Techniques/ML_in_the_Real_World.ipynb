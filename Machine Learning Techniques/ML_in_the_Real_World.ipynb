{
  "nbformat": 4,
  "nbformat_minor": 0,
  "metadata": {
    "colab": {
      "name": "ML in the Real World",
      "provenance": [],
      "authorship_tag": "ABX9TyNXCWbJWEqzxcIxjatY6QVV"
    },
    "kernelspec": {
      "name": "python3",
      "display_name": "Python 3"
    }
  },
  "cells": [
    {
      "cell_type": "code",
      "metadata": {
        "id": "KKWqKdC6RYcH",
        "colab_type": "code",
        "colab": {}
      },
      "source": [
        "## A/B Tests ##\n",
        "\n",
        "# Controlled experiment, usually for websites\n",
        "# Test the performance of a change on the site (variant/A), measure difference to previous version (control/B)\n",
        "# Conversion: Order amounts,profit,ad clicks etc\n",
        "# Common mistake: Running test for too short time = not enough data to actually know\n",
        "# Best to lower variance, e.g. No. of orders vs price of orders"
      ],
      "execution_count": 0,
      "outputs": []
    },
    {
      "cell_type": "code",
      "metadata": {
        "id": "sTbZhEuOVqqn",
        "colab_type": "code",
        "colab": {}
      },
      "source": [
        "## T-Test and P-Values ##\n",
        "# How do we know if result is real or random variance? Variance interfers with A/B Tests\n",
        "# Ideally High T-Value and Low P-Value\n",
        "\n",
        "## T-Test/Statistic:\n",
        "#  measures difference between A and B in units of standard error\n",
        "#  Difference size relative to the variance\n",
        "#  High T value: Probabably a real difference between A and B\n",
        "#  If T positive it's a good change, otherwise bad change\n",
        "#  See also: Fisher's exact test (clickthrough rates), E-test (user transactions) and chi-squared test (product quantities purchased)\n",
        "\n",
        "## P-Values:\n",
        "# Probability of A and B satisfying the null hypothesis\n",
        "# Low P-Value: High probabilty that change had effect\n",
        "# To use:\n",
        "#   - Set threshold for significant change beforehand\n",
        "#   - When done, measure P-Value. If less than threshold, reject null hypothesis\n",
        "#   - If Positive change, deploy it else discard"
      ],
      "execution_count": 0,
      "outputs": []
    }
  ]
}
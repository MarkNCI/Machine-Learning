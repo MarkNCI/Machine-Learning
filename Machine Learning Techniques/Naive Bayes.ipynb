{
 "cells": [
  {
   "cell_type": "code",
   "execution_count": null,
   "metadata": {},
   "outputs": [],
   "source": [
    "## Bayesian Methods ##\n",
    "\n",
    "# Bayes Theorem: P(A/B) = P(A)P(B/A)/P(B)\n",
    "# For e-mail classifier: P(Spam/Free) = P(Spam)P(Free/Spam)/P(Free)\n",
    "# Numerator is prob of e-mail being Spam and containing word Free\n",
    "# Denominator is prob of email containg word Free\n",
    "# Bottom line, ratio is % of emails containing Free and are Spam\n",
    "# Can be trained on all words, then multiply these together to get probability\n",
    "# Naive as assumes words are independent of eachother, NN is better"
   ]
  },
  {
   "cell_type": "code",
   "execution_count": 1,
   "metadata": {
    "collapsed": true
   },
   "outputs": [
    {
     "name": "stderr",
     "output_type": "stream",
     "text": [
      "C:\\Users\\MHayden\\Anaconda3\\lib\\importlib\\_bootstrap.py:219: RuntimeWarning: numpy.ufunc size changed, may indicate binary incompatibility. Expected 192 from C header, got 216 from PyObject\n",
      "  return f(*args, **kwds)\n",
      "C:\\Users\\MHayden\\Anaconda3\\lib\\importlib\\_bootstrap.py:219: RuntimeWarning: numpy.ufunc size changed, may indicate binary incompatibility. Expected 192 from C header, got 216 from PyObject\n",
      "  return f(*args, **kwds)\n"
     ]
    }
   ],
   "source": [
    "# Naive Bayes implemented with sklearn\n",
    "import os, io\n",
    "import numpy as np\n",
    "from pandas import DataFrame\n",
    "from sklearn.feature_extraction.text import CountVectorizer\n",
    "from sklearn.naive_bayes import MultinomialNB"
   ]
  },
  {
   "cell_type": "code",
   "execution_count": 2,
   "metadata": {},
   "outputs": [],
   "source": [
    "# Read emails from folder\n",
    "def readFiles(path):\n",
    "    for root, dirnames, filenames in os.walk(path):\n",
    "        for filename in filenames:\n",
    "            path = os.path.join(root,filename)\n",
    "            inBody = False\n",
    "            lines = []\n",
    "            file = io.open(path,'r',encoding='latin1')\n",
    "            for line in f:\n",
    "                if inBody:\n",
    "                    lines.append(line)\n",
    "                elif line == '\\n':\n",
    "                    inBody = True\n",
    "            file.close()\n",
    "            message = '\\n'.join(lines)\n",
    "            yield path, message"
   ]
  },
  {
   "cell_type": "code",
   "execution_count": 3,
   "metadata": {},
   "outputs": [],
   "source": [
    "# Read emails into DataFrame\n",
    "def dataFrameFromDirectory(path,classification):\n",
    "    rows,index = []\n",
    "    for filename, message in readFiles(path):\n",
    "        #rows.append"
   ]
  },
  {
   "cell_type": "code",
   "execution_count": null,
   "metadata": {},
   "outputs": [],
   "source": []
  }
 ],
 "metadata": {
  "kernelspec": {
   "display_name": "Python 3",
   "language": "python",
   "name": "python3"
  },
  "language_info": {
   "codemirror_mode": {
    "name": "ipython",
    "version": 3
   },
   "file_extension": ".py",
   "mimetype": "text/x-python",
   "name": "python",
   "nbconvert_exporter": "python",
   "pygments_lexer": "ipython3",
   "version": "3.7.4"
  }
 },
 "nbformat": 4,
 "nbformat_minor": 2
}

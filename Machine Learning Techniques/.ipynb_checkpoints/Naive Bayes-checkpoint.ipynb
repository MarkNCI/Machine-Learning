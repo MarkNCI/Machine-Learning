{
 "cells": [
  {
   "cell_type": "code",
   "execution_count": null,
   "metadata": {},
   "outputs": [],
   "source": [
    "## Bayesian Methods ##\n",
    "\n",
    "# Bayes Theorem: P(A/B) = P(A)P(B/A)/P(B)\n",
    "# For e-mail classifier: P(Spam/Free) = P(Spam)P(Free/Spam)/P(Free)\n",
    "# Numerator is prob of e-mail being Spam and containing word Free\n",
    "# Denominator is prob of email containg word Free\n",
    "# Bottom line, ratio is % of emails containing Free and are Spam\n",
    "# Can be trained on all words, then multiply these together to get probability\n",
    "# Naive as assumes words are independent of eachother, NN is better"
   ]
  },
  {
   "cell_type": "code",
   "execution_count": 1,
   "metadata": {},
   "outputs": [],
   "source": [
    "# Naive Bayes implemented with sklearn\n",
    "import os, io\n",
    "import numpy as np\n",
    "from pandas import DataFrame\n",
    "from sklearn.feature_extraction.text import CountVectorizer\n",
    "from sklearn.naive_bayes import MultinomialNB"
   ]
  },
  {
   "cell_type": "code",
   "execution_count": 2,
   "metadata": {},
   "outputs": [],
   "source": [
    "# Read emails from folder\n",
    "def readFiles(path):\n",
    "    for root, dirnames, filenames in os.walk(path):\n",
    "        for filename in filenames:\n",
    "            path = os.path.join(root,filename)\n",
    "            inBody = False\n",
    "            lines = []\n",
    "            file = io.open(path,'r',encoding='latin1')\n",
    "            # Skip Header in emails\n",
    "            for line in file:\n",
    "                if inBody:\n",
    "                    lines.append(line)\n",
    "                elif line == '\\n':\n",
    "                    inBody = True\n",
    "            file.close()\n",
    "            message = '\\n'.join(lines)\n",
    "            yield path, message"
   ]
  },
  {
   "cell_type": "code",
   "execution_count": 3,
   "metadata": {},
   "outputs": [
    {
     "data": {
      "text/html": [
       "<div>\n",
       "<style scoped>\n",
       "    .dataframe tbody tr th:only-of-type {\n",
       "        vertical-align: middle;\n",
       "    }\n",
       "\n",
       "    .dataframe tbody tr th {\n",
       "        vertical-align: top;\n",
       "    }\n",
       "\n",
       "    .dataframe thead th {\n",
       "        text-align: right;\n",
       "    }\n",
       "</style>\n",
       "<table border=\"1\" class=\"dataframe\">\n",
       "  <thead>\n",
       "    <tr style=\"text-align: right;\">\n",
       "      <th></th>\n",
       "      <th>message</th>\n",
       "      <th>class</th>\n",
       "    </tr>\n",
       "  </thead>\n",
       "  <tbody>\n",
       "    <tr>\n",
       "      <td>C:\\Users\\MHayden\\Desktop\\MLCourse\\emails\\spam\\00001.7848dde101aa985090474a91ec93fcf0</td>\n",
       "      <td>&lt;!DOCTYPE HTML PUBLIC \"-//W3C//DTD HTML 4.0 Tr...</td>\n",
       "      <td>spam</td>\n",
       "    </tr>\n",
       "    <tr>\n",
       "      <td>C:\\Users\\MHayden\\Desktop\\MLCourse\\emails\\spam\\00002.d94f1b97e48ed3b553b3508d116e6a09</td>\n",
       "      <td>1) Fight The Risk of Cancer!\\n\\nhttp://www.adc...</td>\n",
       "      <td>spam</td>\n",
       "    </tr>\n",
       "    <tr>\n",
       "      <td>C:\\Users\\MHayden\\Desktop\\MLCourse\\emails\\spam\\00003.2ee33bc6eacdb11f38d052c44819ba6c</td>\n",
       "      <td>1) Fight The Risk of Cancer!\\n\\nhttp://www.adc...</td>\n",
       "      <td>spam</td>\n",
       "    </tr>\n",
       "    <tr>\n",
       "      <td>C:\\Users\\MHayden\\Desktop\\MLCourse\\emails\\spam\\00004.eac8de8d759b7e74154f142194282724</td>\n",
       "      <td>##############################################...</td>\n",
       "      <td>spam</td>\n",
       "    </tr>\n",
       "    <tr>\n",
       "      <td>C:\\Users\\MHayden\\Desktop\\MLCourse\\emails\\spam\\00005.57696a39d7d84318ce497886896bf90d</td>\n",
       "      <td>I thought you might like these:\\n\\n1) Slim Dow...</td>\n",
       "      <td>spam</td>\n",
       "    </tr>\n",
       "  </tbody>\n",
       "</table>\n",
       "</div>"
      ],
      "text/plain": [
       "                                                                                              message  \\\n",
       "C:\\Users\\MHayden\\Desktop\\MLCourse\\emails\\spam\\0...  <!DOCTYPE HTML PUBLIC \"-//W3C//DTD HTML 4.0 Tr...   \n",
       "C:\\Users\\MHayden\\Desktop\\MLCourse\\emails\\spam\\0...  1) Fight The Risk of Cancer!\\n\\nhttp://www.adc...   \n",
       "C:\\Users\\MHayden\\Desktop\\MLCourse\\emails\\spam\\0...  1) Fight The Risk of Cancer!\\n\\nhttp://www.adc...   \n",
       "C:\\Users\\MHayden\\Desktop\\MLCourse\\emails\\spam\\0...  ##############################################...   \n",
       "C:\\Users\\MHayden\\Desktop\\MLCourse\\emails\\spam\\0...  I thought you might like these:\\n\\n1) Slim Dow...   \n",
       "\n",
       "                                                   class  \n",
       "C:\\Users\\MHayden\\Desktop\\MLCourse\\emails\\spam\\0...  spam  \n",
       "C:\\Users\\MHayden\\Desktop\\MLCourse\\emails\\spam\\0...  spam  \n",
       "C:\\Users\\MHayden\\Desktop\\MLCourse\\emails\\spam\\0...  spam  \n",
       "C:\\Users\\MHayden\\Desktop\\MLCourse\\emails\\spam\\0...  spam  \n",
       "C:\\Users\\MHayden\\Desktop\\MLCourse\\emails\\spam\\0...  spam  "
      ]
     },
     "execution_count": 3,
     "metadata": {},
     "output_type": "execute_result"
    }
   ],
   "source": [
    "# Read emails into DataFrame\n",
    "def dataFrameFromDirectory(path,classification):\n",
    "    rows = []\n",
    "    index = []\n",
    "    for filename, message in readFiles(path):\n",
    "        rows.append({'message': message,'class':classification})\n",
    "        index.append(filename)\n",
    "    return DataFrame(rows,index=index)\n",
    "\n",
    "data = DataFrame({'message':[],'class':[]})\n",
    "data = data.append(dataFrameFromDirectory(r'C:\\Users\\MHayden\\Desktop\\MLCourse\\emails\\spam','spam'))\n",
    "data = data.append(dataFrameFromDirectory(r'C:\\Users\\MHayden\\Desktop\\MLCourse\\emails\\ham','ham'))\n",
    "data.head()"
   ]
  },
  {
   "cell_type": "code",
   "execution_count": 4,
   "metadata": {},
   "outputs": [
    {
     "data": {
      "text/plain": [
       "MultinomialNB(alpha=1.0, class_prior=None, fit_prior=True)"
      ]
     },
     "execution_count": 4,
     "metadata": {},
     "output_type": "execute_result"
    }
   ],
   "source": [
    "# CountVectorizer sends list of words from emails to MultinomialNB classifer\n",
    "vector = CountVectorizer()\n",
    "wordCount = vector.fit_transform(data['message'].values)# Tokenise values\n",
    "\n",
    "classifer = MultinomialNB()\n",
    "targets = data['class'].values\n",
    "classifer.fit(wordCount,targets)"
   ]
  },
  {
   "cell_type": "code",
   "execution_count": 10,
   "metadata": {},
   "outputs": [
    {
     "data": {
      "text/plain": [
       "array(['spam', 'ham'], dtype='<U4')"
      ]
     },
     "execution_count": 10,
     "metadata": {},
     "output_type": "execute_result"
    }
   ],
   "source": [
    "# Applying above logic to make a prediction on the below\n",
    "testSet = {'Free Viagra Now!!!',\"Hi Mark, How about going to the match tomorrow?\"}\n",
    "testCounts = vector.transform(testSet)\n",
    "predict = classifer.predict(testCounts)\n",
    "predict"
   ]
  },
  {
   "cell_type": "code",
   "execution_count": null,
   "metadata": {},
   "outputs": [],
   "source": [
    "## TODO: Apply train/test to the dataset"
   ]
  }
 ],
 "metadata": {
  "kernelspec": {
   "display_name": "Python 3",
   "language": "python",
   "name": "python3"
  },
  "language_info": {
   "codemirror_mode": {
    "name": "ipython",
    "version": 3
   },
   "file_extension": ".py",
   "mimetype": "text/x-python",
   "name": "python",
   "nbconvert_exporter": "python",
   "pygments_lexer": "ipython3",
   "version": "3.7.4"
  }
 },
 "nbformat": 4,
 "nbformat_minor": 2
}

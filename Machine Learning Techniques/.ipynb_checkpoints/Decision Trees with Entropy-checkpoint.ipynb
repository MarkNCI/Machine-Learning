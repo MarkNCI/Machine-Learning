{
 "cells": [
  {
   "cell_type": "code",
   "execution_count": null,
   "metadata": {},
   "outputs": [],
   "source": [
    "## Entropy ##\n",
    "# Measure of a dataset's disorder (same/different)\n",
    "# Classify dataset into N classes: 0 if all classes are same or 1+ if different\n",
    "# If 5 images are cats it's 0, if cats, dogs and horses then Entropy is 1+\n",
    "\n",
    "## Decision Trees (Also known as ID3) ##\n",
    "# Supervised Learning\n",
    "# Flowchart to aid in classification\n",
    "# At each step, find attribute to use to partition data to minimise entropy at next step\n",
    "# Greedy algorithm, as it descends just picks the decision that reduces entropy the most\n",
    "# Not the most optimal! Prone to overfitting, counter with Random Forest\n",
    "\n",
    "## Random Forest ##\n",
    "# Make several alternate trees to 'vote' on final classification\n",
    "# Randomly resample each tree's input data (bagging or bootstrap aggregating)\n",
    "# Randomise a subset of the attributes each step can choose from"
   ]
  },
  {
   "cell_type": "code",
   "execution_count": null,
   "metadata": {},
   "outputs": [],
   "source": [
    "# Decision tree to filter CVs, with database of hired/refused candidate data\n"
   ]
  }
 ],
 "metadata": {
  "kernelspec": {
   "display_name": "Python 3",
   "language": "python",
   "name": "python3"
  },
  "language_info": {
   "codemirror_mode": {
    "name": "ipython",
    "version": 3
   },
   "file_extension": ".py",
   "mimetype": "text/x-python",
   "name": "python",
   "nbconvert_exporter": "python",
   "pygments_lexer": "ipython3",
   "version": "3.7.4"
  }
 },
 "nbformat": 4,
 "nbformat_minor": 2
}

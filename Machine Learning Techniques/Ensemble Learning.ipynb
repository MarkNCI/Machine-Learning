{
 "cells": [
  {
   "cell_type": "code",
   "execution_count": null,
   "metadata": {},
   "outputs": [],
   "source": [
    "## Ensemble Learning ##\n",
    "# Use multiple models on same problem, then let them vote on results.\n",
    "# Random Forest uses bagging (bootstrap aggregating). Many models trained on randomly selected subsets of data.\n",
    "# Boosting: Each subsequent model in ensemble boosts attributes to address data previous model mis-classified\n",
    "# Bucket of models: Train multiple different models on training data, pick the one with best result on test data\n",
    "# Stacking: Run multiple models simultaneously on data and combine results."
   ]
  },
  {
   "cell_type": "code",
   "execution_count": null,
   "metadata": {},
   "outputs": [],
   "source": [
    "## [Theoretical] Advanced Techniques (Not really used, prone to overfitting/impractical) ##\n",
    "# Bayes Optimal Classifier\n",
    "# Bayesian Parameter Averaging\n",
    "# Bayesian Model Combination"
   ]
  }
 ],
 "metadata": {
  "kernelspec": {
   "display_name": "Python 3",
   "language": "python",
   "name": "python3"
  },
  "language_info": {
   "codemirror_mode": {
    "name": "ipython",
    "version": 3
   },
   "file_extension": ".py",
   "mimetype": "text/x-python",
   "name": "python",
   "nbconvert_exporter": "python",
   "pygments_lexer": "ipython3",
   "version": "3.7.4"
  }
 },
 "nbformat": 4,
 "nbformat_minor": 2
}

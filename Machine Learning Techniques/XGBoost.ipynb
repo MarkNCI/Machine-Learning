{
 "cells": [
  {
   "cell_type": "code",
   "execution_count": null,
   "metadata": {},
   "outputs": [],
   "source": [
    "## XGBoost ## \n",
    "# eXtreme Gradient Boosted trees\n",
    "# Boosting (ensemble): Each tree boosts attributes previous tree mis-classified\n",
    "# Wins Kaggles comps, fast, easy to use and good starting choice"
   ]
  },
  {
   "cell_type": "code",
   "execution_count": null,
   "metadata": {},
   "outputs": [],
   "source": [
    "## Features ##\n",
    "# Regularised boosting prevents overfitting\n",
    "# Auto handle missing values\n",
    "# Parallel processing across multiple GPU's/clusters\n",
    "# Cross-validate at each iteration (eval performance at each step)\n",
    "# Incremental training (can halt/resume training when needed)\n",
    "# Can use for your optimise objectives \n",
    "# Tree pruning (Gives deeper but optimised trees)\n",
    "# Uses DMatrix and params passed as dictionary"
   ]
  },
  {
   "cell_type": "code",
   "execution_count": 1,
   "metadata": {},
   "outputs": [
    {
     "name": "stdout",
     "output_type": "stream",
     "text": [
      "150\n",
      "4\n",
      "['setosa', 'versicolor', 'virginica']\n"
     ]
    }
   ],
   "source": [
    "# Iris dataset\n",
    "from sklearn.datasets import load_iris\n",
    "\n",
    "iris = load_iris()\n",
    "\n",
    "samples, features = iris.data.shape\n",
    "print(samples)\n",
    "print(features)\n",
    "print(list(iris.target_names))"
   ]
  },
  {
   "cell_type": "code",
   "execution_count": 2,
   "metadata": {},
   "outputs": [],
   "source": [
    "# Train/Test (random_state = keeps test/train data the same. If not set, data will be diff for each time it's run)\n",
    "from sklearn.model_selection import train_test_split\n",
    "\n",
    "X_train, X_test, y_train, y_test = train_test_split(iris.data, iris.target, test_size=0.2, random_state=0)"
   ]
  },
  {
   "cell_type": "code",
   "execution_count": 3,
   "metadata": {},
   "outputs": [],
   "source": [
    "# Convert data into DMatrix format for XGBoost.\n",
    "import xgboost as xgb\n",
    "\n",
    "train = xgb.DMatrix(X_train,label=y_train)\n",
    "test = xgb.DMatrix(X_test,label=y_test)"
   ]
  },
  {
   "cell_type": "code",
   "execution_count": 4,
   "metadata": {},
   "outputs": [],
   "source": [
    "# Define hyperparameters. Using softmax for multiple classification, normally would experiment\n",
    "params = {\n",
    "    'max_depth':4, # Tree depth\n",
    "    'eta':0.3, # Learning rate\n",
    "    'objective':'multi:softmax', # Softmax gives best probability\n",
    "    'num_class':3 # 3 features\n",
    "}\n",
    "epochs = 10 # No. of times algo is run"
   ]
  },
  {
   "cell_type": "code",
   "execution_count": 8,
   "metadata": {},
   "outputs": [
    {
     "name": "stdout",
     "output_type": "stream",
     "text": [
      "[2. 1. 0. 2. 0. 2. 0. 1. 1. 1. 2. 1. 1. 1. 1. 0. 1. 1. 0. 0. 2. 1. 0. 0.\n",
      " 2. 0. 0. 1. 1. 0.]\n"
     ]
    }
   ],
   "source": [
    "# Train model and run prediction (numbers = specific iris species)\n",
    "model = xgb.train(params, train, epochs)\n",
    "predict = model.predict(test)\n",
    "print(predict)"
   ]
  },
  {
   "cell_type": "code",
   "execution_count": 9,
   "metadata": {},
   "outputs": [
    {
     "data": {
      "text/plain": [
       "1.0"
      ]
     },
     "execution_count": 9,
     "metadata": {},
     "output_type": "execute_result"
    }
   ],
   "source": [
    "# Measure accuracy\n",
    "from sklearn.metrics import accuracy_score\n",
    "accuracy_score(y_test,predict)"
   ]
  }
 ],
 "metadata": {
  "kernelspec": {
   "display_name": "Python 3",
   "language": "python",
   "name": "python3"
  },
  "language_info": {
   "codemirror_mode": {
    "name": "ipython",
    "version": 3
   },
   "file_extension": ".py",
   "mimetype": "text/x-python",
   "name": "python",
   "nbconvert_exporter": "python",
   "pygments_lexer": "ipython3",
   "version": "3.7.4"
  }
 },
 "nbformat": 4,
 "nbformat_minor": 2
}

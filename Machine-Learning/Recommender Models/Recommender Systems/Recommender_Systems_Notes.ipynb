{
  "nbformat": 4,
  "nbformat_minor": 0,
  "metadata": {
    "colab": {
      "name": "Recommender_Systems_Notes.ipynb",
      "provenance": [],
      "authorship_tag": "ABX9TyNxlRIx81u2O7O+xOCgvMji"
    },
    "kernelspec": {
      "name": "python3",
      "display_name": "Python 3"
    }
  },
  "cells": [
    {
      "cell_type": "code",
      "metadata": {
        "id": "IvYZlpn8Al3l"
      },
      "source": [
        "## What is a Recommender System\r\n",
        "\r\n",
        "# NOT for recommending arbitrary values like fraud payments, that's ML.\r\n",
        "# Predicts ratins/preferences a user might give an item\r\n",
        "# Often sorted as Top-N recommendations"
      ],
      "execution_count": null,
      "outputs": []
    },
    {
      "cell_type": "code",
      "metadata": {
        "id": "lQHo8VdRIxrM"
      },
      "source": [
        "# Rewatch Top-N Recommender Architecture + take notes"
      ],
      "execution_count": null,
      "outputs": []
    }
  ]
}
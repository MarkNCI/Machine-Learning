{
 "cells": [
  {
   "cell_type": "code",
   "execution_count": null,
   "metadata": {},
   "outputs": [],
   "source": [
    "## What is a Data Warehouse?\n",
    "# Large, centralised db of info from many sources\n",
    "# Used by BA's, queried via SQL or tools like Tabeau\n",
    "# Scaling/data normalising is tricky, maintainence is wrok intensive"
   ]
  },
  {
   "cell_type": "code",
   "execution_count": null,
   "metadata": {},
   "outputs": [],
   "source": [
    "## Extract, Transform, Load (ETL)\n",
    "# Extract raw data at intervals\n",
    "# Transfrom data into schema needed by warehouse\n",
    "# Load data into warehouse in needed structure\n",
    "# Doesn't work well when Transorming on Big Data"
   ]
  },
  {
   "cell_type": "code",
   "execution_count": null,
   "metadata": {},
   "outputs": [],
   "source": [
    "## Extract, Load, Transform (ELT)\n",
    "# Tools like Hive let you host massive db's on Hadoop clusters\n",
    "# Or use large, dsitributed NoSQL store + query with SPark or MapReduce\n",
    "# With Hadoop, you can extract and load as is then transfrom it in place"
   ]
  }
 ],
 "metadata": {
  "kernelspec": {
   "display_name": "Python 3",
   "language": "python",
   "name": "python3"
  },
  "language_info": {
   "codemirror_mode": {
    "name": "ipython",
    "version": 3
   },
   "file_extension": ".py",
   "mimetype": "text/x-python",
   "name": "python",
   "nbconvert_exporter": "python",
   "pygments_lexer": "ipython3",
   "version": "3.7.4"
  }
 },
 "nbformat": 4,
 "nbformat_minor": 2
}

{
 "cells": [
  {
   "cell_type": "code",
   "execution_count": null,
   "metadata": {},
   "outputs": [],
   "source": [
    "## KNN ##\n",
    "# Classify new data points based on distance to know data\n",
    "# Define distance metric between items in dataset and find K closest items\n",
    "# Then use these items to predict some test item's property by voting on it"
   ]
  },
  {
   "cell_type": "code",
   "execution_count": 1,
   "metadata": {},
   "outputs": [
    {
     "data": {
      "text/html": [
       "<div>\n",
       "<style scoped>\n",
       "    .dataframe tbody tr th:only-of-type {\n",
       "        vertical-align: middle;\n",
       "    }\n",
       "\n",
       "    .dataframe tbody tr th {\n",
       "        vertical-align: top;\n",
       "    }\n",
       "\n",
       "    .dataframe thead th {\n",
       "        text-align: right;\n",
       "    }\n",
       "</style>\n",
       "<table border=\"1\" class=\"dataframe\">\n",
       "  <thead>\n",
       "    <tr style=\"text-align: right;\">\n",
       "      <th></th>\n",
       "      <th>user_id</th>\n",
       "      <th>movie_id</th>\n",
       "      <th>rating</th>\n",
       "    </tr>\n",
       "  </thead>\n",
       "  <tbody>\n",
       "    <tr>\n",
       "      <td>0</td>\n",
       "      <td>0</td>\n",
       "      <td>50</td>\n",
       "      <td>5</td>\n",
       "    </tr>\n",
       "    <tr>\n",
       "      <td>1</td>\n",
       "      <td>0</td>\n",
       "      <td>172</td>\n",
       "      <td>5</td>\n",
       "    </tr>\n",
       "    <tr>\n",
       "      <td>2</td>\n",
       "      <td>0</td>\n",
       "      <td>133</td>\n",
       "      <td>1</td>\n",
       "    </tr>\n",
       "    <tr>\n",
       "      <td>3</td>\n",
       "      <td>196</td>\n",
       "      <td>242</td>\n",
       "      <td>3</td>\n",
       "    </tr>\n",
       "    <tr>\n",
       "      <td>4</td>\n",
       "      <td>186</td>\n",
       "      <td>302</td>\n",
       "      <td>3</td>\n",
       "    </tr>\n",
       "  </tbody>\n",
       "</table>\n",
       "</div>"
      ],
      "text/plain": [
       "   user_id  movie_id  rating\n",
       "0        0        50       5\n",
       "1        0       172       5\n",
       "2        0       133       1\n",
       "3      196       242       3\n",
       "4      186       302       3"
      ]
     },
     "execution_count": 1,
     "metadata": {},
     "output_type": "execute_result"
    }
   ],
   "source": [
    "# KNN on MovieLens. Predict rating using 10 similar movie's genre + popularity (total number of ratings)\n",
    "import pandas as pd\n",
    "import numpy as np\n",
    "\n",
    "rating_cols = ['user_id','movie_id','rating']\n",
    "ratings = pd.read_csv(r'C:\\Users\\MHayden\\Desktop\\ml-100k\\u.data',sep='\\t',names=rating_cols,usecols=range(3),encoding=\"ISO-8859-1\")\n",
    "ratings.head()"
   ]
  },
  {
   "cell_type": "code",
   "execution_count": 2,
   "metadata": {},
   "outputs": [
    {
     "data": {
      "text/html": [
       "<div>\n",
       "<style scoped>\n",
       "    .dataframe tbody tr th:only-of-type {\n",
       "        vertical-align: middle;\n",
       "    }\n",
       "\n",
       "    .dataframe tbody tr th {\n",
       "        vertical-align: top;\n",
       "    }\n",
       "\n",
       "    .dataframe thead tr th {\n",
       "        text-align: left;\n",
       "    }\n",
       "\n",
       "    .dataframe thead tr:last-of-type th {\n",
       "        text-align: right;\n",
       "    }\n",
       "</style>\n",
       "<table border=\"1\" class=\"dataframe\">\n",
       "  <thead>\n",
       "    <tr>\n",
       "      <th></th>\n",
       "      <th colspan=\"2\" halign=\"left\">rating</th>\n",
       "    </tr>\n",
       "    <tr>\n",
       "      <th></th>\n",
       "      <th>size</th>\n",
       "      <th>mean</th>\n",
       "    </tr>\n",
       "    <tr>\n",
       "      <th>movie_id</th>\n",
       "      <th></th>\n",
       "      <th></th>\n",
       "    </tr>\n",
       "  </thead>\n",
       "  <tbody>\n",
       "    <tr>\n",
       "      <td>1</td>\n",
       "      <td>452</td>\n",
       "      <td>3.878319</td>\n",
       "    </tr>\n",
       "    <tr>\n",
       "      <td>2</td>\n",
       "      <td>131</td>\n",
       "      <td>3.206107</td>\n",
       "    </tr>\n",
       "    <tr>\n",
       "      <td>3</td>\n",
       "      <td>90</td>\n",
       "      <td>3.033333</td>\n",
       "    </tr>\n",
       "    <tr>\n",
       "      <td>4</td>\n",
       "      <td>209</td>\n",
       "      <td>3.550239</td>\n",
       "    </tr>\n",
       "    <tr>\n",
       "      <td>5</td>\n",
       "      <td>86</td>\n",
       "      <td>3.302326</td>\n",
       "    </tr>\n",
       "  </tbody>\n",
       "</table>\n",
       "</div>"
      ],
      "text/plain": [
       "         rating          \n",
       "           size      mean\n",
       "movie_id                 \n",
       "1           452  3.878319\n",
       "2           131  3.206107\n",
       "3            90  3.033333\n",
       "4           209  3.550239\n",
       "5            86  3.302326"
      ]
     },
     "execution_count": 2,
     "metadata": {},
     "output_type": "execute_result"
    }
   ],
   "source": [
    "# Group by movie ID. Compute each movies popularity and average rating\n",
    "movieProperties = ratings.groupby('movie_id').agg({'rating':[np.size,np.mean]})\n",
    "movieProperties.head()"
   ]
  },
  {
   "cell_type": "code",
   "execution_count": 3,
   "metadata": {},
   "outputs": [
    {
     "data": {
      "text/html": [
       "<div>\n",
       "<style scoped>\n",
       "    .dataframe tbody tr th:only-of-type {\n",
       "        vertical-align: middle;\n",
       "    }\n",
       "\n",
       "    .dataframe tbody tr th {\n",
       "        vertical-align: top;\n",
       "    }\n",
       "\n",
       "    .dataframe thead th {\n",
       "        text-align: right;\n",
       "    }\n",
       "</style>\n",
       "<table border=\"1\" class=\"dataframe\">\n",
       "  <thead>\n",
       "    <tr style=\"text-align: right;\">\n",
       "      <th></th>\n",
       "      <th>size</th>\n",
       "    </tr>\n",
       "    <tr>\n",
       "      <th>movie_id</th>\n",
       "      <th></th>\n",
       "    </tr>\n",
       "  </thead>\n",
       "  <tbody>\n",
       "    <tr>\n",
       "      <td>1</td>\n",
       "      <td>451.998285</td>\n",
       "    </tr>\n",
       "    <tr>\n",
       "      <td>2</td>\n",
       "      <td>130.998285</td>\n",
       "    </tr>\n",
       "    <tr>\n",
       "      <td>3</td>\n",
       "      <td>89.998285</td>\n",
       "    </tr>\n",
       "    <tr>\n",
       "      <td>4</td>\n",
       "      <td>208.998285</td>\n",
       "    </tr>\n",
       "    <tr>\n",
       "      <td>5</td>\n",
       "      <td>85.998285</td>\n",
       "    </tr>\n",
       "  </tbody>\n",
       "</table>\n",
       "</div>"
      ],
      "text/plain": [
       "                size\n",
       "movie_id            \n",
       "1         451.998285\n",
       "2         130.998285\n",
       "3          89.998285\n",
       "4         208.998285\n",
       "5          85.998285"
      ]
     },
     "execution_count": 3,
     "metadata": {},
     "output_type": "execute_result"
    }
   ],
   "source": [
    "# Normalise no. of ratings to compute distance. \n",
    "# 0: no one watched it, 1: most popular\n",
    "numRatings = pd.DataFrame(movieProperties['rating']['size'])\n",
    "\n",
    "# Take the max and min number of ratings (most+least popular movie) and normalise that range\n",
    "# Note: lambda applys function to entire DataFrame\n",
    "normaliseRatings = numRatings.apply(lambda x: (x-np.min(x)/(np.max(x)-np.min(x))))\n",
    "normaliseRatings.head()"
   ]
  },
  {
   "cell_type": "code",
   "execution_count": 4,
   "metadata": {},
   "outputs": [
    {
     "data": {
      "text/plain": [
       "('Toy Story (1995)',\n",
       " array([0, 0, 0, 1, 1, 1, 0, 0, 0, 0, 0, 0, 0, 0, 0, 0, 0, 0, 0]),\n",
       " 451.9982847341338,\n",
       " 3.8783185840707963)"
      ]
     },
     "execution_count": 4,
     "metadata": {},
     "output_type": "execute_result"
    }
   ],
   "source": [
    "# Get genre info. In file, there's 19 fields each corresponding to a genre\n",
    "# 0: not in that genre, 1: it's in that genre. \n",
    "# Create dict with movie name, genre values, normalised popularity score and average rating\n",
    "movieDict = {}\n",
    "with open(r'C:\\Users\\MHayden\\Desktop\\ml-100k\\u.item') as file:\n",
    "    for line in file:\n",
    "        fields = line.rstrip('\\n').split('|')\n",
    "        movieID = int(fields[0])\n",
    "        name = fields[1]\n",
    "        genre = fields[5:25]\n",
    "        genre = map(int,genre)\n",
    "        movieDict[movieID] = (name, np.array(list(genre)), normaliseRatings.loc[movieID].get('size'), movieProperties.loc[movieID].rating.get('mean'))\n",
    "        \n",
    "movieDict[1]        \n",
    "## LOOK INTO PANDAS ALTERNATIVE ##"
   ]
  },
  {
   "cell_type": "code",
   "execution_count": 8,
   "metadata": {},
   "outputs": [
    {
     "name": "stdout",
     "output_type": "stream",
     "text": [
      "('GoldenEye (1995)', array([0, 1, 1, 0, 0, 0, 0, 0, 0, 0, 0, 0, 0, 0, 0, 0, 1, 0, 0]), 130.9982847341338, 3.2061068702290076) \n",
      " ('Get Shorty (1995)', array([0, 1, 0, 0, 0, 1, 0, 0, 1, 0, 0, 0, 0, 0, 0, 0, 0, 0, 0]), 208.9982847341338, 3.550239234449761)\n"
     ]
    },
    {
     "data": {
      "text/plain": [
       "78.66666666666667"
      ]
     },
     "execution_count": 8,
     "metadata": {},
     "output_type": "execute_result"
    }
   ],
   "source": [
    "# Function to compute distance metric between 2 movies based on:\n",
    "# 1) How similar their genres are and 2) how similar their popularity is.\n",
    "# Think of below as graph: one axis is genre, other is popularity\n",
    "from scipy import spatial\n",
    "\n",
    "def distanceMetric(x,y):\n",
    "    genreA = x[1]\n",
    "    genreB = y[1]\n",
    "    # Cosine similarity between 2 genre vectors\n",
    "    genreDistance = spatial.distance.cosine(genreA,genreB)\n",
    "    popularityA = x[2]\n",
    "    popularityB = y[2]\n",
    "    # Compare popularity scores and get difference\n",
    "    popularityDistance = abs(popularityA - popularityB)\n",
    "    return genreDistance + popularityDistance\n",
    "\n",
    "# Further the distance, less similar they are.\n",
    "# Movies 2 and 4\n",
    "print(movieDict[2],'\\n',movieDict[4])\n",
    "distanceMetric(movieDict[2],movieDict[4])"
   ]
  },
  {
   "cell_type": "code",
   "execution_count": 24,
   "metadata": {},
   "outputs": [
    {
     "name": "stdout",
     "output_type": "stream",
     "text": [
      "Air Force One (1997) 3.6310904872389793\n",
      "Independence Day (ID4) (1996) 3.438228438228438\n",
      "Scream (1996) 3.4414225941422596\n",
      "English Patient, The (1996) 3.656964656964657\n",
      "Raiders of the Lost Ark (1981) 4.252380952380952\n",
      "Liar Liar (1997) 3.156701030927835\n",
      "Godfather, The (1972) 4.283292978208232\n",
      "Return of the Jedi (1983) 4.007889546351085\n",
      "Fargo (1996) 4.155511811023622\n",
      "Contact (1997) 3.8035363457760316\n"
     ]
    }
   ],
   "source": [
    "# Function to compute distance between a test movie and the dataset.\n",
    "# Then sort by distance and print KNN\n",
    "import operator\n",
    "\n",
    "def getKNN(movieID,K):\n",
    "    distances = []\n",
    "    for movie in movieDict:\n",
    "        # Compute distance score between test movie and dataset\n",
    "        if(movie != movieID):\n",
    "            distance = distanceMetric(movieDict[movieID],movieDict[movie])\n",
    "            distances.append((movie,distance))\n",
    "    distances.sort(key=operator.itemgetter(1))\n",
    "    knn = []\n",
    "    # Get K results defined below\n",
    "    for i in range(K):\n",
    "        knn.append(distances[i][0])\n",
    "    return knn\n",
    "\n",
    "K = 10 # 10 nearest neighbours\n",
    "averageRating = 0\n",
    "knn = getKNN(1,K) # MovieID 1, 10 nearest neighbours\n",
    "# Iterate through K, compute average rating from each neighbour for prediction\n",
    "for n in knn:\n",
    "    # Average rating per movie\n",
    "    averageRating += movieDict[n][3]\n",
    "    print(movieDict[n][0] + ' ' + str(movieDict[n][3]))\n",
    "averageRating /= float(K)"
   ]
  },
  {
   "cell_type": "code",
   "execution_count": 25,
   "metadata": {},
   "outputs": [
    {
     "name": "stdout",
     "output_type": "stream",
     "text": [
      "3.782701884124209\n"
     ]
    },
    {
     "data": {
      "text/plain": [
       "('Toy Story (1995)',\n",
       " array([0, 0, 0, 1, 1, 1, 0, 0, 0, 0, 0, 0, 0, 0, 0, 0, 0, 0, 0]),\n",
       " 451.9982847341338,\n",
       " 3.8783185840707963)"
      ]
     },
     "execution_count": 25,
     "metadata": {},
     "output_type": "execute_result"
    }
   ],
   "source": [
    "# Average rating of 10 nearest neighbours of Toy Story\n",
    "print(averageRating)\n",
    "movieDict[1]"
   ]
  }
 ],
 "metadata": {
  "kernelspec": {
   "display_name": "Python 3",
   "language": "python",
   "name": "python3"
  },
  "language_info": {
   "codemirror_mode": {
    "name": "ipython",
    "version": 3
   },
   "file_extension": ".py",
   "mimetype": "text/x-python",
   "name": "python",
   "nbconvert_exporter": "python",
   "pygments_lexer": "ipython3",
   "version": "3.7.4"
  }
 },
 "nbformat": 4,
 "nbformat_minor": 2
}

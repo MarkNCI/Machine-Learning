{
  "nbformat": 4,
  "nbformat_minor": 0,
  "metadata": {
    "colab": {
      "name": "Recomender_Metrics_Practical.ipynb",
      "provenance": [],
      "authorship_tag": "ABX9TyOhxUrd2yghmrlGWji8d8MU"
    },
    "kernelspec": {
      "name": "python3",
      "display_name": "Python 3"
    },
    "language_info": {
      "name": "python"
    }
  },
  "cells": [
    {
      "cell_type": "code",
      "metadata": {
        "id": "XQVuMl4_Mb11"
      },
      "source": [
        "!pip install scikit-surprise\n",
        "import itertools\n",
        "from surprise import accuracy\n",
        "from collections import defaultdict"
      ],
      "execution_count": null,
      "outputs": []
    },
    {
      "cell_type": "code",
      "metadata": {
        "id": "xtqlKEozP_M4"
      },
      "source": [
        "# Measure accuracy of recommender\n",
        "class RecommenderMetrics:\n",
        "\n",
        "  # Get Mean Absolute Error\n",
        "  def MAE(predictions):\n",
        "    return accuracy.mae(predictions, verbose=False)\n",
        "\n",
        "  # Get Root Mean Square Error\n",
        "  def RMSE(predictions):\n",
        "    return accuracy.rmse(predictions, verbose=False)\n",
        "\n",
        "  # Get Top 10 predicitions with minimum rating 4.0\n",
        "  def getTopN(predictions, n=10, minRating=4.0):\n",
        "    # defaultdict gives default empty values for unused keys\n",
        "    topN = defaultdict(list)\n",
        "\n",
        "\n",
        "    for userID, movieID, actualRating, estimatedRating, _ in predictions:\n",
        "      if(estimatedRating >= minRating):\n",
        "        topN[int(userID)].append((int(movieID), estimatedRating))\n",
        "    \n",
        "    for userID, ratings in topN.items():\n",
        "      ratings.sort(key = lambda x: x[1], reverse=True)\n",
        "      topN[int(userID)] = ratings[:n]\n",
        "\n",
        "    return topN"
      ],
      "execution_count": null,
      "outputs": []
    },
    {
      "cell_type": "code",
      "metadata": {
        "id": "aCadE3AASGc_"
      },
      "source": [
        "# Leave-One-Out Cross Validation\n",
        "def hitRate(topNPredicted, leftOutPredictions):\n",
        "  hits = 0\n",
        "  total = 0\n",
        "\n",
        "  # For each left-out rating\n",
        "  for leftOut in leftOutPredictions:\n",
        "    userID = leftOut[0]\n",
        "    leftOutMovieID = leftOut[1]\n",
        "    # Is it in user's predicted Top 10\n",
        "    hit = False\n",
        "    for movieID, predictedRating in topNPredicted[int(userID)]:\n",
        "      if (int(leftOutMovieID) == int(movieID)):\n",
        "        hit = True\n",
        "        break\n",
        "    if (hit):\n",
        "     hits += 1\n",
        "\n",
        "    total += 1\n",
        "\n",
        "  # Compute overall precision\n",
        "  return hits/total  "
      ],
      "execution_count": null,
      "outputs": []
    },
    {
      "cell_type": "code",
      "metadata": {
        "id": "Gym0xwJMVp3q"
      },
      "source": [
        "# Cumuative Hit Rank\n",
        "def cumuativeHitRank(topNPredicted, leftOutPredictions, ratingCutoff=0):\n",
        "  hits = 0\n",
        "  total = 0\n",
        "\n",
        "  hits = 0\n",
        "  total = 0\n",
        "\n",
        "  # For each left-out rating\n",
        "  for userID, leftOutMovieID, actualRating, estimateRating, _ in leftOutPredictions:\n",
        "    # Only look at ability to recommend what users actually liked\n",
        "    if (actualRating >= ratingCutoff):\n",
        "      # Is it in user's predicted Top 10\n",
        "      hit = False\n",
        "\n",
        "      for movieID, predictedRating in topNPredicted[int(userID)]:\n",
        "         if (int(leftOutMovieID) == movieID):\n",
        "           hit = True\n",
        "           break\n",
        "      if (hit):\n",
        "        hits += 1\n",
        "      \n",
        "      total += 1\n",
        "\n",
        "  # Compute overall precision\n",
        "  return hits/total  "
      ],
      "execution_count": null,
      "outputs": []
    },
    {
      "cell_type": "code",
      "metadata": {
        "id": "xLaGcJooXUDz"
      },
      "source": [
        "# Rating Hit Rate\n",
        "def ratingHitRate(topNPredicted,leftOutPredictions):\n",
        "  hits = defaultdict(float)\n",
        "  total = defaultdict(float)\n",
        "\n",
        "  # For each left-out rating\n",
        "  for userID, leftOutMovieID, actualRating, estimateRating, _ in leftOutPredictions:\n",
        "    # Only look at ability to recommend what users actually liked\n",
        "    hit = False\n",
        "    \n",
        "    for movieID, predictedRating in topNPredicted[int(userID)]:\n",
        "      if (int(leftOutMovieID) == movieID):\n",
        "        hit = True\n",
        "        break\n",
        "    if (hit):\n",
        "      hits[actualRating] += 1\n",
        "    \n",
        "    total[actualRating] += 1\n",
        "\n",
        "  # Compute overall precision\n",
        "  for rating in sorted(hits.keys()):\n",
        "    print(rating,hits[rating]/total[rating])"
      ],
      "execution_count": null,
      "outputs": []
    },
    {
      "cell_type": "code",
      "metadata": {
        "id": "dZm9PiYDYy7V"
      },
      "source": [
        "# Average Reciprocal Hit Rate\n",
        "def averageReciprocalHitRate(topNPredicted,leftOutPredictions):\n",
        "  summation = 0\n",
        "  total = 0\n",
        "\n",
        "  # For each left-out rating\n",
        "  for userID, leftOutMovieID, actualRating, estimateRating, _ in leftOutPredictions:\n",
        "    # Only look at ability to recommend what users actually liked\n",
        "    hitRank = 0\n",
        "    rank = 0\n",
        "    \n",
        "    for movieID, predictedRating in topNPredicted[int(userID)]:\n",
        "      rank = rank + 1\n",
        "      if (int(leftOutMovieID) == movieID):\n",
        "        hitRank = rank\n",
        "        break\n",
        "    if (hitRank > 0):\n",
        "      summation += 1.0/hitRank\n",
        "    \n",
        "    total += 1\n",
        "\n",
        "  return summation/total  "
      ],
      "execution_count": null,
      "outputs": []
    },
    {
      "cell_type": "code",
      "metadata": {
        "id": "w0fI-F8jZ4eE"
      },
      "source": [
        "# What % of users have at least 1 'good' recommendation\n",
        "def userCoverage(topNPredicted, numUsers, ratingThreshold=0):\n",
        "  hits = 0\n",
        "  for userID in topNPredicted.keys():\n",
        "    hit = False\n",
        "    for movieID, predictedRating in topNPredicted(userID):\n",
        "      if (predictedRating >= ratingThreshold):\n",
        "        hit = True\n",
        "        break\n",
        "    if (hit):\n",
        "      hits += 1\n",
        "  \n",
        "  return hits/numUsers"
      ],
      "execution_count": null,
      "outputs": []
    },
    {
      "cell_type": "code",
      "metadata": {
        "id": "_sEfjAcaa9uL"
      },
      "source": [
        "# How broad a varity of items system is giving users\n",
        "def Diversity(topNPredicted, simsAlgo):\n",
        "  n = 0\n",
        "  total = 0\n",
        "  simsMatrix = simsAlgo.compute_similarities()\n",
        "  for userID in topNPredicted.keys():\n",
        "    # Every combo of item pairs in Top N\n",
        "    pairs = itertools.combinations(topNPredicted[userID],2)\n",
        "    for pair in pairs:\n",
        "      movie1 = pair[0][0]\n",
        "      movie2 = pair[1][0]\n",
        "      # Surprise maintains internal ids for both sequential users and items\n",
        "      # Different from raw user/movieID so convert raw ids to inner ids\n",
        "      innerID1 = simsAlgo.trainset.to_inner_iid(str(movie1))\n",
        "      innerID2 = simsAlgo.trainset.to_inner_iid(str(movie2))\n",
        "      similarity = simsMatrix[innerID1][InnerID2]\n",
        "      total = similarity\n",
        "      n += 1\n",
        "\n",
        "  # Sum scores, get avg and subtract from 1\n",
        "  S = total/n\n",
        "  return (1-S)"
      ],
      "execution_count": null,
      "outputs": []
    },
    {
      "cell_type": "code",
      "metadata": {
        "id": "yPiw8qM6cgxS"
      },
      "source": [
        "# How popular the items are being recommended\n",
        "def Novelty(topNPredicted, rankings):\n",
        "  n = 0\n",
        "  total = 0\n",
        "  for userID in topNPredicted.keys():\n",
        "    for rating in topNPredicted[userID]:\n",
        "      movieID = ratings[0]\n",
        "      rank = rankings[movieID]\n",
        "      total += similarity\n",
        "      n += 1\n",
        "\n",
        "  return total/n    "
      ],
      "execution_count": null,
      "outputs": []
    }
  ]
}
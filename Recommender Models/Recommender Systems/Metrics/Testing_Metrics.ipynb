{
  "nbformat": 4,
  "nbformat_minor": 0,
  "metadata": {
    "colab": {
      "name": "Testing_Metrics.ipynb",
      "provenance": [],
      "authorship_tag": "ABX9TyPgqWdh4XUieEKCeDrGjFOD"
    },
    "kernelspec": {
      "name": "python3",
      "display_name": "Python 3"
    },
    "language_info": {
      "name": "python"
    }
  },
  "cells": [
    {
      "cell_type": "code",
      "metadata": {
        "colab": {
          "base_uri": "https://localhost:8080/"
        },
        "id": "ZJnZJcEJeBlF",
        "outputId": "10ba1d6d-4699-4c85-b83a-48af576ba625"
      },
      "source": [
        "!pip install scikit-surprise\n",
        "import os\n",
        "import csv\n",
        "import sys\n",
        "import re\n",
        "\n",
        "from surprise import Dataset\n",
        "from surprise import Reader\n",
        "\n",
        "from collections import defaultdict\n",
        "import numpy as np"
      ],
      "execution_count": 3,
      "outputs": [
        {
          "output_type": "stream",
          "text": [
            "Collecting scikit-surprise\n",
            "\u001b[?25l  Downloading https://files.pythonhosted.org/packages/97/37/5d334adaf5ddd65da99fc65f6507e0e4599d092ba048f4302fe8775619e8/scikit-surprise-1.1.1.tar.gz (11.8MB)\n",
            "\u001b[K     |████████████████████████████████| 11.8MB 5.4MB/s \n",
            "\u001b[?25hRequirement already satisfied: joblib>=0.11 in /usr/local/lib/python3.7/dist-packages (from scikit-surprise) (1.0.1)\n",
            "Requirement already satisfied: numpy>=1.11.2 in /usr/local/lib/python3.7/dist-packages (from scikit-surprise) (1.19.5)\n",
            "Requirement already satisfied: scipy>=1.0.0 in /usr/local/lib/python3.7/dist-packages (from scikit-surprise) (1.4.1)\n",
            "Requirement already satisfied: six>=1.10.0 in /usr/local/lib/python3.7/dist-packages (from scikit-surprise) (1.15.0)\n",
            "Building wheels for collected packages: scikit-surprise\n",
            "  Building wheel for scikit-surprise (setup.py) ... \u001b[?25l\u001b[?25hdone\n",
            "  Created wheel for scikit-surprise: filename=scikit_surprise-1.1.1-cp37-cp37m-linux_x86_64.whl size=1617555 sha256=7d12467096b57d7bb345a233c58e85fa1ab0ce351fedfd30a48628f5bbacea78\n",
            "  Stored in directory: /root/.cache/pip/wheels/78/9c/3d/41b419c9d2aff5b6e2b4c0fc8d25c538202834058f9ed110d0\n",
            "Successfully built scikit-surprise\n",
            "Installing collected packages: scikit-surprise\n",
            "Successfully installed scikit-surprise-1.1.1\n"
          ],
          "name": "stdout"
        }
      ]
    },
    {
      "cell_type": "code",
      "metadata": {
        "id": "GqW1Svx0fEwd"
      },
      "source": [
        "class MovieLens:\n",
        "\n",
        "    movieID_to_name = {}\n",
        "    name_to_movieID = {}\n",
        "    ratingsPath = 'ratings.csv'\n",
        "    moviesPath = 'movies.csv'"
      ],
      "execution_count": 4,
      "outputs": []
    },
    {
      "cell_type": "code",
      "metadata": {
        "id": "orhHEAm8freS"
      },
      "source": [
        "def loadMovieLensLatestSmall(self):\n",
        "  # Look for files in the directory we are running\n",
        "  os.chdir(os.path.dirname(sys.argv[0]))\n",
        "  ratingsDataset = 0\n",
        "  self.movieID_to_name = {}\n",
        "  self.name_to_movieID = {}\n",
        "\n",
        "  reader = Reader(line_format='user item rating timestamp', sep=',', skip_lines=1)\n",
        "\n",
        "  ratingsDataset = Dataset.load_from_file(self.ratingsPath, reader=reader)\n",
        "\n",
        "  with open(self.moviesPath, newline='', encoding='ISO-8859-1') as csvfile:\n",
        "     movieReader = csv.reader(csvfile)\n",
        "     #Skip header line\n",
        "     next(movieReader)\n",
        "     for row in movieReader:\n",
        "       movieID = int(row[0])\n",
        "       movieName = row[1]\n",
        "       self.movieID_to_name[movieID] = movieName\n",
        "       self.name_to_movieID[movieName] = movieID\n",
        "\n",
        "  return ratingsDataset"
      ],
      "execution_count": 6,
      "outputs": []
    },
    {
      "cell_type": "code",
      "metadata": {
        "id": "WwlGDEG8gKgj"
      },
      "source": [
        "def getUserRatings(self, user):\n",
        "  userRatings = []\n",
        "  hitUser = False\n",
        "  with open(self.ratingsPath, newline='') as csvfile:\n",
        "    ratingReader = csv.reader(csvfile)\n",
        "    next(ratingReader)\n",
        "    for row in ratingReader:\n",
        "      userID = int(row[0])\n",
        "      if (user == userID):\n",
        "        movieID = int(row[1])\n",
        "        rating = float(row[2])\n",
        "        userRatings.append((movieID, rating))\n",
        "        hitUser = True\n",
        "        if (hitUser and (user != userID)):\n",
        "          break\n",
        "\n",
        "  return userRatings"
      ],
      "execution_count": 7,
      "outputs": []
    },
    {
      "cell_type": "code",
      "metadata": {
        "id": "n3CFI78UgjCA"
      },
      "source": [
        ""
      ],
      "execution_count": null,
      "outputs": []
    }
  ]
}
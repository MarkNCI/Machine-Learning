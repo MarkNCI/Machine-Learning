{
  "nbformat": 4,
  "nbformat_minor": 0,
  "metadata": {
    "colab": {
      "name": "Recommender_Systems_Arch.ipynb",
      "provenance": [],
      "authorship_tag": "ABX9TyNRJH3mw7mQWZlDWYuUl7uH"
    },
    "kernelspec": {
      "name": "python3",
      "display_name": "Python 3"
    },
    "language_info": {
      "name": "python"
    }
  },
  "cells": [
    {
      "cell_type": "code",
      "metadata": {
        "id": "dVl7ThoBFruT"
      },
      "source": [
        "# Implicit ratings: purchase data/video viewing data/click data (Implicitly finding)\n",
        "# Explicit ratings: star reviews (Explicitly asking)\n",
        "\n",
        "# Top-N recommender: canditdate generation/fitering/ranking"
      ],
      "execution_count": null,
      "outputs": []
    }
  ]
}
{
  "nbformat": 4,
  "nbformat_minor": 0,
  "metadata": {
    "colab": {
      "name": "Recommender_Systems_Arch.ipynb",
      "provenance": [],
      "authorship_tag": "ABX9TyP+/A1rpqe5N7YZi5B7ldST"
    },
    "kernelspec": {
      "name": "python3",
      "display_name": "Python 3"
    },
    "language_info": {
      "name": "python"
    }
  },
  "cells": [
    {
      "cell_type": "code",
      "metadata": {
        "id": "dVl7ThoBFruT"
      },
      "source": [
        "# Implicit ratings: purchase data/video viewing data/click data (Implicitly finding)\n",
        "# Explicit ratings: star reviews (Explicitly asking)\n",
        "\n"
      ],
      "execution_count": null,
      "outputs": []
    }
  ]
}
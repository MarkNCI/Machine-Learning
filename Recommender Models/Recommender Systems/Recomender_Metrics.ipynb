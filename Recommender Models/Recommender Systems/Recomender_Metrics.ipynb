{
  "nbformat": 4,
  "nbformat_minor": 0,
  "metadata": {
    "colab": {
      "name": "Recomender_Metrics.ipynb",
      "provenance": [],
      "authorship_tag": "ABX9TyM6U/oFRR4zg4A/CAsGIWRy"
    },
    "kernelspec": {
      "name": "python3",
      "display_name": "Python 3"
    },
    "language_info": {
      "name": "python"
    }
  },
  "cells": [
    {
      "cell_type": "code",
      "metadata": {
        "id": "qlz6h30YIwEX"
      },
      "source": [
        "## Mean Absoulte Error (MAE)\n",
        "\n",
        "# Get difference between predicted and actual rating\n",
        "# Sum errors and divide by number of ratings\n",
        "# If prediction is 5,4,5,1 and actual is 3,1,4,1...\n",
        "# ... then MAE is prediction - actual then (2+3+1+0)/4 = 1.5"
      ],
      "execution_count": null,
      "outputs": []
    },
    {
      "cell_type": "code",
      "metadata": {
        "id": "abvm9FufKSjj"
      },
      "source": [
        "## Root Mean Square Error (RMSE)\n",
        "\n",
        "# More popular\n",
        "# "
      ],
      "execution_count": null,
      "outputs": []
    },
    {
      "cell_type": "code",
      "metadata": {
        "id": "vOs8S6baHKq-"
      },
      "source": [
        "# Train/Test and K-Fold Cross Validation used to measure accuracy"
      ],
      "execution_count": null,
      "outputs": []
    }
  ]
}
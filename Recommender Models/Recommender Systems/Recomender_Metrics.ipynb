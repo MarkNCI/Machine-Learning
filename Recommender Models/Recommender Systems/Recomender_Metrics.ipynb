{
  "nbformat": 4,
  "nbformat_minor": 0,
  "metadata": {
    "colab": {
      "name": "Recomender_Metrics.ipynb",
      "provenance": [],
      "authorship_tag": "ABX9TyM/oSVYhkTIREr0eZzNN8gw"
    },
    "kernelspec": {
      "name": "python3",
      "display_name": "Python 3"
    },
    "language_info": {
      "name": "python"
    }
  },
  "cells": [
    {
      "cell_type": "markdown",
      "metadata": {
        "id": "GHaJ0L_wOR5g"
      },
      "source": [
        "Measuring the Accuracy"
      ]
    },
    {
      "cell_type": "code",
      "metadata": {
        "id": "qlz6h30YIwEX"
      },
      "source": [
        "## Mean Absolute Error (MAE)\n",
        "\n",
        "# Get difference between predicted and actual rating\n",
        "# Sum errors and divide by number of ratings\n",
        "# If prediction is 5,4,5,1 and actual is 3,1,4,1...\n",
        "# ... then MAE is prediction - actual then (2+3+1+0)/4 = 1.5"
      ],
      "execution_count": null,
      "outputs": []
    },
    {
      "cell_type": "code",
      "metadata": {
        "id": "abvm9FufKSjj"
      },
      "source": [
        "## Root Mean Square Error (RMSE)\n",
        "\n",
        "# More popular (penalise more whne further away/less if closer)\n",
        "# Prediction - actual and square it\n",
        "# Add together, divide by num ratings and get square root\n",
        "# If prediction is 5,4,5,1 and actual is 3,1,4,1...\n",
        "# ... results are (4+9+1+0)/4 then square root = 1.87"
      ],
      "execution_count": null,
      "outputs": []
    },
    {
      "cell_type": "code",
      "metadata": {
        "id": "vOs8S6baHKq-"
      },
      "source": [
        "# Train/Test and K-Fold Cross Validation also used to measure accuracy"
      ],
      "execution_count": null,
      "outputs": []
    },
    {
      "cell_type": "markdown",
      "metadata": {
        "id": "5SPz03QnOZ5_"
      },
      "source": [
        "Evaluate Top-N Recommenders"
      ]
    },
    {
      "cell_type": "code",
      "metadata": {
        "id": "p4gRjF62OfrB"
      },
      "source": [
        "## Hit Rate\n",
        "\n",
        "# Generate Top-N recommendations. Hit if user has rated it\n",
        "# Sum hits and divide by num users\n",
        "# How to measure:"
      ],
      "execution_count": null,
      "outputs": []
    },
    {
      "cell_type": "code",
      "metadata": {
        "id": "0PxDc5_FPP7T"
      },
      "source": [
        "## Leave-One-Out Cross Validation\n",
        "\n",
        "# Compute Top-N recommendations for each user in training data\n",
        "# Remove one item from that user's data\n",
        "# Test if system can recommend that item\n",
        "# Hard to find one item\n",
        "# User focused, but needs large dataset"
      ],
      "execution_count": null,
      "outputs": []
    },
    {
      "cell_type": "code",
      "metadata": {
        "id": "EASP6UfvRzu8"
      },
      "source": [
        "## Average Reciprocal Hit Rate (ARHR)\n",
        "\n",
        "# Like Hit Rate, but accounts for where in Top-N list your hits are \n",
        "# More credit for correct predictions in top of list\n",
        "# Reciprocal: if predict 3rd item in list, score is 0.33 vs 1st item would be 1.0"
      ],
      "execution_count": null,
      "outputs": []
    },
    {
      "cell_type": "code",
      "metadata": {
        "id": "knCz9Z1fSlM1"
      },
      "source": [
        "## Cumuative Hit Rank (cHR)\n",
        "\n",
        "# Discard hits below a threshold\n",
        "# If threshold is 3 stars \n",
        "# So if hit rank is 4,2,1,10 and predicted rating is 5,3,5,2...\n",
        "# ... discard 2nd and 4th items in list"
      ],
      "execution_count": null,
      "outputs": []
    },
    {
      "cell_type": "code",
      "metadata": {
        "id": "F8_UTy0wTgeD"
      },
      "source": [
        "## Rating Hit Rate (rHR)\n",
        "\n",
        "# Break down by predicted rating score\n",
        "# Gives more detailed breakdown"
      ],
      "execution_count": null,
      "outputs": []
    },
    {
      "cell_type": "markdown",
      "metadata": {
        "id": "Px397IJqUiBZ"
      },
      "source": [
        "Coverage, Diversity and Novelty"
      ]
    },
    {
      "cell_type": "code",
      "metadata": {
        "id": "UWnie3hdUmhp"
      },
      "source": [
        "## Coverage\n",
        "\n",
        "# Percentage of possible recommendations that system can give\n",
        "\n",
        "\n",
        "## Diversity\n",
        "\n",
        "# How broad a varity of items system is giving users\n",
        "\n",
        "## STOPPED AT 1:33"
      ],
      "execution_count": null,
      "outputs": []
    }
  ]
}